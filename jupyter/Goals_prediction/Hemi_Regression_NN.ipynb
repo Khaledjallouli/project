{
  "nbformat": 4,
  "nbformat_minor": 0,
  "metadata": {
    "colab": {
      "name": "Regression_NN_soccer.ipynb",
      "provenance": [],
      "collapsed_sections": []
    },
    "kernelspec": {
      "name": "python3",
      "display_name": "Python 3"
    }
  },
  "cells": [
    {
      "cell_type": "code",
      "metadata": {
        "id": "Y3x41jfjwGDx",
        "colab_type": "code",
        "colab": {}
      },
      "source": [
        "import pandas as pd\n",
        "import numpy as np\n",
        "import tensorflow as tf\n"
      ],
      "execution_count": 0,
      "outputs": []
    },
    {
      "cell_type": "code",
      "metadata": {
        "id": "pHOSoxkrwa2Y",
        "colab_type": "code",
        "colab": {}
      },
      "source": [
        "dataset=pd.read_csv('sliding02_goals.csv')\n",
        "y= dataset.iloc[:,1:3].values\n",
        "X= dataset.iloc[:,3:].values\n"
      ],
      "execution_count": 0,
      "outputs": []
    },
    {
      "cell_type": "code",
      "metadata": {
        "id": "B424eAkQycDE",
        "colab_type": "code",
        "colab": {}
      },
      "source": [
        "from sklearn.model_selection import train_test_split\n",
        "X_train,X_test,y_train,y_test= train_test_split(X,y,test_size=0.2, random_state=0)"
      ],
      "execution_count": 0,
      "outputs": []
    },
    {
      "cell_type": "code",
      "metadata": {
        "id": "ajfbmZ3xxrrq",
        "colab_type": "code",
        "colab": {}
      },
      "source": [
        "from sklearn.preprocessing import StandardScaler\n",
        "sc= StandardScaler()\n",
        "X_train= sc.fit_transform(X_train)\n",
        "X_test= sc.fit_transform(X_test)"
      ],
      "execution_count": 0,
      "outputs": []
    },
    {
      "cell_type": "code",
      "metadata": {
        "id": "609pddVHy_V1",
        "colab_type": "code",
        "colab": {}
      },
      "source": [
        "ann= tf.keras.models.Sequential()\n",
        "ann.add(tf.keras.layers.Dense(units=10, activation='relu'))\n",
        "ann.add(tf.keras.layers.Dense(units=10,activation='relu'))\n",
        "ann.add(tf.keras.layers.Dense(units=10, activation='relu'))\n",
        "ann.add(tf.keras.layers.Dense(units=2))"
      ],
      "execution_count": 0,
      "outputs": []
    },
    {
      "cell_type": "code",
      "metadata": {
        "id": "fkTrTl0l00Qw",
        "colab_type": "code",
        "colab": {}
      },
      "source": [
        "ann.compile(optimizer='adam',loss='mean_squared_error',metrics=[tf.keras.metrics.RootMeanSquaredError()])"
      ],
      "execution_count": 0,
      "outputs": []
    },
    {
      "cell_type": "code",
      "metadata": {
        "id": "8_lOE0P214Ra",
        "colab_type": "code",
        "outputId": "cdb1c500-384b-406c-e152-efca5f010682",
        "colab": {
          "base_uri": "https://localhost:8080/",
          "height": 714
        }
      },
      "source": [
        "ann.fit(X_train,y_train,batch_size=100,epochs=20)"
      ],
      "execution_count": 0,
      "outputs": [
        {
          "output_type": "stream",
          "text": [
            "Epoch 1/20\n",
            "57/57 [==============================] - 0s 2ms/step - loss: 2.4812 - root_mean_squared_error: 1.5752\n",
            "Epoch 2/20\n",
            "57/57 [==============================] - 0s 1ms/step - loss: 1.6876 - root_mean_squared_error: 1.2991\n",
            "Epoch 3/20\n",
            "57/57 [==============================] - 0s 2ms/step - loss: 1.5345 - root_mean_squared_error: 1.2388\n",
            "Epoch 4/20\n",
            "57/57 [==============================] - 0s 2ms/step - loss: 1.4827 - root_mean_squared_error: 1.2176\n",
            "Epoch 5/20\n",
            "57/57 [==============================] - 0s 2ms/step - loss: 1.4517 - root_mean_squared_error: 1.2048\n",
            "Epoch 6/20\n",
            "57/57 [==============================] - 0s 1ms/step - loss: 1.4298 - root_mean_squared_error: 1.1957\n",
            "Epoch 7/20\n",
            "57/57 [==============================] - 0s 1ms/step - loss: 1.4140 - root_mean_squared_error: 1.1891\n",
            "Epoch 8/20\n",
            "57/57 [==============================] - 0s 1ms/step - loss: 1.4005 - root_mean_squared_error: 1.1834\n",
            "Epoch 9/20\n",
            "57/57 [==============================] - 0s 1ms/step - loss: 1.3888 - root_mean_squared_error: 1.1785\n",
            "Epoch 10/20\n",
            "57/57 [==============================] - 0s 1ms/step - loss: 1.3790 - root_mean_squared_error: 1.1743\n",
            "Epoch 11/20\n",
            "57/57 [==============================] - 0s 1ms/step - loss: 1.3724 - root_mean_squared_error: 1.1715\n",
            "Epoch 12/20\n",
            "57/57 [==============================] - 0s 1ms/step - loss: 1.3650 - root_mean_squared_error: 1.1683\n",
            "Epoch 13/20\n",
            "57/57 [==============================] - 0s 1ms/step - loss: 1.3589 - root_mean_squared_error: 1.1657\n",
            "Epoch 14/20\n",
            "57/57 [==============================] - 0s 1ms/step - loss: 1.3532 - root_mean_squared_error: 1.1633\n",
            "Epoch 15/20\n",
            "57/57 [==============================] - 0s 1ms/step - loss: 1.3481 - root_mean_squared_error: 1.1611\n",
            "Epoch 16/20\n",
            "57/57 [==============================] - 0s 1ms/step - loss: 1.3451 - root_mean_squared_error: 1.1598\n",
            "Epoch 17/20\n",
            "57/57 [==============================] - 0s 1ms/step - loss: 1.3405 - root_mean_squared_error: 1.1578\n",
            "Epoch 18/20\n",
            "57/57 [==============================] - 0s 1ms/step - loss: 1.3371 - root_mean_squared_error: 1.1563\n",
            "Epoch 19/20\n",
            "57/57 [==============================] - 0s 2ms/step - loss: 1.3346 - root_mean_squared_error: 1.1553\n",
            "Epoch 20/20\n",
            "57/57 [==============================] - 0s 2ms/step - loss: 1.3315 - root_mean_squared_error: 1.1539\n"
          ],
          "name": "stdout"
        },
        {
          "output_type": "execute_result",
          "data": {
            "text/plain": [
              "<tensorflow.python.keras.callbacks.History at 0x7efc0b3097f0>"
            ]
          },
          "metadata": {
            "tags": []
          },
          "execution_count": 39
        }
      ]
    },
    {
      "cell_type": "code",
      "metadata": {
        "id": "C0TqB82S2NuR",
        "colab_type": "code",
        "colab": {}
      },
      "source": [
        "y_pred= ann.predict(X_test)\n",
        "y_pred=(y_pred>0.5)"
      ],
      "execution_count": 0,
      "outputs": []
    },
    {
      "cell_type": "code",
      "metadata": {
        "id": "R7K1WB6u2Vs3",
        "colab_type": "code",
        "outputId": "140c3a38-a454-45ae-f8f7-dd1e8facb835",
        "colab": {
          "base_uri": "https://localhost:8080/",
          "height": 136
        }
      },
      "source": [
        "np.set_printoptions(precision=2)\n",
        "print(np.concatenate((y_pred.reshape(len(y_pred),2),y_test.reshape(len(y_test),2)),1))"
      ],
      "execution_count": 0,
      "outputs": [
        {
          "output_type": "stream",
          "text": [
            "[[1.91 0.85 2.   3.  ]\n",
            " [0.89 1.57 2.   2.  ]\n",
            " [1.97 0.81 2.   2.  ]\n",
            " ...\n",
            " [1.71 1.29 1.   2.  ]\n",
            " [1.36 1.25 2.   0.  ]\n",
            " [1.43 1.03 1.   3.  ]]\n"
          ],
          "name": "stdout"
        }
      ]
    },
    {
      "cell_type": "markdown",
      "metadata": {
        "id": "F6eLyKohKaOn",
        "colab_type": "text"
      },
      "source": [
        "#USING MEAN_SQUARED_LOGARITHMIC_ERROR"
      ]
    },
    {
      "cell_type": "code",
      "metadata": {
        "id": "7uLMSRzvIHr5",
        "colab_type": "code",
        "colab": {}
      },
      "source": [
        "ann.compile(optimizer='adam',loss='mean_squared_logarithmic_error',metrics='accuracy')"
      ],
      "execution_count": 0,
      "outputs": []
    },
    {
      "cell_type": "code",
      "metadata": {
        "id": "9FYv3V8pJoQk",
        "colab_type": "code",
        "colab": {
          "base_uri": "https://localhost:8080/",
          "height": 714
        },
        "outputId": "d0b597f8-f679-4189-d504-f504a3033814"
      },
      "source": [
        "ann.fit(X_train,y_train,batch_size=100,epochs=20)"
      ],
      "execution_count": 9,
      "outputs": [
        {
          "output_type": "stream",
          "text": [
            "Epoch 1/20\n",
            "57/57 [==============================] - 0s 2ms/step - loss: 0.2451 - accuracy: 0.7110\n",
            "Epoch 2/20\n",
            "57/57 [==============================] - 0s 1ms/step - loss: 0.2445 - accuracy: 0.7140\n",
            "Epoch 3/20\n",
            "57/57 [==============================] - 0s 1ms/step - loss: 0.2441 - accuracy: 0.7138\n",
            "Epoch 4/20\n",
            "57/57 [==============================] - 0s 1ms/step - loss: 0.2436 - accuracy: 0.7117\n",
            "Epoch 5/20\n",
            "57/57 [==============================] - 0s 2ms/step - loss: 0.2434 - accuracy: 0.7169\n",
            "Epoch 6/20\n",
            "57/57 [==============================] - 0s 2ms/step - loss: 0.2431 - accuracy: 0.7128\n",
            "Epoch 7/20\n",
            "57/57 [==============================] - 0s 2ms/step - loss: 0.2430 - accuracy: 0.7128\n",
            "Epoch 8/20\n",
            "57/57 [==============================] - 0s 2ms/step - loss: 0.2426 - accuracy: 0.7144\n",
            "Epoch 9/20\n",
            "57/57 [==============================] - 0s 2ms/step - loss: 0.2424 - accuracy: 0.7138\n",
            "Epoch 10/20\n",
            "57/57 [==============================] - 0s 2ms/step - loss: 0.2422 - accuracy: 0.7135\n",
            "Epoch 11/20\n",
            "57/57 [==============================] - 0s 2ms/step - loss: 0.2420 - accuracy: 0.7144\n",
            "Epoch 12/20\n",
            "57/57 [==============================] - 0s 2ms/step - loss: 0.2416 - accuracy: 0.7151\n",
            "Epoch 13/20\n",
            "57/57 [==============================] - 0s 2ms/step - loss: 0.2413 - accuracy: 0.7142\n",
            "Epoch 14/20\n",
            "57/57 [==============================] - 0s 2ms/step - loss: 0.2413 - accuracy: 0.7147\n",
            "Epoch 15/20\n",
            "57/57 [==============================] - 0s 2ms/step - loss: 0.2411 - accuracy: 0.7124\n",
            "Epoch 16/20\n",
            "57/57 [==============================] - 0s 2ms/step - loss: 0.2408 - accuracy: 0.7133\n",
            "Epoch 17/20\n",
            "57/57 [==============================] - 0s 2ms/step - loss: 0.2409 - accuracy: 0.7142\n",
            "Epoch 18/20\n",
            "57/57 [==============================] - 0s 1ms/step - loss: 0.2406 - accuracy: 0.7135\n",
            "Epoch 19/20\n",
            "57/57 [==============================] - 0s 1ms/step - loss: 0.2405 - accuracy: 0.7167\n",
            "Epoch 20/20\n",
            "57/57 [==============================] - 0s 1ms/step - loss: 0.2404 - accuracy: 0.7147\n"
          ],
          "name": "stdout"
        },
        {
          "output_type": "execute_result",
          "data": {
            "text/plain": [
              "<tensorflow.python.keras.callbacks.History at 0x7f3a4e54a278>"
            ]
          },
          "metadata": {
            "tags": []
          },
          "execution_count": 9
        }
      ]
    },
    {
      "cell_type": "code",
      "metadata": {
        "id": "P80ds75DJ4rG",
        "colab_type": "code",
        "colab": {
          "base_uri": "https://localhost:8080/",
          "height": 136
        },
        "outputId": "b3dba1b4-af96-442e-eed3-c45d5ba16e49"
      },
      "source": [
        "y_pred= ann.predict(X_test)\n",
        "y_pred=(y_pred>0.5)\n",
        "np.set_printoptions(precision=2)\n",
        "print(np.concatenate((y_pred.reshape(len(y_pred),2),y_test.reshape(len(y_test),2)),1))"
      ],
      "execution_count": 11,
      "outputs": [
        {
          "output_type": "stream",
          "text": [
            "[[1 1 2 3]\n",
            " [1 1 2 2]\n",
            " [1 1 2 2]\n",
            " ...\n",
            " [1 1 1 2]\n",
            " [1 1 2 0]\n",
            " [1 1 1 3]]\n"
          ],
          "name": "stdout"
        }
      ]
    },
    {
      "cell_type": "markdown",
      "metadata": {
        "id": "q9FNar_5KkhU",
        "colab_type": "text"
      },
      "source": [
        "#Mean Absolute Error Loss"
      ]
    },
    {
      "cell_type": "code",
      "metadata": {
        "id": "kDeEpwvWKyjj",
        "colab_type": "code",
        "colab": {
          "base_uri": "https://localhost:8080/",
          "height": 816
        },
        "outputId": "9b06cfa4-f02b-49eb-8605-b47e435dfc0f"
      },
      "source": [
        "ann.compile(optimizer='adam',loss='mean_absolute_error',metrics=[tf.keras.metrics.RootMeanSquaredError()])\n",
        "ann.fit(X_train,y_train,batch_size=100,epochs=20)\n",
        "y_pred= ann.predict(X_test)\n",
        "y_pred=(y_pred>0.5)\n",
        "np.set_printoptions(precision=2)\n",
        "print(np.concatenate((y_pred.reshape(len(y_pred),2),y_test.reshape(len(y_test),2)),1))"
      ],
      "execution_count": 13,
      "outputs": [
        {
          "output_type": "stream",
          "text": [
            "Epoch 1/20\n",
            "57/57 [==============================] - 0s 1ms/step - loss: 0.8736 - root_mean_squared_error: 1.1632\n",
            "Epoch 2/20\n",
            "57/57 [==============================] - 0s 1ms/step - loss: 0.8729 - root_mean_squared_error: 1.1623\n",
            "Epoch 3/20\n",
            "57/57 [==============================] - 0s 1ms/step - loss: 0.8723 - root_mean_squared_error: 1.1610\n",
            "Epoch 4/20\n",
            "57/57 [==============================] - 0s 2ms/step - loss: 0.8725 - root_mean_squared_error: 1.1615\n",
            "Epoch 5/20\n",
            "57/57 [==============================] - 0s 1ms/step - loss: 0.8720 - root_mean_squared_error: 1.1624\n",
            "Epoch 6/20\n",
            "57/57 [==============================] - 0s 2ms/step - loss: 0.8718 - root_mean_squared_error: 1.1617\n",
            "Epoch 7/20\n",
            "57/57 [==============================] - 0s 2ms/step - loss: 0.8714 - root_mean_squared_error: 1.1605\n",
            "Epoch 8/20\n",
            "57/57 [==============================] - 0s 2ms/step - loss: 0.8710 - root_mean_squared_error: 1.1616\n",
            "Epoch 9/20\n",
            "57/57 [==============================] - 0s 2ms/step - loss: 0.8715 - root_mean_squared_error: 1.1609\n",
            "Epoch 10/20\n",
            "57/57 [==============================] - 0s 2ms/step - loss: 0.8709 - root_mean_squared_error: 1.1627\n",
            "Epoch 11/20\n",
            "57/57 [==============================] - 0s 2ms/step - loss: 0.8706 - root_mean_squared_error: 1.1631\n",
            "Epoch 12/20\n",
            "57/57 [==============================] - 0s 2ms/step - loss: 0.8707 - root_mean_squared_error: 1.1610\n",
            "Epoch 13/20\n",
            "57/57 [==============================] - 0s 2ms/step - loss: 0.8703 - root_mean_squared_error: 1.1611\n",
            "Epoch 14/20\n",
            "57/57 [==============================] - 0s 2ms/step - loss: 0.8700 - root_mean_squared_error: 1.1614\n",
            "Epoch 15/20\n",
            "57/57 [==============================] - 0s 2ms/step - loss: 0.8696 - root_mean_squared_error: 1.1601\n",
            "Epoch 16/20\n",
            "57/57 [==============================] - 0s 2ms/step - loss: 0.8696 - root_mean_squared_error: 1.1610\n",
            "Epoch 17/20\n",
            "57/57 [==============================] - 0s 2ms/step - loss: 0.8695 - root_mean_squared_error: 1.1623\n",
            "Epoch 18/20\n",
            "57/57 [==============================] - 0s 2ms/step - loss: 0.8691 - root_mean_squared_error: 1.1619\n",
            "Epoch 19/20\n",
            "57/57 [==============================] - 0s 2ms/step - loss: 0.8689 - root_mean_squared_error: 1.1600\n",
            "Epoch 20/20\n",
            "57/57 [==============================] - 0s 2ms/step - loss: 0.8690 - root_mean_squared_error: 1.1624\n",
            "[[1 1 2 3]\n",
            " [1 1 2 2]\n",
            " [1 1 2 2]\n",
            " ...\n",
            " [1 1 1 2]\n",
            " [1 1 2 0]\n",
            " [1 1 1 3]]\n"
          ],
          "name": "stdout"
        }
      ]
    }
  ]
}