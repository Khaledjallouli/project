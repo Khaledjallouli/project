{
  "nbformat": 4,
  "nbformat_minor": 0,
  "metadata": {
    "accelerator": "GPU",
    "colab": {
      "name": "Regression_Model_Sliding03_ANN.ipynb",
      "provenance": [],
      "collapsed_sections": []
    },
    "kernelspec": {
      "display_name": "Python 3",
      "language": "python",
      "name": "python3"
    },
    "language_info": {
      "codemirror_mode": {
        "name": "ipython",
        "version": 3
      },
      "file_extension": ".py",
      "mimetype": "text/x-python",
      "name": "python",
      "nbconvert_exporter": "python",
      "pygments_lexer": "ipython3",
      "version": "3.7.3"
    }
  },
  "cells": [
    {
      "cell_type": "markdown",
      "metadata": {
        "id": "EMQmP-Bknt5P",
        "colab_type": "text"
      },
      "source": [
        "# Regression\n",
        "Predict the final goals scored per each team."
      ]
    },
    {
      "cell_type": "code",
      "metadata": {
        "colab_type": "code",
        "id": "FtJth4hT577a",
        "colab": {}
      },
      "source": [
        "import numpy as np\n",
        "import matplotlib.pyplot as plt\n",
        "%matplotlib inline\n",
        "import pandas as pd\n",
        "pd.set_option('display.max_columns', 999)\n",
        "\n",
        "from sklearn import preprocessing\n",
        "from sklearn.model_selection import train_test_split\n",
        "\n",
        "import tensorflow as tf\n",
        "from tensorflow.estimator import inputs\n",
        "from tensorflow import feature_column\n",
        "from tensorflow.keras import layers\n",
        "from tensorflow.keras import regularizers\n",
        "from tensorflow import keras\n",
        "from tensorflow.keras.callbacks import EarlyStopping\n",
        "\n",
        "from tensorflow.keras.models import load_model\n",
        "\n",
        "\n",
        "import tensorflow_docs as tfdocs\n",
        "import tensorflow_docs.modeling\n",
        "import tensorflow_docs.plots\n",
        "\n",
        "from  IPython import display\n",
        "from matplotlib import pyplot as plt\n",
        "\n",
        "import numpy as np\n",
        "import math\n",
        "\n",
        "import pathlib\n",
        "import shutil\n",
        "import tempfile"
      ],
      "execution_count": 0,
      "outputs": []
    },
    {
      "cell_type": "code",
      "metadata": {
        "id": "nVI7Xp89n15I",
        "colab_type": "code",
        "outputId": "23e3a9ec-9ab5-4c7a-c688-bcbbacf353ab",
        "colab": {
          "base_uri": "https://localhost:8080/",
          "height": 309
        }
      },
      "source": [
        "pip install git+https://github.com/tensorflow/docs"
      ],
      "execution_count": 2,
      "outputs": [
        {
          "output_type": "stream",
          "text": [
            "Collecting git+https://github.com/tensorflow/docs\n",
            "  Cloning https://github.com/tensorflow/docs to /tmp/pip-req-build-zxncl4an\n",
            "  Running command git clone -q https://github.com/tensorflow/docs /tmp/pip-req-build-zxncl4an\n",
            "Requirement already satisfied: astor in /usr/local/lib/python3.6/dist-packages (from tensorflow-docs===0.0.08f33bfd07a3990ed05925c186c765baf687d1bd0-) (0.8.1)\n",
            "Requirement already satisfied: absl-py in /usr/local/lib/python3.6/dist-packages (from tensorflow-docs===0.0.08f33bfd07a3990ed05925c186c765baf687d1bd0-) (0.9.0)\n",
            "Requirement already satisfied: protobuf in /usr/local/lib/python3.6/dist-packages (from tensorflow-docs===0.0.08f33bfd07a3990ed05925c186c765baf687d1bd0-) (3.10.0)\n",
            "Requirement already satisfied: pyyaml in /usr/local/lib/python3.6/dist-packages (from tensorflow-docs===0.0.08f33bfd07a3990ed05925c186c765baf687d1bd0-) (3.13)\n",
            "Requirement already satisfied: six in /usr/local/lib/python3.6/dist-packages (from absl-py->tensorflow-docs===0.0.08f33bfd07a3990ed05925c186c765baf687d1bd0-) (1.12.0)\n",
            "Requirement already satisfied: setuptools in /usr/local/lib/python3.6/dist-packages (from protobuf->tensorflow-docs===0.0.08f33bfd07a3990ed05925c186c765baf687d1bd0-) (47.1.1)\n",
            "Building wheels for collected packages: tensorflow-docs\n",
            "  Building wheel for tensorflow-docs (setup.py) ... \u001b[?25l\u001b[?25hdone\n",
            "  Created wheel for tensorflow-docs: filename=tensorflow_docs-0.0.08f33bfd07a3990ed05925c186c765baf687d1bd0_-cp36-none-any.whl size=114636 sha256=45fe81cc50ee0b2d3cb2963373135ca03c9a390c241c427913a33a6ff346ecbe\n",
            "  Stored in directory: /tmp/pip-ephem-wheel-cache-ne22ofjc/wheels/eb/1b/35/fce87697be00d2fc63e0b4b395b0d9c7e391a10e98d9a0d97f\n",
            "Successfully built tensorflow-docs\n",
            "Installing collected packages: tensorflow-docs\n",
            "Successfully installed tensorflow-docs-0.0.08f33bfd07a3990ed05925c186c765baf687d1bd0-\n"
          ],
          "name": "stdout"
        }
      ]
    },
    {
      "cell_type": "markdown",
      "metadata": {
        "id": "pmP557n8nt5X",
        "colab_type": "text"
      },
      "source": [
        "## Data Preprocessing\n",
        "    1. Normalization\n",
        "    2. Data encoding: The goals [0,10] => [-1,1]. If Goal > 10 => 1"
      ]
    },
    {
      "cell_type": "code",
      "metadata": {
        "id": "u_NuYqrJnt5Y",
        "colab_type": "code",
        "colab": {}
      },
      "source": [
        "df03 = pd.read_csv('https://raw.githubusercontent.com/Khaledjallouli/project/master/data/data_regression_goals/sliding03_goals.csv', sep=',', index_col=0)"
      ],
      "execution_count": 0,
      "outputs": []
    },
    {
      "cell_type": "code",
      "metadata": {
        "id": "MFm2Qfk2nt5c",
        "colab_type": "code",
        "outputId": "d6bb5e84-af9f-429d-8e57-e08ec008b786",
        "colab": {
          "base_uri": "https://localhost:8080/",
          "height": 473
        }
      },
      "source": [
        "df03"
      ],
      "execution_count": 5,
      "outputs": [
        {
          "output_type": "execute_result",
          "data": {
            "text/html": [
              "<div>\n",
              "<style scoped>\n",
              "    .dataframe tbody tr th:only-of-type {\n",
              "        vertical-align: middle;\n",
              "    }\n",
              "\n",
              "    .dataframe tbody tr th {\n",
              "        vertical-align: top;\n",
              "    }\n",
              "\n",
              "    .dataframe thead th {\n",
              "        text-align: right;\n",
              "    }\n",
              "</style>\n",
              "<table border=\"1\" class=\"dataframe\">\n",
              "  <thead>\n",
              "    <tr style=\"text-align: right;\">\n",
              "      <th></th>\n",
              "      <th>home_team_goal</th>\n",
              "      <th>away_team_goal</th>\n",
              "      <th>odds-home</th>\n",
              "      <th>odds-draw</th>\n",
              "      <th>odds-away</th>\n",
              "      <th>home-wins</th>\n",
              "      <th>home-draws</th>\n",
              "      <th>home-losses</th>\n",
              "      <th>home-goals</th>\n",
              "      <th>home-opposition-goals</th>\n",
              "      <th>home-shots</th>\n",
              "      <th>home-shots_on_target</th>\n",
              "      <th>home-opposition_shots</th>\n",
              "      <th>home-opposition_shots_on_target</th>\n",
              "      <th>away-wins</th>\n",
              "      <th>away-draws</th>\n",
              "      <th>away-losses</th>\n",
              "      <th>away-goals</th>\n",
              "      <th>away-opposition-goals</th>\n",
              "      <th>away-shots</th>\n",
              "      <th>away-shots_on_target</th>\n",
              "      <th>away-opposition_shots</th>\n",
              "      <th>away-opposition_shots_on_target</th>\n",
              "      <th>home_shot_accuracy</th>\n",
              "      <th>home_shot_efficiency</th>\n",
              "      <th>home_opposition_shot_accuracy</th>\n",
              "      <th>home_opposition_shot_efficiency</th>\n",
              "      <th>away_shot_accuracy</th>\n",
              "      <th>away_shot_efficiency</th>\n",
              "      <th>away_opposition_shot_accuracy</th>\n",
              "      <th>away_opposition_shot_efficiency</th>\n",
              "    </tr>\n",
              "  </thead>\n",
              "  <tbody>\n",
              "    <tr>\n",
              "      <th>0</th>\n",
              "      <td>2</td>\n",
              "      <td>1</td>\n",
              "      <td>3.50</td>\n",
              "      <td>3.30</td>\n",
              "      <td>2.10</td>\n",
              "      <td>1</td>\n",
              "      <td>3</td>\n",
              "      <td>6</td>\n",
              "      <td>11</td>\n",
              "      <td>16</td>\n",
              "      <td>137</td>\n",
              "      <td>67</td>\n",
              "      <td>117</td>\n",
              "      <td>53</td>\n",
              "      <td>8</td>\n",
              "      <td>2</td>\n",
              "      <td>0</td>\n",
              "      <td>15</td>\n",
              "      <td>6</td>\n",
              "      <td>161</td>\n",
              "      <td>78</td>\n",
              "      <td>72</td>\n",
              "      <td>30</td>\n",
              "      <td>0.489051</td>\n",
              "      <td>0.164179</td>\n",
              "      <td>0.452991</td>\n",
              "      <td>0.301887</td>\n",
              "      <td>0.484472</td>\n",
              "      <td>0.192308</td>\n",
              "      <td>0.416667</td>\n",
              "      <td>0.200000</td>\n",
              "    </tr>\n",
              "    <tr>\n",
              "      <th>1</th>\n",
              "      <td>2</td>\n",
              "      <td>2</td>\n",
              "      <td>2.50</td>\n",
              "      <td>3.30</td>\n",
              "      <td>2.88</td>\n",
              "      <td>3</td>\n",
              "      <td>1</td>\n",
              "      <td>6</td>\n",
              "      <td>8</td>\n",
              "      <td>16</td>\n",
              "      <td>134</td>\n",
              "      <td>64</td>\n",
              "      <td>151</td>\n",
              "      <td>77</td>\n",
              "      <td>3</td>\n",
              "      <td>3</td>\n",
              "      <td>4</td>\n",
              "      <td>11</td>\n",
              "      <td>18</td>\n",
              "      <td>104</td>\n",
              "      <td>44</td>\n",
              "      <td>87</td>\n",
              "      <td>36</td>\n",
              "      <td>0.477612</td>\n",
              "      <td>0.125000</td>\n",
              "      <td>0.509934</td>\n",
              "      <td>0.207792</td>\n",
              "      <td>0.423077</td>\n",
              "      <td>0.250000</td>\n",
              "      <td>0.413793</td>\n",
              "      <td>0.500000</td>\n",
              "    </tr>\n",
              "    <tr>\n",
              "      <th>2</th>\n",
              "      <td>1</td>\n",
              "      <td>2</td>\n",
              "      <td>1.91</td>\n",
              "      <td>3.40</td>\n",
              "      <td>4.20</td>\n",
              "      <td>4</td>\n",
              "      <td>2</td>\n",
              "      <td>4</td>\n",
              "      <td>10</td>\n",
              "      <td>15</td>\n",
              "      <td>120</td>\n",
              "      <td>58</td>\n",
              "      <td>124</td>\n",
              "      <td>56</td>\n",
              "      <td>2</td>\n",
              "      <td>2</td>\n",
              "      <td>6</td>\n",
              "      <td>11</td>\n",
              "      <td>15</td>\n",
              "      <td>134</td>\n",
              "      <td>59</td>\n",
              "      <td>100</td>\n",
              "      <td>46</td>\n",
              "      <td>0.483333</td>\n",
              "      <td>0.172414</td>\n",
              "      <td>0.451613</td>\n",
              "      <td>0.267857</td>\n",
              "      <td>0.440299</td>\n",
              "      <td>0.186441</td>\n",
              "      <td>0.460000</td>\n",
              "      <td>0.326087</td>\n",
              "    </tr>\n",
              "    <tr>\n",
              "      <th>3</th>\n",
              "      <td>2</td>\n",
              "      <td>1</td>\n",
              "      <td>3.25</td>\n",
              "      <td>3.25</td>\n",
              "      <td>2.30</td>\n",
              "      <td>5</td>\n",
              "      <td>2</td>\n",
              "      <td>3</td>\n",
              "      <td>22</td>\n",
              "      <td>12</td>\n",
              "      <td>177</td>\n",
              "      <td>82</td>\n",
              "      <td>74</td>\n",
              "      <td>37</td>\n",
              "      <td>6</td>\n",
              "      <td>3</td>\n",
              "      <td>1</td>\n",
              "      <td>19</td>\n",
              "      <td>8</td>\n",
              "      <td>169</td>\n",
              "      <td>95</td>\n",
              "      <td>113</td>\n",
              "      <td>58</td>\n",
              "      <td>0.463277</td>\n",
              "      <td>0.268293</td>\n",
              "      <td>0.500000</td>\n",
              "      <td>0.324324</td>\n",
              "      <td>0.562130</td>\n",
              "      <td>0.200000</td>\n",
              "      <td>0.513274</td>\n",
              "      <td>0.137931</td>\n",
              "    </tr>\n",
              "    <tr>\n",
              "      <th>4</th>\n",
              "      <td>3</td>\n",
              "      <td>0</td>\n",
              "      <td>1.20</td>\n",
              "      <td>6.00</td>\n",
              "      <td>19.00</td>\n",
              "      <td>7</td>\n",
              "      <td>2</td>\n",
              "      <td>1</td>\n",
              "      <td>15</td>\n",
              "      <td>8</td>\n",
              "      <td>161</td>\n",
              "      <td>72</td>\n",
              "      <td>74</td>\n",
              "      <td>31</td>\n",
              "      <td>3</td>\n",
              "      <td>2</td>\n",
              "      <td>5</td>\n",
              "      <td>10</td>\n",
              "      <td>17</td>\n",
              "      <td>143</td>\n",
              "      <td>69</td>\n",
              "      <td>134</td>\n",
              "      <td>69</td>\n",
              "      <td>0.447205</td>\n",
              "      <td>0.208333</td>\n",
              "      <td>0.418919</td>\n",
              "      <td>0.258065</td>\n",
              "      <td>0.482517</td>\n",
              "      <td>0.144928</td>\n",
              "      <td>0.514925</td>\n",
              "      <td>0.246377</td>\n",
              "    </tr>\n",
              "    <tr>\n",
              "      <th>...</th>\n",
              "      <td>...</td>\n",
              "      <td>...</td>\n",
              "      <td>...</td>\n",
              "      <td>...</td>\n",
              "      <td>...</td>\n",
              "      <td>...</td>\n",
              "      <td>...</td>\n",
              "      <td>...</td>\n",
              "      <td>...</td>\n",
              "      <td>...</td>\n",
              "      <td>...</td>\n",
              "      <td>...</td>\n",
              "      <td>...</td>\n",
              "      <td>...</td>\n",
              "      <td>...</td>\n",
              "      <td>...</td>\n",
              "      <td>...</td>\n",
              "      <td>...</td>\n",
              "      <td>...</td>\n",
              "      <td>...</td>\n",
              "      <td>...</td>\n",
              "      <td>...</td>\n",
              "      <td>...</td>\n",
              "      <td>...</td>\n",
              "      <td>...</td>\n",
              "      <td>...</td>\n",
              "      <td>...</td>\n",
              "      <td>...</td>\n",
              "      <td>...</td>\n",
              "      <td>...</td>\n",
              "      <td>...</td>\n",
              "    </tr>\n",
              "    <tr>\n",
              "      <th>7028</th>\n",
              "      <td>2</td>\n",
              "      <td>1</td>\n",
              "      <td>5.00</td>\n",
              "      <td>3.80</td>\n",
              "      <td>1.70</td>\n",
              "      <td>4</td>\n",
              "      <td>2</td>\n",
              "      <td>4</td>\n",
              "      <td>10</td>\n",
              "      <td>12</td>\n",
              "      <td>80</td>\n",
              "      <td>43</td>\n",
              "      <td>117</td>\n",
              "      <td>60</td>\n",
              "      <td>2</td>\n",
              "      <td>4</td>\n",
              "      <td>4</td>\n",
              "      <td>10</td>\n",
              "      <td>21</td>\n",
              "      <td>119</td>\n",
              "      <td>58</td>\n",
              "      <td>112</td>\n",
              "      <td>65</td>\n",
              "      <td>0.537500</td>\n",
              "      <td>0.232558</td>\n",
              "      <td>0.512821</td>\n",
              "      <td>0.200000</td>\n",
              "      <td>0.487395</td>\n",
              "      <td>0.172414</td>\n",
              "      <td>0.580357</td>\n",
              "      <td>0.323077</td>\n",
              "    </tr>\n",
              "    <tr>\n",
              "      <th>7029</th>\n",
              "      <td>4</td>\n",
              "      <td>2</td>\n",
              "      <td>2.00</td>\n",
              "      <td>3.60</td>\n",
              "      <td>3.70</td>\n",
              "      <td>3</td>\n",
              "      <td>2</td>\n",
              "      <td>5</td>\n",
              "      <td>9</td>\n",
              "      <td>21</td>\n",
              "      <td>89</td>\n",
              "      <td>47</td>\n",
              "      <td>92</td>\n",
              "      <td>46</td>\n",
              "      <td>1</td>\n",
              "      <td>4</td>\n",
              "      <td>5</td>\n",
              "      <td>7</td>\n",
              "      <td>21</td>\n",
              "      <td>104</td>\n",
              "      <td>55</td>\n",
              "      <td>63</td>\n",
              "      <td>26</td>\n",
              "      <td>0.528090</td>\n",
              "      <td>0.191489</td>\n",
              "      <td>0.500000</td>\n",
              "      <td>0.456522</td>\n",
              "      <td>0.528846</td>\n",
              "      <td>0.127273</td>\n",
              "      <td>0.412698</td>\n",
              "      <td>0.807692</td>\n",
              "    </tr>\n",
              "    <tr>\n",
              "      <th>7030</th>\n",
              "      <td>4</td>\n",
              "      <td>1</td>\n",
              "      <td>1.80</td>\n",
              "      <td>3.75</td>\n",
              "      <td>4.50</td>\n",
              "      <td>3</td>\n",
              "      <td>3</td>\n",
              "      <td>4</td>\n",
              "      <td>8</td>\n",
              "      <td>8</td>\n",
              "      <td>122</td>\n",
              "      <td>59</td>\n",
              "      <td>92</td>\n",
              "      <td>50</td>\n",
              "      <td>5</td>\n",
              "      <td>2</td>\n",
              "      <td>3</td>\n",
              "      <td>15</td>\n",
              "      <td>9</td>\n",
              "      <td>84</td>\n",
              "      <td>43</td>\n",
              "      <td>118</td>\n",
              "      <td>56</td>\n",
              "      <td>0.483607</td>\n",
              "      <td>0.135593</td>\n",
              "      <td>0.543478</td>\n",
              "      <td>0.160000</td>\n",
              "      <td>0.511905</td>\n",
              "      <td>0.348837</td>\n",
              "      <td>0.474576</td>\n",
              "      <td>0.160714</td>\n",
              "    </tr>\n",
              "    <tr>\n",
              "      <th>7031</th>\n",
              "      <td>3</td>\n",
              "      <td>1</td>\n",
              "      <td>1.33</td>\n",
              "      <td>5.25</td>\n",
              "      <td>9.00</td>\n",
              "      <td>2</td>\n",
              "      <td>3</td>\n",
              "      <td>5</td>\n",
              "      <td>12</td>\n",
              "      <td>14</td>\n",
              "      <td>124</td>\n",
              "      <td>62</td>\n",
              "      <td>99</td>\n",
              "      <td>50</td>\n",
              "      <td>3</td>\n",
              "      <td>3</td>\n",
              "      <td>4</td>\n",
              "      <td>11</td>\n",
              "      <td>17</td>\n",
              "      <td>103</td>\n",
              "      <td>53</td>\n",
              "      <td>122</td>\n",
              "      <td>54</td>\n",
              "      <td>0.500000</td>\n",
              "      <td>0.193548</td>\n",
              "      <td>0.505051</td>\n",
              "      <td>0.280000</td>\n",
              "      <td>0.514563</td>\n",
              "      <td>0.207547</td>\n",
              "      <td>0.442623</td>\n",
              "      <td>0.314815</td>\n",
              "    </tr>\n",
              "    <tr>\n",
              "      <th>7032</th>\n",
              "      <td>3</td>\n",
              "      <td>1</td>\n",
              "      <td>1.67</td>\n",
              "      <td>4.20</td>\n",
              "      <td>5.25</td>\n",
              "      <td>6</td>\n",
              "      <td>1</td>\n",
              "      <td>3</td>\n",
              "      <td>10</td>\n",
              "      <td>8</td>\n",
              "      <td>105</td>\n",
              "      <td>65</td>\n",
              "      <td>126</td>\n",
              "      <td>54</td>\n",
              "      <td>3</td>\n",
              "      <td>2</td>\n",
              "      <td>5</td>\n",
              "      <td>13</td>\n",
              "      <td>19</td>\n",
              "      <td>114</td>\n",
              "      <td>63</td>\n",
              "      <td>106</td>\n",
              "      <td>46</td>\n",
              "      <td>0.619048</td>\n",
              "      <td>0.153846</td>\n",
              "      <td>0.428571</td>\n",
              "      <td>0.148148</td>\n",
              "      <td>0.552632</td>\n",
              "      <td>0.206349</td>\n",
              "      <td>0.433962</td>\n",
              "      <td>0.413043</td>\n",
              "    </tr>\n",
              "  </tbody>\n",
              "</table>\n",
              "<p>7033 rows × 31 columns</p>\n",
              "</div>"
            ],
            "text/plain": [
              "      home_team_goal  away_team_goal  odds-home  odds-draw  odds-away  \\\n",
              "0                  2               1       3.50       3.30       2.10   \n",
              "1                  2               2       2.50       3.30       2.88   \n",
              "2                  1               2       1.91       3.40       4.20   \n",
              "3                  2               1       3.25       3.25       2.30   \n",
              "4                  3               0       1.20       6.00      19.00   \n",
              "...              ...             ...        ...        ...        ...   \n",
              "7028               2               1       5.00       3.80       1.70   \n",
              "7029               4               2       2.00       3.60       3.70   \n",
              "7030               4               1       1.80       3.75       4.50   \n",
              "7031               3               1       1.33       5.25       9.00   \n",
              "7032               3               1       1.67       4.20       5.25   \n",
              "\n",
              "      home-wins  home-draws  home-losses  home-goals  home-opposition-goals  \\\n",
              "0             1           3            6          11                     16   \n",
              "1             3           1            6           8                     16   \n",
              "2             4           2            4          10                     15   \n",
              "3             5           2            3          22                     12   \n",
              "4             7           2            1          15                      8   \n",
              "...         ...         ...          ...         ...                    ...   \n",
              "7028          4           2            4          10                     12   \n",
              "7029          3           2            5           9                     21   \n",
              "7030          3           3            4           8                      8   \n",
              "7031          2           3            5          12                     14   \n",
              "7032          6           1            3          10                      8   \n",
              "\n",
              "      home-shots  home-shots_on_target  home-opposition_shots  \\\n",
              "0            137                    67                    117   \n",
              "1            134                    64                    151   \n",
              "2            120                    58                    124   \n",
              "3            177                    82                     74   \n",
              "4            161                    72                     74   \n",
              "...          ...                   ...                    ...   \n",
              "7028          80                    43                    117   \n",
              "7029          89                    47                     92   \n",
              "7030         122                    59                     92   \n",
              "7031         124                    62                     99   \n",
              "7032         105                    65                    126   \n",
              "\n",
              "      home-opposition_shots_on_target  away-wins  away-draws  away-losses  \\\n",
              "0                                  53          8           2            0   \n",
              "1                                  77          3           3            4   \n",
              "2                                  56          2           2            6   \n",
              "3                                  37          6           3            1   \n",
              "4                                  31          3           2            5   \n",
              "...                               ...        ...         ...          ...   \n",
              "7028                               60          2           4            4   \n",
              "7029                               46          1           4            5   \n",
              "7030                               50          5           2            3   \n",
              "7031                               50          3           3            4   \n",
              "7032                               54          3           2            5   \n",
              "\n",
              "      away-goals  away-opposition-goals  away-shots  away-shots_on_target  \\\n",
              "0             15                      6         161                    78   \n",
              "1             11                     18         104                    44   \n",
              "2             11                     15         134                    59   \n",
              "3             19                      8         169                    95   \n",
              "4             10                     17         143                    69   \n",
              "...          ...                    ...         ...                   ...   \n",
              "7028          10                     21         119                    58   \n",
              "7029           7                     21         104                    55   \n",
              "7030          15                      9          84                    43   \n",
              "7031          11                     17         103                    53   \n",
              "7032          13                     19         114                    63   \n",
              "\n",
              "      away-opposition_shots  away-opposition_shots_on_target  \\\n",
              "0                        72                               30   \n",
              "1                        87                               36   \n",
              "2                       100                               46   \n",
              "3                       113                               58   \n",
              "4                       134                               69   \n",
              "...                     ...                              ...   \n",
              "7028                    112                               65   \n",
              "7029                     63                               26   \n",
              "7030                    118                               56   \n",
              "7031                    122                               54   \n",
              "7032                    106                               46   \n",
              "\n",
              "      home_shot_accuracy  home_shot_efficiency  home_opposition_shot_accuracy  \\\n",
              "0               0.489051              0.164179                       0.452991   \n",
              "1               0.477612              0.125000                       0.509934   \n",
              "2               0.483333              0.172414                       0.451613   \n",
              "3               0.463277              0.268293                       0.500000   \n",
              "4               0.447205              0.208333                       0.418919   \n",
              "...                  ...                   ...                            ...   \n",
              "7028            0.537500              0.232558                       0.512821   \n",
              "7029            0.528090              0.191489                       0.500000   \n",
              "7030            0.483607              0.135593                       0.543478   \n",
              "7031            0.500000              0.193548                       0.505051   \n",
              "7032            0.619048              0.153846                       0.428571   \n",
              "\n",
              "      home_opposition_shot_efficiency  away_shot_accuracy  \\\n",
              "0                            0.301887            0.484472   \n",
              "1                            0.207792            0.423077   \n",
              "2                            0.267857            0.440299   \n",
              "3                            0.324324            0.562130   \n",
              "4                            0.258065            0.482517   \n",
              "...                               ...                 ...   \n",
              "7028                         0.200000            0.487395   \n",
              "7029                         0.456522            0.528846   \n",
              "7030                         0.160000            0.511905   \n",
              "7031                         0.280000            0.514563   \n",
              "7032                         0.148148            0.552632   \n",
              "\n",
              "      away_shot_efficiency  away_opposition_shot_accuracy  \\\n",
              "0                 0.192308                       0.416667   \n",
              "1                 0.250000                       0.413793   \n",
              "2                 0.186441                       0.460000   \n",
              "3                 0.200000                       0.513274   \n",
              "4                 0.144928                       0.514925   \n",
              "...                    ...                            ...   \n",
              "7028              0.172414                       0.580357   \n",
              "7029              0.127273                       0.412698   \n",
              "7030              0.348837                       0.474576   \n",
              "7031              0.207547                       0.442623   \n",
              "7032              0.206349                       0.433962   \n",
              "\n",
              "      away_opposition_shot_efficiency  \n",
              "0                            0.200000  \n",
              "1                            0.500000  \n",
              "2                            0.326087  \n",
              "3                            0.137931  \n",
              "4                            0.246377  \n",
              "...                               ...  \n",
              "7028                         0.323077  \n",
              "7029                         0.807692  \n",
              "7030                         0.160714  \n",
              "7031                         0.314815  \n",
              "7032                         0.413043  \n",
              "\n",
              "[7033 rows x 31 columns]"
            ]
          },
          "metadata": {
            "tags": []
          },
          "execution_count": 5
        }
      ]
    },
    {
      "cell_type": "code",
      "metadata": {
        "id": "tzti9zrknt5h",
        "colab_type": "code",
        "outputId": "8b226840-06df-4678-c816-5b267aaf2d14",
        "colab": {
          "base_uri": "https://localhost:8080/",
          "height": 238
        }
      },
      "source": [
        "byhomegoal = df03.groupby('home_team_goal')\n",
        "byhomegoal.size().sort_values(ascending=False)"
      ],
      "execution_count": 6,
      "outputs": [
        {
          "output_type": "execute_result",
          "data": {
            "text/plain": [
              "home_team_goal\n",
              "1     2251\n",
              "2     1732\n",
              "0     1589\n",
              "3      885\n",
              "4      378\n",
              "5      132\n",
              "6       43\n",
              "7       13\n",
              "8        7\n",
              "9        2\n",
              "10       1\n",
              "dtype: int64"
            ]
          },
          "metadata": {
            "tags": []
          },
          "execution_count": 6
        }
      ]
    },
    {
      "cell_type": "code",
      "metadata": {
        "id": "1V2WCPxmnt5m",
        "colab_type": "code",
        "outputId": "a6d4b1ca-1b80-427f-b8e6-7ff19a7b8359",
        "colab": {
          "base_uri": "https://localhost:8080/",
          "height": 221
        }
      },
      "source": [
        "byawaygoal = df03.groupby('away_team_goal')\n",
        "byawaygoal.size().sort_values(ascending=False)"
      ],
      "execution_count": 7,
      "outputs": [
        {
          "output_type": "execute_result",
          "data": {
            "text/plain": [
              "away_team_goal\n",
              "1    2381\n",
              "0    2362\n",
              "2    1401\n",
              "3     613\n",
              "4     193\n",
              "5      52\n",
              "6      23\n",
              "8       5\n",
              "7       2\n",
              "9       1\n",
              "dtype: int64"
            ]
          },
          "metadata": {
            "tags": []
          },
          "execution_count": 7
        }
      ]
    },
    {
      "cell_type": "markdown",
      "metadata": {
        "id": "O6MockV_nt5p",
        "colab_type": "text"
      },
      "source": [
        "### =>The two previous cells show that we can keep 6 classes: [0.5].\n"
      ]
    },
    {
      "cell_type": "code",
      "metadata": {
        "id": "uwHnhYEynt5t",
        "colab_type": "code",
        "colab": {}
      },
      "source": [
        "def get_X_and_y(dataframe):\n",
        "    X = dataframe.drop(columns=['home_team_goal','away_team_goal']).values\n",
        "    y = dataframe[['home_team_goal','away_team_goal']].values\n",
        "    return X,y"
      ],
      "execution_count": 0,
      "outputs": []
    },
    {
      "cell_type": "code",
      "metadata": {
        "id": "EyNjI6jPnt5w",
        "colab_type": "code",
        "colab": {}
      },
      "source": [
        "def encode(i):\n",
        "    switcher = {\n",
        "        0: -1,\n",
        "        1: -0.6,\n",
        "        2: -0.2,\n",
        "        3: 0.2,\n",
        "        4: 0.6,\n",
        "        5: 1,\n",
        "    }\n",
        "    # 1 be assigned as default value of passed argument (if goals > 5)\n",
        "    return switcher.get(i, 1)\n",
        "\n",
        "def decode(i):\n",
        "    switcher = {\n",
        "          -1: 0,\n",
        "        -0.6: 1,\n",
        "        -0.2: 2,\n",
        "         0.2: 3,\n",
        "         0.6: 4,\n",
        "           1: 5,\n",
        "    }\n",
        "    return switcher.get(i, \"ERROR! Use Encode Before!\")"
      ],
      "execution_count": 0,
      "outputs": []
    },
    {
      "cell_type": "code",
      "metadata": {
        "id": "yOw4-355nt5y",
        "colab_type": "code",
        "colab": {}
      },
      "source": [
        "def normalize(dataframe):\n",
        "    column_names_to_not_normalize = ['home_team_goal','away_team_goal']\n",
        "    column_names_to_normalize = [x for x in list(dataframe) if x not in column_names_to_not_normalize ]\n",
        "    x = dataframe[column_names_to_normalize].values\n",
        "    x_scaled = preprocessing.normalize(x)\n",
        "    df_temp = pd.DataFrame(x_scaled, columns=column_names_to_normalize, index = dataframe.index)\n",
        "    dataframe[column_names_to_normalize] = df_temp\n",
        "    \n",
        "    dataframe['home_team_goal'] = dataframe.apply(lambda row: encode(row['home_team_goal']), axis=1)\n",
        "    dataframe['away_team_goal'] = dataframe.apply(lambda row: encode(row['away_team_goal']), axis=1)\n",
        "    \n",
        "    return dataframe"
      ],
      "execution_count": 0,
      "outputs": []
    },
    {
      "cell_type": "code",
      "metadata": {
        "id": "3PmG9M4ent52",
        "colab_type": "code",
        "outputId": "57b398de-b4cd-48c8-bb2a-7c4ca57c5cc3",
        "colab": {
          "base_uri": "https://localhost:8080/",
          "height": 51
        }
      },
      "source": [
        "n03 = normalize(df03)\n",
        "\n",
        "train02, test02 = train_test_split(n03, test_size=0.1, shuffle=False)\n",
        "print(len(train02), 'train examples')\n",
        "print(len(test02), 'test examples')\n",
        "\n",
        "\n",
        "train_X02,train_y02 = get_X_and_y(train02)\n",
        "\n",
        "test_X02,test_y02 = get_X_and_y(test02)"
      ],
      "execution_count": 11,
      "outputs": [
        {
          "output_type": "stream",
          "text": [
            "6329 train examples\n",
            "704 test examples\n"
          ],
          "name": "stdout"
        }
      ]
    },
    {
      "cell_type": "code",
      "metadata": {
        "id": "tTAm_MXlnt54",
        "colab_type": "code",
        "outputId": "b8d42eaf-85ac-4058-d85e-fc5a1120b0d4",
        "colab": {
          "base_uri": "https://localhost:8080/",
          "height": 473
        }
      },
      "source": [
        "n03"
      ],
      "execution_count": 12,
      "outputs": [
        {
          "output_type": "execute_result",
          "data": {
            "text/html": [
              "<div>\n",
              "<style scoped>\n",
              "    .dataframe tbody tr th:only-of-type {\n",
              "        vertical-align: middle;\n",
              "    }\n",
              "\n",
              "    .dataframe tbody tr th {\n",
              "        vertical-align: top;\n",
              "    }\n",
              "\n",
              "    .dataframe thead th {\n",
              "        text-align: right;\n",
              "    }\n",
              "</style>\n",
              "<table border=\"1\" class=\"dataframe\">\n",
              "  <thead>\n",
              "    <tr style=\"text-align: right;\">\n",
              "      <th></th>\n",
              "      <th>home_team_goal</th>\n",
              "      <th>away_team_goal</th>\n",
              "      <th>odds-home</th>\n",
              "      <th>odds-draw</th>\n",
              "      <th>odds-away</th>\n",
              "      <th>home-wins</th>\n",
              "      <th>home-draws</th>\n",
              "      <th>home-losses</th>\n",
              "      <th>home-goals</th>\n",
              "      <th>home-opposition-goals</th>\n",
              "      <th>home-shots</th>\n",
              "      <th>home-shots_on_target</th>\n",
              "      <th>home-opposition_shots</th>\n",
              "      <th>home-opposition_shots_on_target</th>\n",
              "      <th>away-wins</th>\n",
              "      <th>away-draws</th>\n",
              "      <th>away-losses</th>\n",
              "      <th>away-goals</th>\n",
              "      <th>away-opposition-goals</th>\n",
              "      <th>away-shots</th>\n",
              "      <th>away-shots_on_target</th>\n",
              "      <th>away-opposition_shots</th>\n",
              "      <th>away-opposition_shots_on_target</th>\n",
              "      <th>home_shot_accuracy</th>\n",
              "      <th>home_shot_efficiency</th>\n",
              "      <th>home_opposition_shot_accuracy</th>\n",
              "      <th>home_opposition_shot_efficiency</th>\n",
              "      <th>away_shot_accuracy</th>\n",
              "      <th>away_shot_efficiency</th>\n",
              "      <th>away_opposition_shot_accuracy</th>\n",
              "      <th>away_opposition_shot_efficiency</th>\n",
              "    </tr>\n",
              "  </thead>\n",
              "  <tbody>\n",
              "    <tr>\n",
              "      <th>0</th>\n",
              "      <td>-0.2</td>\n",
              "      <td>-0.6</td>\n",
              "      <td>0.012482</td>\n",
              "      <td>0.011769</td>\n",
              "      <td>0.007489</td>\n",
              "      <td>0.003566</td>\n",
              "      <td>0.010699</td>\n",
              "      <td>0.021398</td>\n",
              "      <td>0.039229</td>\n",
              "      <td>0.057061</td>\n",
              "      <td>0.488583</td>\n",
              "      <td>0.238942</td>\n",
              "      <td>0.417257</td>\n",
              "      <td>0.189014</td>\n",
              "      <td>0.028530</td>\n",
              "      <td>0.007133</td>\n",
              "      <td>0.000000</td>\n",
              "      <td>0.053495</td>\n",
              "      <td>0.021398</td>\n",
              "      <td>0.574174</td>\n",
              "      <td>0.278171</td>\n",
              "      <td>0.256774</td>\n",
              "      <td>0.106989</td>\n",
              "      <td>0.001744</td>\n",
              "      <td>0.000586</td>\n",
              "      <td>0.001616</td>\n",
              "      <td>0.001077</td>\n",
              "      <td>0.001728</td>\n",
              "      <td>0.000686</td>\n",
              "      <td>0.001486</td>\n",
              "      <td>0.000713</td>\n",
              "    </tr>\n",
              "    <tr>\n",
              "      <th>1</th>\n",
              "      <td>-0.2</td>\n",
              "      <td>-0.2</td>\n",
              "      <td>0.009236</td>\n",
              "      <td>0.012191</td>\n",
              "      <td>0.010640</td>\n",
              "      <td>0.011083</td>\n",
              "      <td>0.003694</td>\n",
              "      <td>0.022166</td>\n",
              "      <td>0.029555</td>\n",
              "      <td>0.059109</td>\n",
              "      <td>0.495039</td>\n",
              "      <td>0.236437</td>\n",
              "      <td>0.557843</td>\n",
              "      <td>0.284463</td>\n",
              "      <td>0.011083</td>\n",
              "      <td>0.011083</td>\n",
              "      <td>0.014777</td>\n",
              "      <td>0.040638</td>\n",
              "      <td>0.066498</td>\n",
              "      <td>0.384210</td>\n",
              "      <td>0.162550</td>\n",
              "      <td>0.321406</td>\n",
              "      <td>0.132996</td>\n",
              "      <td>0.001764</td>\n",
              "      <td>0.000462</td>\n",
              "      <td>0.001884</td>\n",
              "      <td>0.000768</td>\n",
              "      <td>0.001563</td>\n",
              "      <td>0.000924</td>\n",
              "      <td>0.001529</td>\n",
              "      <td>0.001847</td>\n",
              "    </tr>\n",
              "    <tr>\n",
              "      <th>2</th>\n",
              "      <td>-0.6</td>\n",
              "      <td>-0.2</td>\n",
              "      <td>0.007188</td>\n",
              "      <td>0.012795</td>\n",
              "      <td>0.015805</td>\n",
              "      <td>0.015053</td>\n",
              "      <td>0.007526</td>\n",
              "      <td>0.015053</td>\n",
              "      <td>0.037632</td>\n",
              "      <td>0.056448</td>\n",
              "      <td>0.451581</td>\n",
              "      <td>0.218264</td>\n",
              "      <td>0.466634</td>\n",
              "      <td>0.210738</td>\n",
              "      <td>0.007526</td>\n",
              "      <td>0.007526</td>\n",
              "      <td>0.022579</td>\n",
              "      <td>0.041395</td>\n",
              "      <td>0.056448</td>\n",
              "      <td>0.504266</td>\n",
              "      <td>0.222028</td>\n",
              "      <td>0.376318</td>\n",
              "      <td>0.173106</td>\n",
              "      <td>0.001819</td>\n",
              "      <td>0.000649</td>\n",
              "      <td>0.001699</td>\n",
              "      <td>0.001008</td>\n",
              "      <td>0.001657</td>\n",
              "      <td>0.000702</td>\n",
              "      <td>0.001731</td>\n",
              "      <td>0.001227</td>\n",
              "    </tr>\n",
              "    <tr>\n",
              "      <th>3</th>\n",
              "      <td>-0.2</td>\n",
              "      <td>-0.6</td>\n",
              "      <td>0.010289</td>\n",
              "      <td>0.010289</td>\n",
              "      <td>0.007281</td>\n",
              "      <td>0.015829</td>\n",
              "      <td>0.006331</td>\n",
              "      <td>0.009497</td>\n",
              "      <td>0.069646</td>\n",
              "      <td>0.037989</td>\n",
              "      <td>0.560335</td>\n",
              "      <td>0.259590</td>\n",
              "      <td>0.234264</td>\n",
              "      <td>0.117132</td>\n",
              "      <td>0.018994</td>\n",
              "      <td>0.009497</td>\n",
              "      <td>0.003166</td>\n",
              "      <td>0.060149</td>\n",
              "      <td>0.025326</td>\n",
              "      <td>0.535009</td>\n",
              "      <td>0.300745</td>\n",
              "      <td>0.357728</td>\n",
              "      <td>0.183613</td>\n",
              "      <td>0.001467</td>\n",
              "      <td>0.000849</td>\n",
              "      <td>0.001583</td>\n",
              "      <td>0.001027</td>\n",
              "      <td>0.001780</td>\n",
              "      <td>0.000633</td>\n",
              "      <td>0.001625</td>\n",
              "      <td>0.000437</td>\n",
              "    </tr>\n",
              "    <tr>\n",
              "      <th>4</th>\n",
              "      <td>0.2</td>\n",
              "      <td>-1.0</td>\n",
              "      <td>0.004077</td>\n",
              "      <td>0.020384</td>\n",
              "      <td>0.064550</td>\n",
              "      <td>0.023782</td>\n",
              "      <td>0.006795</td>\n",
              "      <td>0.003397</td>\n",
              "      <td>0.050961</td>\n",
              "      <td>0.027179</td>\n",
              "      <td>0.546979</td>\n",
              "      <td>0.244612</td>\n",
              "      <td>0.251406</td>\n",
              "      <td>0.105319</td>\n",
              "      <td>0.010192</td>\n",
              "      <td>0.006795</td>\n",
              "      <td>0.016987</td>\n",
              "      <td>0.033974</td>\n",
              "      <td>0.057756</td>\n",
              "      <td>0.485826</td>\n",
              "      <td>0.234419</td>\n",
              "      <td>0.455249</td>\n",
              "      <td>0.234419</td>\n",
              "      <td>0.001519</td>\n",
              "      <td>0.000708</td>\n",
              "      <td>0.001423</td>\n",
              "      <td>0.000877</td>\n",
              "      <td>0.001639</td>\n",
              "      <td>0.000492</td>\n",
              "      <td>0.001749</td>\n",
              "      <td>0.000837</td>\n",
              "    </tr>\n",
              "    <tr>\n",
              "      <th>...</th>\n",
              "      <td>...</td>\n",
              "      <td>...</td>\n",
              "      <td>...</td>\n",
              "      <td>...</td>\n",
              "      <td>...</td>\n",
              "      <td>...</td>\n",
              "      <td>...</td>\n",
              "      <td>...</td>\n",
              "      <td>...</td>\n",
              "      <td>...</td>\n",
              "      <td>...</td>\n",
              "      <td>...</td>\n",
              "      <td>...</td>\n",
              "      <td>...</td>\n",
              "      <td>...</td>\n",
              "      <td>...</td>\n",
              "      <td>...</td>\n",
              "      <td>...</td>\n",
              "      <td>...</td>\n",
              "      <td>...</td>\n",
              "      <td>...</td>\n",
              "      <td>...</td>\n",
              "      <td>...</td>\n",
              "      <td>...</td>\n",
              "      <td>...</td>\n",
              "      <td>...</td>\n",
              "      <td>...</td>\n",
              "      <td>...</td>\n",
              "      <td>...</td>\n",
              "      <td>...</td>\n",
              "      <td>...</td>\n",
              "    </tr>\n",
              "    <tr>\n",
              "      <th>7028</th>\n",
              "      <td>-0.2</td>\n",
              "      <td>-0.6</td>\n",
              "      <td>0.020289</td>\n",
              "      <td>0.015420</td>\n",
              "      <td>0.006898</td>\n",
              "      <td>0.016231</td>\n",
              "      <td>0.008116</td>\n",
              "      <td>0.016231</td>\n",
              "      <td>0.040578</td>\n",
              "      <td>0.048693</td>\n",
              "      <td>0.324623</td>\n",
              "      <td>0.174485</td>\n",
              "      <td>0.474761</td>\n",
              "      <td>0.243467</td>\n",
              "      <td>0.008116</td>\n",
              "      <td>0.016231</td>\n",
              "      <td>0.016231</td>\n",
              "      <td>0.040578</td>\n",
              "      <td>0.085213</td>\n",
              "      <td>0.482876</td>\n",
              "      <td>0.235351</td>\n",
              "      <td>0.454472</td>\n",
              "      <td>0.263756</td>\n",
              "      <td>0.002181</td>\n",
              "      <td>0.000944</td>\n",
              "      <td>0.002081</td>\n",
              "      <td>0.000812</td>\n",
              "      <td>0.001978</td>\n",
              "      <td>0.000700</td>\n",
              "      <td>0.002355</td>\n",
              "      <td>0.001311</td>\n",
              "    </tr>\n",
              "    <tr>\n",
              "      <th>7029</th>\n",
              "      <td>0.6</td>\n",
              "      <td>-0.2</td>\n",
              "      <td>0.009960</td>\n",
              "      <td>0.017928</td>\n",
              "      <td>0.018426</td>\n",
              "      <td>0.014940</td>\n",
              "      <td>0.009960</td>\n",
              "      <td>0.024900</td>\n",
              "      <td>0.044821</td>\n",
              "      <td>0.104582</td>\n",
              "      <td>0.443228</td>\n",
              "      <td>0.234064</td>\n",
              "      <td>0.458168</td>\n",
              "      <td>0.229084</td>\n",
              "      <td>0.004980</td>\n",
              "      <td>0.019920</td>\n",
              "      <td>0.024900</td>\n",
              "      <td>0.034861</td>\n",
              "      <td>0.104582</td>\n",
              "      <td>0.517929</td>\n",
              "      <td>0.273905</td>\n",
              "      <td>0.313745</td>\n",
              "      <td>0.129482</td>\n",
              "      <td>0.002630</td>\n",
              "      <td>0.000954</td>\n",
              "      <td>0.002490</td>\n",
              "      <td>0.002274</td>\n",
              "      <td>0.002634</td>\n",
              "      <td>0.000634</td>\n",
              "      <td>0.002055</td>\n",
              "      <td>0.004022</td>\n",
              "    </tr>\n",
              "    <tr>\n",
              "      <th>7030</th>\n",
              "      <td>0.6</td>\n",
              "      <td>-0.6</td>\n",
              "      <td>0.007617</td>\n",
              "      <td>0.015870</td>\n",
              "      <td>0.019043</td>\n",
              "      <td>0.012696</td>\n",
              "      <td>0.012696</td>\n",
              "      <td>0.016927</td>\n",
              "      <td>0.033855</td>\n",
              "      <td>0.033855</td>\n",
              "      <td>0.516288</td>\n",
              "      <td>0.249680</td>\n",
              "      <td>0.389332</td>\n",
              "      <td>0.211593</td>\n",
              "      <td>0.021159</td>\n",
              "      <td>0.008464</td>\n",
              "      <td>0.012696</td>\n",
              "      <td>0.063478</td>\n",
              "      <td>0.038087</td>\n",
              "      <td>0.355477</td>\n",
              "      <td>0.181970</td>\n",
              "      <td>0.499360</td>\n",
              "      <td>0.236985</td>\n",
              "      <td>0.002047</td>\n",
              "      <td>0.000574</td>\n",
              "      <td>0.002300</td>\n",
              "      <td>0.000677</td>\n",
              "      <td>0.002166</td>\n",
              "      <td>0.001476</td>\n",
              "      <td>0.002008</td>\n",
              "      <td>0.000680</td>\n",
              "    </tr>\n",
              "    <tr>\n",
              "      <th>7031</th>\n",
              "      <td>0.2</td>\n",
              "      <td>-0.6</td>\n",
              "      <td>0.005271</td>\n",
              "      <td>0.020806</td>\n",
              "      <td>0.035667</td>\n",
              "      <td>0.007926</td>\n",
              "      <td>0.011889</td>\n",
              "      <td>0.019815</td>\n",
              "      <td>0.047556</td>\n",
              "      <td>0.055482</td>\n",
              "      <td>0.491412</td>\n",
              "      <td>0.245706</td>\n",
              "      <td>0.392337</td>\n",
              "      <td>0.198150</td>\n",
              "      <td>0.011889</td>\n",
              "      <td>0.011889</td>\n",
              "      <td>0.015852</td>\n",
              "      <td>0.043593</td>\n",
              "      <td>0.067371</td>\n",
              "      <td>0.408189</td>\n",
              "      <td>0.210039</td>\n",
              "      <td>0.483486</td>\n",
              "      <td>0.214002</td>\n",
              "      <td>0.001981</td>\n",
              "      <td>0.000767</td>\n",
              "      <td>0.002002</td>\n",
              "      <td>0.001110</td>\n",
              "      <td>0.002039</td>\n",
              "      <td>0.000823</td>\n",
              "      <td>0.001754</td>\n",
              "      <td>0.001248</td>\n",
              "    </tr>\n",
              "    <tr>\n",
              "      <th>7032</th>\n",
              "      <td>0.2</td>\n",
              "      <td>-0.6</td>\n",
              "      <td>0.006541</td>\n",
              "      <td>0.016450</td>\n",
              "      <td>0.020563</td>\n",
              "      <td>0.023500</td>\n",
              "      <td>0.003917</td>\n",
              "      <td>0.011750</td>\n",
              "      <td>0.039167</td>\n",
              "      <td>0.031334</td>\n",
              "      <td>0.411255</td>\n",
              "      <td>0.254586</td>\n",
              "      <td>0.493506</td>\n",
              "      <td>0.211503</td>\n",
              "      <td>0.011750</td>\n",
              "      <td>0.007833</td>\n",
              "      <td>0.019584</td>\n",
              "      <td>0.050917</td>\n",
              "      <td>0.074418</td>\n",
              "      <td>0.446505</td>\n",
              "      <td>0.246753</td>\n",
              "      <td>0.415172</td>\n",
              "      <td>0.180169</td>\n",
              "      <td>0.002425</td>\n",
              "      <td>0.000603</td>\n",
              "      <td>0.001679</td>\n",
              "      <td>0.000580</td>\n",
              "      <td>0.002164</td>\n",
              "      <td>0.000808</td>\n",
              "      <td>0.001700</td>\n",
              "      <td>0.001618</td>\n",
              "    </tr>\n",
              "  </tbody>\n",
              "</table>\n",
              "<p>7033 rows × 31 columns</p>\n",
              "</div>"
            ],
            "text/plain": [
              "      home_team_goal  away_team_goal  odds-home  odds-draw  odds-away  \\\n",
              "0               -0.2            -0.6   0.012482   0.011769   0.007489   \n",
              "1               -0.2            -0.2   0.009236   0.012191   0.010640   \n",
              "2               -0.6            -0.2   0.007188   0.012795   0.015805   \n",
              "3               -0.2            -0.6   0.010289   0.010289   0.007281   \n",
              "4                0.2            -1.0   0.004077   0.020384   0.064550   \n",
              "...              ...             ...        ...        ...        ...   \n",
              "7028            -0.2            -0.6   0.020289   0.015420   0.006898   \n",
              "7029             0.6            -0.2   0.009960   0.017928   0.018426   \n",
              "7030             0.6            -0.6   0.007617   0.015870   0.019043   \n",
              "7031             0.2            -0.6   0.005271   0.020806   0.035667   \n",
              "7032             0.2            -0.6   0.006541   0.016450   0.020563   \n",
              "\n",
              "      home-wins  home-draws  home-losses  home-goals  home-opposition-goals  \\\n",
              "0      0.003566    0.010699     0.021398    0.039229               0.057061   \n",
              "1      0.011083    0.003694     0.022166    0.029555               0.059109   \n",
              "2      0.015053    0.007526     0.015053    0.037632               0.056448   \n",
              "3      0.015829    0.006331     0.009497    0.069646               0.037989   \n",
              "4      0.023782    0.006795     0.003397    0.050961               0.027179   \n",
              "...         ...         ...          ...         ...                    ...   \n",
              "7028   0.016231    0.008116     0.016231    0.040578               0.048693   \n",
              "7029   0.014940    0.009960     0.024900    0.044821               0.104582   \n",
              "7030   0.012696    0.012696     0.016927    0.033855               0.033855   \n",
              "7031   0.007926    0.011889     0.019815    0.047556               0.055482   \n",
              "7032   0.023500    0.003917     0.011750    0.039167               0.031334   \n",
              "\n",
              "      home-shots  home-shots_on_target  home-opposition_shots  \\\n",
              "0       0.488583              0.238942               0.417257   \n",
              "1       0.495039              0.236437               0.557843   \n",
              "2       0.451581              0.218264               0.466634   \n",
              "3       0.560335              0.259590               0.234264   \n",
              "4       0.546979              0.244612               0.251406   \n",
              "...          ...                   ...                    ...   \n",
              "7028    0.324623              0.174485               0.474761   \n",
              "7029    0.443228              0.234064               0.458168   \n",
              "7030    0.516288              0.249680               0.389332   \n",
              "7031    0.491412              0.245706               0.392337   \n",
              "7032    0.411255              0.254586               0.493506   \n",
              "\n",
              "      home-opposition_shots_on_target  away-wins  away-draws  away-losses  \\\n",
              "0                            0.189014   0.028530    0.007133     0.000000   \n",
              "1                            0.284463   0.011083    0.011083     0.014777   \n",
              "2                            0.210738   0.007526    0.007526     0.022579   \n",
              "3                            0.117132   0.018994    0.009497     0.003166   \n",
              "4                            0.105319   0.010192    0.006795     0.016987   \n",
              "...                               ...        ...         ...          ...   \n",
              "7028                         0.243467   0.008116    0.016231     0.016231   \n",
              "7029                         0.229084   0.004980    0.019920     0.024900   \n",
              "7030                         0.211593   0.021159    0.008464     0.012696   \n",
              "7031                         0.198150   0.011889    0.011889     0.015852   \n",
              "7032                         0.211503   0.011750    0.007833     0.019584   \n",
              "\n",
              "      away-goals  away-opposition-goals  away-shots  away-shots_on_target  \\\n",
              "0       0.053495               0.021398    0.574174              0.278171   \n",
              "1       0.040638               0.066498    0.384210              0.162550   \n",
              "2       0.041395               0.056448    0.504266              0.222028   \n",
              "3       0.060149               0.025326    0.535009              0.300745   \n",
              "4       0.033974               0.057756    0.485826              0.234419   \n",
              "...          ...                    ...         ...                   ...   \n",
              "7028    0.040578               0.085213    0.482876              0.235351   \n",
              "7029    0.034861               0.104582    0.517929              0.273905   \n",
              "7030    0.063478               0.038087    0.355477              0.181970   \n",
              "7031    0.043593               0.067371    0.408189              0.210039   \n",
              "7032    0.050917               0.074418    0.446505              0.246753   \n",
              "\n",
              "      away-opposition_shots  away-opposition_shots_on_target  \\\n",
              "0                  0.256774                         0.106989   \n",
              "1                  0.321406                         0.132996   \n",
              "2                  0.376318                         0.173106   \n",
              "3                  0.357728                         0.183613   \n",
              "4                  0.455249                         0.234419   \n",
              "...                     ...                              ...   \n",
              "7028               0.454472                         0.263756   \n",
              "7029               0.313745                         0.129482   \n",
              "7030               0.499360                         0.236985   \n",
              "7031               0.483486                         0.214002   \n",
              "7032               0.415172                         0.180169   \n",
              "\n",
              "      home_shot_accuracy  home_shot_efficiency  home_opposition_shot_accuracy  \\\n",
              "0               0.001744              0.000586                       0.001616   \n",
              "1               0.001764              0.000462                       0.001884   \n",
              "2               0.001819              0.000649                       0.001699   \n",
              "3               0.001467              0.000849                       0.001583   \n",
              "4               0.001519              0.000708                       0.001423   \n",
              "...                  ...                   ...                            ...   \n",
              "7028            0.002181              0.000944                       0.002081   \n",
              "7029            0.002630              0.000954                       0.002490   \n",
              "7030            0.002047              0.000574                       0.002300   \n",
              "7031            0.001981              0.000767                       0.002002   \n",
              "7032            0.002425              0.000603                       0.001679   \n",
              "\n",
              "      home_opposition_shot_efficiency  away_shot_accuracy  \\\n",
              "0                            0.001077            0.001728   \n",
              "1                            0.000768            0.001563   \n",
              "2                            0.001008            0.001657   \n",
              "3                            0.001027            0.001780   \n",
              "4                            0.000877            0.001639   \n",
              "...                               ...                 ...   \n",
              "7028                         0.000812            0.001978   \n",
              "7029                         0.002274            0.002634   \n",
              "7030                         0.000677            0.002166   \n",
              "7031                         0.001110            0.002039   \n",
              "7032                         0.000580            0.002164   \n",
              "\n",
              "      away_shot_efficiency  away_opposition_shot_accuracy  \\\n",
              "0                 0.000686                       0.001486   \n",
              "1                 0.000924                       0.001529   \n",
              "2                 0.000702                       0.001731   \n",
              "3                 0.000633                       0.001625   \n",
              "4                 0.000492                       0.001749   \n",
              "...                    ...                            ...   \n",
              "7028              0.000700                       0.002355   \n",
              "7029              0.000634                       0.002055   \n",
              "7030              0.001476                       0.002008   \n",
              "7031              0.000823                       0.001754   \n",
              "7032              0.000808                       0.001700   \n",
              "\n",
              "      away_opposition_shot_efficiency  \n",
              "0                            0.000713  \n",
              "1                            0.001847  \n",
              "2                            0.001227  \n",
              "3                            0.000437  \n",
              "4                            0.000837  \n",
              "...                               ...  \n",
              "7028                         0.001311  \n",
              "7029                         0.004022  \n",
              "7030                         0.000680  \n",
              "7031                         0.001248  \n",
              "7032                         0.001618  \n",
              "\n",
              "[7033 rows x 31 columns]"
            ]
          },
          "metadata": {
            "tags": []
          },
          "execution_count": 12
        }
      ]
    },
    {
      "cell_type": "code",
      "metadata": {
        "id": "44kHTmIWnt57",
        "colab_type": "code",
        "outputId": "379a7c9f-6ec5-4dab-e86f-f58b62b1c983",
        "colab": {
          "base_uri": "https://localhost:8080/",
          "height": 153
        }
      },
      "source": [
        "# verif the classes\n",
        "byhomegoal = df03.groupby('home_team_goal')\n",
        "byhomegoal.size().sort_values(ascending=False)"
      ],
      "execution_count": 13,
      "outputs": [
        {
          "output_type": "execute_result",
          "data": {
            "text/plain": [
              "home_team_goal\n",
              "-0.6    2251\n",
              "-0.2    1732\n",
              "-1.0    1589\n",
              " 0.2     885\n",
              " 0.6     378\n",
              " 1.0     198\n",
              "dtype: int64"
            ]
          },
          "metadata": {
            "tags": []
          },
          "execution_count": 13
        }
      ]
    },
    {
      "cell_type": "code",
      "metadata": {
        "id": "LrUTbaq5nt5-",
        "colab_type": "code",
        "outputId": "adc30105-8ef0-4402-fb0e-99d478e91dcf",
        "colab": {
          "base_uri": "https://localhost:8080/",
          "height": 153
        }
      },
      "source": [
        "byawaygoal = df03.groupby('away_team_goal')\n",
        "byawaygoal.size().sort_values(ascending=False)"
      ],
      "execution_count": 14,
      "outputs": [
        {
          "output_type": "execute_result",
          "data": {
            "text/plain": [
              "away_team_goal\n",
              "-0.6    2381\n",
              "-1.0    2362\n",
              "-0.2    1401\n",
              " 0.2     613\n",
              " 0.6     193\n",
              " 1.0      83\n",
              "dtype: int64"
            ]
          },
          "metadata": {
            "tags": []
          },
          "execution_count": 14
        }
      ]
    },
    {
      "cell_type": "code",
      "metadata": {
        "id": "x-12xzP9nt6F",
        "colab_type": "code",
        "colab": {}
      },
      "source": [
        "def round_pred(val):\n",
        "    if val <=1 and val > 0.67:\n",
        "        return 1\n",
        "    elif val <=0.67 and val >0.33:\n",
        "        return 0.60\n",
        "    elif val <= 0.33 and val > 0:\n",
        "        return 0.20\n",
        "    elif val <= 0 and val > -0.33:\n",
        "        return -0.20\n",
        "    elif val<=-0.33 and val> -0.67:\n",
        "        return -0.60\n",
        "    else:\n",
        "        return -1"
      ],
      "execution_count": 0,
      "outputs": []
    },
    {
      "cell_type": "markdown",
      "metadata": {
        "id": "mIwYgXYent6L",
        "colab_type": "text"
      },
      "source": [
        "### Build the model\n",
        "\n",
        "https://www.tensorflow.org/tutorials/keras/regression\n",
        "The mean_squared_error (mse) and mean_absolute_error (mae) are our loss functions – i.e. an estimate of how accurate the neural network is in predicting the test data. We can see that with the validation_split set to 0.2, 80% of the training data is used to test the model, while the remaining 20% is used for testing purposes."
      ]
    },
    {
      "cell_type": "code",
      "metadata": {
        "id": "QN2xrrDOnt6L",
        "colab_type": "code",
        "colab": {}
      },
      "source": [
        "def build_model():\n",
        "  model= tf.keras.models.Sequential()\n",
        "  model.add(tf.keras.layers.Dense(units=30, activation='relu', input_shape=(train_X02.shape[1],)))\n",
        "  model.add(tf.keras.layers.Dense(units=20, activation='relu'))\n",
        "  model.add(tf.keras.layers.Dense(units=10, activation='relu'))\n",
        "  model.add(tf.keras.layers.Dense(units=2))\n",
        "  \n",
        "  optimizer = tf.keras.optimizers.RMSprop(0.001)\n",
        "\n",
        "  model.compile(loss='mse',\n",
        "                optimizer=optimizer,\n",
        "                metrics=['mae', 'mse','accuracy'])\n",
        "  return model"
      ],
      "execution_count": 0,
      "outputs": []
    },
    {
      "cell_type": "code",
      "metadata": {
        "id": "yY5_C13Knt6O",
        "colab_type": "code",
        "outputId": "fc65a506-496a-4b1b-b930-cf10ecfbbda4",
        "colab": {
          "base_uri": "https://localhost:8080/",
          "height": 374
        }
      },
      "source": [
        "model = build_model()\n",
        "\n",
        "EPOCHS = 1000\n",
        "\n",
        "history = model.fit(\n",
        "  train_X02, train_y02,\n",
        "  epochs=EPOCHS, validation_split = 0.2, verbose=0, batch_size=32,\n",
        "  callbacks=[tfdocs.modeling.EpochDots()])\n"
      ],
      "execution_count": 17,
      "outputs": [
        {
          "output_type": "stream",
          "text": [
            "\n",
            "Epoch: 0, accuracy:0.7095,  loss:0.2843,  mae:0.4414,  mse:0.2843,  val_accuracy:0.6959,  val_loss:0.2241,  val_mae:0.3838,  val_mse:0.2241,  \n",
            "....................................................................................................\n",
            "Epoch: 100, accuracy:0.7182,  loss:0.2004,  mae:0.3569,  mse:0.2004,  val_accuracy:0.6303,  val_loss:0.2066,  val_mae:0.3655,  val_mse:0.2066,  \n",
            "....................................................................................................\n",
            "Epoch: 200, accuracy:0.7243,  loss:0.1990,  mae:0.3551,  mse:0.1990,  val_accuracy:0.6698,  val_loss:0.2058,  val_mae:0.3577,  val_mse:0.2058,  \n",
            "....................................................................................................\n",
            "Epoch: 300, accuracy:0.7241,  loss:0.1967,  mae:0.3529,  mse:0.1967,  val_accuracy:0.6991,  val_loss:0.2082,  val_mae:0.3587,  val_mse:0.2082,  \n",
            "....................................................................................................\n",
            "Epoch: 400, accuracy:0.7304,  loss:0.1949,  mae:0.3513,  mse:0.1949,  val_accuracy:0.6769,  val_loss:0.2069,  val_mae:0.3602,  val_mse:0.2069,  \n",
            "....................................................................................................\n",
            "Epoch: 500, accuracy:0.7298,  loss:0.1928,  mae:0.3494,  mse:0.1928,  val_accuracy:0.6825,  val_loss:0.2085,  val_mae:0.3604,  val_mse:0.2085,  \n",
            "....................................................................................................\n",
            "Epoch: 600, accuracy:0.7353,  loss:0.1907,  mae:0.3472,  mse:0.1907,  val_accuracy:0.7117,  val_loss:0.2125,  val_mae:0.3619,  val_mse:0.2125,  \n",
            "....................................................................................................\n",
            "Epoch: 700, accuracy:0.7357,  loss:0.1888,  mae:0.3454,  mse:0.1888,  val_accuracy:0.6880,  val_loss:0.2118,  val_mae:0.3582,  val_mse:0.2118,  \n",
            "....................................................................................................\n",
            "Epoch: 800, accuracy:0.7403,  loss:0.1870,  mae:0.3431,  mse:0.1870,  val_accuracy:0.6833,  val_loss:0.2154,  val_mae:0.3679,  val_mse:0.2154,  \n",
            "....................................................................................................\n",
            "Epoch: 900, accuracy:0.7424,  loss:0.1856,  mae:0.3418,  mse:0.1856,  val_accuracy:0.6951,  val_loss:0.2187,  val_mae:0.3645,  val_mse:0.2187,  \n",
            "...................................................................................................."
          ],
          "name": "stdout"
        }
      ]
    },
    {
      "cell_type": "markdown",
      "metadata": {
        "id": "83LeFNq3t5Sc",
        "colab_type": "text"
      },
      "source": [
        "From the output, we can see that the more epochs are run, the lower our MSE and MAE become, indicating improvement in accuracy across each iteration of our model."
      ]
    },
    {
      "cell_type": "markdown",
      "metadata": {
        "id": "vJgyJ8M_un_V",
        "colab_type": "text"
      },
      "source": [
        "**keras is calculating both the training loss and validation loss, i.e. the deviation between the predicted y and actual y as measured by the mean squared error**\n",
        "Let’s see our respective losses plot on using graph\n",
        "**Testing loss is decreasing, however Validation loss is still high**"
      ]
    },
    {
      "cell_type": "code",
      "metadata": {
        "id": "PiGi9AjHuh9b",
        "colab_type": "code",
        "outputId": "64e0394a-73fe-4e63-a9d4-70f81356fb2e",
        "colab": {
          "base_uri": "https://localhost:8080/",
          "height": 312
        }
      },
      "source": [
        "print(history.history.keys())\n",
        "# \"Loss\"\n",
        "plt.plot(history.history['loss'])\n",
        "plt.plot(history.history['val_loss'])\n",
        "plt.title('model loss')\n",
        "plt.ylabel('loss')\n",
        "plt.xlabel('epoch')\n",
        "plt.legend(['train', 'validation'], loc='upper left')\n",
        "plt.show()"
      ],
      "execution_count": 18,
      "outputs": [
        {
          "output_type": "stream",
          "text": [
            "dict_keys(['loss', 'mae', 'mse', 'accuracy', 'val_loss', 'val_mae', 'val_mse', 'val_accuracy'])\n"
          ],
          "name": "stdout"
        },
        {
          "output_type": "display_data",
          "data": {
            "image/png": "[encoded data removed]",
            "text/plain": [
              "<Figure size 432x288 with 1 Axes>"
            ]
          },
          "metadata": {
            "tags": [],
            "needs_background": "light"
          }
        }
      ]
    },
    {
      "cell_type": "code",
      "metadata": {
        "id": "Kvq1gkdF8Zah",
        "colab_type": "code",
        "colab": {}
      },
      "source": [
        "y_train_pred = model.predict(train_X02)\n",
        "y_test_pred = model.predict(test_X02)"
      ],
      "execution_count": 0,
      "outputs": []
    },
    {
      "cell_type": "code",
      "metadata": {
        "id": "Y-XjI_-G9Uup",
        "colab_type": "code",
        "outputId": "5d6c41e2-1e29-4148-d252-c3281c7848b6",
        "colab": {
          "base_uri": "https://localhost:8080/",
          "height": 136
        }
      },
      "source": [
        "y_train_pred"
      ],
      "execution_count": 20,
      "outputs": [
        {
          "output_type": "execute_result",
          "data": {
            "text/plain": [
              "array([[-0.57217133, -0.18554166],\n",
              "       [-0.52298003, -0.6345097 ],\n",
              "       [-0.4537078 , -0.6292747 ],\n",
              "       ...,\n",
              "       [-0.47789243, -0.5603956 ],\n",
              "       [-0.5765836 , -0.3284424 ],\n",
              "       [-0.3055086 , -0.72631025]], dtype=float32)"
            ]
          },
          "metadata": {
            "tags": []
          },
          "execution_count": 20
        }
      ]
    },
    {
      "cell_type": "code",
      "metadata": {
        "id": "72PZFQdi9fEe",
        "colab_type": "code",
        "outputId": "9524a2ca-c9b3-408d-cf69-197fbe24166d",
        "colab": {
          "base_uri": "https://localhost:8080/",
          "height": 136
        }
      },
      "source": [
        "train_y02"
      ],
      "execution_count": 21,
      "outputs": [
        {
          "output_type": "execute_result",
          "data": {
            "text/plain": [
              "array([[-0.2, -0.6],\n",
              "       [-0.2, -0.2],\n",
              "       [-0.6, -0.2],\n",
              "       ...,\n",
              "       [-0.2,  0.6],\n",
              "       [-1. ,  0.2],\n",
              "       [-0.2, -1. ]])"
            ]
          },
          "metadata": {
            "tags": []
          },
          "execution_count": 21
        }
      ]
    },
    {
      "cell_type": "markdown",
      "metadata": {
        "id": "d1h3696e8Kdy",
        "colab_type": "text"
      },
      "source": [
        "--------------------------------------------------------------\n",
        "**SECOND MODEL**\n",
        "------------------------------------------------------------------\n"
      ]
    },
    {
      "cell_type": "code",
      "metadata": {
        "id": "Q9q__74KzaYP",
        "colab_type": "code",
        "colab": {}
      },
      "source": [
        "def build_model():\n",
        "  model= tf.keras.models.Sequential()\n",
        "  #Input Layers\n",
        "  model.add(tf.keras.layers.Dense(units=21, activation='relu', kernel_initializer='normal', input_shape=(train_X02.shape[1],)))\n",
        "  #Hidden Layers\n",
        "  model.add(tf.keras.layers.Dense(units=14, activation='relu', kernel_initializer='normal'))\n",
        "  model.add(tf.keras.layers.Dense(units=12, activation='relu', kernel_initializer='normal'))\n",
        "  #model.add(tf.keras.layers.Dense(units=10, activation='relu', kernel_initializer='normal'))\n",
        "  model.add(tf.keras.layers.Dense(units=2, activation='linear'))\n",
        "  \n",
        "  optimizer = tf.keras.optimizers.RMSprop(0.001)\n",
        "\n",
        "  model.compile(loss='mean_absolute_error', optimizer='adam', metrics=['mae', 'mse','accuracy'])\n",
        "  return model"
      ],
      "execution_count": 0,
      "outputs": []
    },
    {
      "cell_type": "code",
      "metadata": {
        "id": "LBfUGefSzpAK",
        "colab_type": "code",
        "outputId": "a3eccb2d-e0ac-45b3-9c7b-9d948f737300",
        "colab": {
          "base_uri": "https://localhost:8080/",
          "height": 374
        }
      },
      "source": [
        "model = build_model()\n",
        "\n",
        "EPOCHS = 1000\n",
        "\n",
        "history = model.fit(\n",
        "  train_X02, train_y02,\n",
        "  epochs=EPOCHS, validation_split = 0.2, verbose=0, batch_size=32,\n",
        "  callbacks=[tfdocs.modeling.EpochDots()])"
      ],
      "execution_count": 23,
      "outputs": [
        {
          "output_type": "stream",
          "text": [
            "\n",
            "Epoch: 0, accuracy:0.6496,  loss:0.4225,  mae:0.4225,  mse:0.2896,  val_accuracy:0.6959,  val_loss:0.3632,  val_mae:0.3632,  val_mse:0.2531,  \n",
            "....................................................................................................\n",
            "Epoch: 100, accuracy:0.7259,  loss:0.3541,  mae:0.3541,  mse:0.2122,  val_accuracy:0.6880,  val_loss:0.3527,  val_mae:0.3527,  val_mse:0.2154,  \n",
            "....................................................................................................\n",
            "Epoch: 200, accuracy:0.7257,  loss:0.3497,  mae:0.3497,  mse:0.2063,  val_accuracy:0.6477,  val_loss:0.3486,  val_mae:0.3486,  val_mse:0.2100,  \n",
            "....................................................................................................\n",
            "Epoch: 300, accuracy:0.7308,  loss:0.3489,  mae:0.3489,  mse:0.2064,  val_accuracy:0.6880,  val_loss:0.3484,  val_mae:0.3484,  val_mse:0.2065,  \n",
            "....................................................................................................\n",
            "Epoch: 400, accuracy:0.7264,  loss:0.3483,  mae:0.3483,  mse:0.2067,  val_accuracy:0.6714,  val_loss:0.3466,  val_mae:0.3466,  val_mse:0.2112,  \n",
            "....................................................................................................\n",
            "Epoch: 500, accuracy:0.7280,  loss:0.3483,  mae:0.3483,  mse:0.2074,  val_accuracy:0.6856,  val_loss:0.3444,  val_mae:0.3444,  val_mse:0.2079,  \n",
            "....................................................................................................\n",
            "Epoch: 600, accuracy:0.7292,  loss:0.3469,  mae:0.3469,  mse:0.2069,  val_accuracy:0.6509,  val_loss:0.3453,  val_mae:0.3453,  val_mse:0.2129,  \n",
            "....................................................................................................\n",
            "Epoch: 700, accuracy:0.7280,  loss:0.3462,  mae:0.3462,  mse:0.2076,  val_accuracy:0.6975,  val_loss:0.3449,  val_mae:0.3449,  val_mse:0.2090,  \n",
            "....................................................................................................\n",
            "Epoch: 800, accuracy:0.7241,  loss:0.3458,  mae:0.3458,  mse:0.2072,  val_accuracy:0.6919,  val_loss:0.3446,  val_mae:0.3446,  val_mse:0.2101,  \n",
            "....................................................................................................\n",
            "Epoch: 900, accuracy:0.7349,  loss:0.3449,  mae:0.3449,  mse:0.2067,  val_accuracy:0.6896,  val_loss:0.3438,  val_mae:0.3438,  val_mse:0.2089,  \n",
            "...................................................................................................."
          ],
          "name": "stdout"
        }
      ]
    },
    {
      "cell_type": "markdown",
      "metadata": {
        "id": "b8hQiGZk6n7c",
        "colab_type": "text"
      },
      "source": [
        "**Using this model, we can see both Validation Loss and Training loss have reduced exponentially**"
      ]
    },
    {
      "cell_type": "code",
      "metadata": {
        "id": "LN8EeFJs1Nfv",
        "colab_type": "code",
        "outputId": "24c0fa65-c375-48f0-a788-ecd123c716da",
        "colab": {
          "base_uri": "https://localhost:8080/",
          "height": 312
        }
      },
      "source": [
        "print(history.history.keys())\n",
        "# \"Loss\"\n",
        "plt.plot(history.history['loss'])\n",
        "plt.plot(history.history['val_loss'])\n",
        "plt.title('model loss')\n",
        "plt.ylabel('loss')\n",
        "plt.xlabel('epoch')\n",
        "plt.legend(['train', 'validation'], loc='upper left')\n",
        "plt.show()"
      ],
      "execution_count": 24,
      "outputs": [
        {
          "output_type": "stream",
          "text": [
            "dict_keys(['loss', 'mae', 'mse', 'accuracy', 'val_loss', 'val_mae', 'val_mse', 'val_accuracy'])\n"
          ],
          "name": "stdout"
        },
        {
          "output_type": "display_data",
          "data": {
            "image/png": "[encoded data removed]",
            "text/plain": [
              "<Figure size 432x288 with 1 Axes>"
            ]
          },
          "metadata": {
            "tags": [],
            "needs_background": "light"
          }
        }
      ]
    },
    {
      "cell_type": "markdown",
      "metadata": {
        "id": "GfxJO7idvOZv",
        "colab_type": "text"
      },
      "source": [
        "**PREDICTIONS**"
      ]
    },
    {
      "cell_type": "code",
      "metadata": {
        "id": "P5SQrswant6Q",
        "colab_type": "code",
        "colab": {}
      },
      "source": [
        "y_train_pred = model.predict(train_X02)\n",
        "y_test_pred = model.predict(test_X02)\n"
      ],
      "execution_count": 0,
      "outputs": []
    },
    {
      "cell_type": "code",
      "metadata": {
        "id": "A5EFi3vgnt6S",
        "colab_type": "code",
        "outputId": "40a42a4e-d648-41bd-d9b1-f3136588bc8d",
        "colab": {
          "base_uri": "https://localhost:8080/",
          "height": 136
        }
      },
      "source": [
        "y_train_pred"
      ],
      "execution_count": 26,
      "outputs": [
        {
          "output_type": "execute_result",
          "data": {
            "text/plain": [
              "array([[-0.5045802 , -0.59577894],\n",
              "       [-0.51446676, -0.59568346],\n",
              "       [-0.4412127 , -0.5963911 ],\n",
              "       ...,\n",
              "       [-0.54629606, -0.595736  ],\n",
              "       [-0.5528109 , -0.46943152],\n",
              "       [-0.21048298, -0.6457249 ]], dtype=float32)"
            ]
          },
          "metadata": {
            "tags": []
          },
          "execution_count": 26
        }
      ]
    },
    {
      "cell_type": "code",
      "metadata": {
        "id": "KMkrw0csnt6V",
        "colab_type": "code",
        "outputId": "537ad354-b0f9-4627-df97-c16f7b10be61",
        "colab": {
          "base_uri": "https://localhost:8080/",
          "height": 136
        }
      },
      "source": [
        "train_y02"
      ],
      "execution_count": 27,
      "outputs": [
        {
          "output_type": "execute_result",
          "data": {
            "text/plain": [
              "array([[-0.2, -0.6],\n",
              "       [-0.2, -0.2],\n",
              "       [-0.6, -0.2],\n",
              "       ...,\n",
              "       [-0.2,  0.6],\n",
              "       [-1. ,  0.2],\n",
              "       [-0.2, -1. ]])"
            ]
          },
          "metadata": {
            "tags": []
          },
          "execution_count": 27
        }
      ]
    },
    {
      "cell_type": "code",
      "metadata": {
        "id": "eSbwBNq3nt6X",
        "colab_type": "code",
        "colab": {}
      },
      "source": [
        "# Train: Round and decode predicted value\n",
        "ypredhome_train = np.array([round_pred(val) for val in y_train_pred[:,0]])\n",
        "ypredhome_train = np.array([decode(val) for val in ypredhome_train])\n",
        "\n",
        "ypredaway_train = np.array([round_pred(val) for val in y_train_pred[:,1]])\n",
        "ypredaway_train = np.array([decode(val) for val in ypredaway_train])\n",
        "\n",
        "#decode the goals\n",
        "yorighome_train = np.array([decode(val) for val in train_y02[:,0]])\n",
        "yorigaway_train = np.array([decode(val) for val in train_y02[:,1]])"
      ],
      "execution_count": 0,
      "outputs": []
    },
    {
      "cell_type": "code",
      "metadata": {
        "id": "HVw4jylYnt6a",
        "colab_type": "code",
        "colab": {}
      },
      "source": [
        "# Test: Round and decode predicted value\n",
        "ypredhome_test = np.array([round_pred(val) for val in y_test_pred[:,0]])\n",
        "ypredhome_test = np.array([decode(val) for val in ypredhome_test])\n",
        "\n",
        "ypredaway_test = np.array([round_pred(val) for val in y_test_pred[:,1]])\n",
        "ypredaway_test = np.array([decode(val) for val in ypredaway_test])\n",
        "\n",
        "#decode the goals\n",
        "yorighome_test = np.array([decode(val) for val in test_y02[:,0]])\n",
        "yorigaway_test = np.array([decode(val) for val in test_y02[:,1]])"
      ],
      "execution_count": 0,
      "outputs": []
    },
    {
      "cell_type": "markdown",
      "metadata": {
        "id": "z3g8v3Zh_VSB",
        "colab_type": "text"
      },
      "source": [
        "**QUALITY MODEL**"
      ]
    },
    {
      "cell_type": "code",
      "metadata": {
        "id": "9yCvA3Rpnt6d",
        "colab_type": "code",
        "colab": {}
      },
      "source": [
        "def degree_diff(yoriginal,ypred):\n",
        "    val = abs(yoriginal - ypred)\n",
        "    switcher = {\n",
        "        0: 1, # yoriginal = ypred\n",
        "        1: 0.8, # diff of 1. Exple original 1 predicted 2 => 0.75\n",
        "        2: 0.6,\n",
        "        3: 0.4,\n",
        "        4: 0.2, # diff of 4. Exple original 0 predicted 4\n",
        "        5: 0\n",
        "    }\n",
        "    return switcher.get(val, 0)"
      ],
      "execution_count": 0,
      "outputs": []
    },
    {
      "cell_type": "code",
      "metadata": {
        "id": "Vj9AbU8Cnt6g",
        "colab_type": "code",
        "outputId": "750ce10c-99c7-429d-f240-87c4b1f9f5ce",
        "colab": {
          "base_uri": "https://localhost:8080/",
          "height": 34
        }
      },
      "source": [
        "quality_model_home_goals=0\n",
        "\n",
        "for valorg,valpred in zip(yorighome_train,ypredhome_train):\n",
        "    quality_model_home_goals += degree_diff(valorg,valpred)\n",
        "    \n",
        "quality_model_home_goals = quality_model_home_goals / len(yorighome_train)\n",
        "print (\"Quality model home goals TRAIN\", quality_model_home_goals)"
      ],
      "execution_count": 31,
      "outputs": [
        {
          "output_type": "stream",
          "text": [
            "Quality model home goals TRAIN 0.8205087691578933\n"
          ],
          "name": "stdout"
        }
      ]
    },
    {
      "cell_type": "code",
      "metadata": {
        "id": "HvwDg6D6nt6j",
        "colab_type": "code",
        "outputId": "5957803a-fc17-4966-94f6-efbb06c90a33",
        "colab": {
          "base_uri": "https://localhost:8080/",
          "height": 34
        }
      },
      "source": [
        "quality_model_away_goals=0\n",
        "\n",
        "for valorg,valpred in zip(yorigaway_train,ypredaway_train):\n",
        "    quality_model_away_goals += degree_diff(valorg,valpred)\n",
        "    \n",
        "quality_model_away_goals = quality_model_away_goals / len(yorigaway_train)\n",
        "print (\"Quality model away goals TRAIN\", quality_model_away_goals)"
      ],
      "execution_count": 32,
      "outputs": [
        {
          "output_type": "stream",
          "text": [
            "Quality model away goals TRAIN 0.8389319007742644\n"
          ],
          "name": "stdout"
        }
      ]
    },
    {
      "cell_type": "code",
      "metadata": {
        "id": "A6hm7M-Znt6l",
        "colab_type": "code",
        "outputId": "ed9c9ae5-59f0-4da3-c542-cd62814167ed",
        "colab": {
          "base_uri": "https://localhost:8080/",
          "height": 34
        }
      },
      "source": [
        "#TO DO : Improve the final quality\n",
        "\n",
        "#final_quality = (quality_model_home_goals**2 + quality_model_away_goals**2)/4\n",
        "final_quality = (quality_model_home_goals + quality_model_away_goals)/2\n",
        "final_quality"
      ],
      "execution_count": 33,
      "outputs": [
        {
          "output_type": "execute_result",
          "data": {
            "text/plain": [
              "0.8297203349660789"
            ]
          },
          "metadata": {
            "tags": []
          },
          "execution_count": 33
        }
      ]
    },
    {
      "cell_type": "code",
      "metadata": {
        "id": "mK3kS3fbnt6p",
        "colab_type": "code",
        "outputId": "767060d3-b01d-45f3-ffd6-68240d7b6cc6",
        "colab": {
          "base_uri": "https://localhost:8080/",
          "height": 34
        }
      },
      "source": [
        "quality_model_home_goals_test=0\n",
        "\n",
        "for valorg,valpred in zip(yorighome_test,ypredhome_test):\n",
        "    quality_model_home_goals_test += degree_diff(valorg,valpred)\n",
        "    \n",
        "quality_model_home_goals_test = quality_model_home_goals_test / len(yorighome_test)\n",
        "print (\"Quality model home goals TEST\", quality_model_home_goals_test)"
      ],
      "execution_count": 34,
      "outputs": [
        {
          "output_type": "stream",
          "text": [
            "Quality model home goals TEST 0.8156250000000026\n"
          ],
          "name": "stdout"
        }
      ]
    },
    {
      "cell_type": "code",
      "metadata": {
        "id": "qgeEMNJQnt6t",
        "colab_type": "code",
        "outputId": "4f5f1e0d-8612-4c78-d551-87ee360477d3",
        "colab": {
          "base_uri": "https://localhost:8080/",
          "height": 34
        }
      },
      "source": [
        "quality_model_away_goals_test=0\n",
        "\n",
        "for valorg,valpred in zip(yorigaway_test,ypredaway_test):\n",
        "    quality_model_away_goals_test += degree_diff(valorg,valpred)\n",
        "    \n",
        "quality_model_away_goals_test = quality_model_away_goals_test / len(yorigaway_test)\n",
        "print (\"Quality model away goals TEST\", quality_model_away_goals_test)"
      ],
      "execution_count": 35,
      "outputs": [
        {
          "output_type": "stream",
          "text": [
            "Quality model away goals TEST 0.8411931818181834\n"
          ],
          "name": "stdout"
        }
      ]
    },
    {
      "cell_type": "code",
      "metadata": {
        "id": "iXokS5Ntnt6v",
        "colab_type": "code",
        "outputId": "6a1909cd-ef05-4e12-c99c-d1c35e00562c",
        "colab": {
          "base_uri": "https://localhost:8080/",
          "height": 34
        }
      },
      "source": [
        "#TO DO : Improve the final quality\n",
        "\n",
        "#final_quality = (quality_model_home_goals**2 + quality_model_away_goals**2)/4\n",
        "final_quality_test = (quality_model_home_goals_test + quality_model_away_goals_test)/2\n",
        "final_quality_test"
      ],
      "execution_count": 36,
      "outputs": [
        {
          "output_type": "execute_result",
          "data": {
            "text/plain": [
              "0.828409090909093"
            ]
          },
          "metadata": {
            "tags": []
          },
          "execution_count": 36
        }
      ]
    },
    {
      "cell_type": "code",
      "metadata": {
        "id": "aof63nTgnt6x",
        "colab_type": "code",
        "colab": {}
      },
      "source": [
        ""
      ],
      "execution_count": 0,
      "outputs": []
    }
  ]
}