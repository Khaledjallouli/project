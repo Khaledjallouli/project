{
  "nbformat": 4,
  "nbformat_minor": 0,
  "metadata": {
    "colab": {
      "name": "Regression_golas.ipynb",
      "provenance": []
    },
    "kernelspec": {
      "name": "python3",
      "display_name": "Python 3"
    }
  },
  "cells": [
    {
      "cell_type": "code",
      "metadata": {
        "id": "XJjRrj6xlDUq",
        "colab_type": "code",
        "colab": {}
      },
      "source": [
        "import pandas as pd\n",
        "import numpy as np\n",
        "import matplotlib.pyplot as plt\n",
        "import tensorflow as tf\n"
      ],
      "execution_count": 0,
      "outputs": []
    },
    {
      "cell_type": "code",
      "metadata": {
        "id": "4hRgwdnkl6Mo",
        "colab_type": "code",
        "colab": {}
      },
      "source": [
        "df= pd.read_csv('https://raw.githubusercontent.com/Khaledjallouli/project/master/data/data_regression_goals/sliding02_goals.csv')"
      ],
      "execution_count": 0,
      "outputs": []
    },
    {
      "cell_type": "code",
      "metadata": {
        "id": "bADjOyKDmwgK",
        "colab_type": "code",
        "colab": {
          "base_uri": "https://localhost:8080/",
          "height": 258
        },
        "outputId": "db4bcbca-d4b6-423e-8e6f-ed2382d9e0d1"
      },
      "source": [
        "df.head()"
      ],
      "execution_count": 112,
      "outputs": [
        {
          "output_type": "execute_result",
          "data": {
            "text/html": [
              "<div>\n",
              "<style scoped>\n",
              "    .dataframe tbody tr th:only-of-type {\n",
              "        vertical-align: middle;\n",
              "    }\n",
              "\n",
              "    .dataframe tbody tr th {\n",
              "        vertical-align: top;\n",
              "    }\n",
              "\n",
              "    .dataframe thead th {\n",
              "        text-align: right;\n",
              "    }\n",
              "</style>\n",
              "<table border=\"1\" class=\"dataframe\">\n",
              "  <thead>\n",
              "    <tr style=\"text-align: right;\">\n",
              "      <th></th>\n",
              "      <th>Unnamed: 0</th>\n",
              "      <th>home_team_goal</th>\n",
              "      <th>away_team_goal</th>\n",
              "      <th>odds-home</th>\n",
              "      <th>odds-draw</th>\n",
              "      <th>odds-away</th>\n",
              "      <th>home-wins</th>\n",
              "      <th>home-draws</th>\n",
              "      <th>home-losses</th>\n",
              "      <th>home-goals</th>\n",
              "      <th>home-opposition-goals</th>\n",
              "      <th>home-shots</th>\n",
              "      <th>home-shots_on_target</th>\n",
              "      <th>home-opposition_shots</th>\n",
              "      <th>home-opposition_shots_on_target</th>\n",
              "      <th>away-wins</th>\n",
              "      <th>away-draws</th>\n",
              "      <th>away-losses</th>\n",
              "      <th>away-goals</th>\n",
              "      <th>away-opposition-goals</th>\n",
              "      <th>away-shots</th>\n",
              "      <th>away-shots_on_target</th>\n",
              "      <th>away-opposition_shots</th>\n",
              "      <th>away-opposition_shots_on_target</th>\n",
              "    </tr>\n",
              "  </thead>\n",
              "  <tbody>\n",
              "    <tr>\n",
              "      <th>0</th>\n",
              "      <td>0</td>\n",
              "      <td>2</td>\n",
              "      <td>1</td>\n",
              "      <td>3.50</td>\n",
              "      <td>3.30</td>\n",
              "      <td>2.10</td>\n",
              "      <td>1</td>\n",
              "      <td>3</td>\n",
              "      <td>6</td>\n",
              "      <td>11</td>\n",
              "      <td>16</td>\n",
              "      <td>137</td>\n",
              "      <td>67</td>\n",
              "      <td>117</td>\n",
              "      <td>53</td>\n",
              "      <td>8</td>\n",
              "      <td>2</td>\n",
              "      <td>0</td>\n",
              "      <td>15</td>\n",
              "      <td>6</td>\n",
              "      <td>161</td>\n",
              "      <td>78</td>\n",
              "      <td>72</td>\n",
              "      <td>30</td>\n",
              "    </tr>\n",
              "    <tr>\n",
              "      <th>1</th>\n",
              "      <td>1</td>\n",
              "      <td>2</td>\n",
              "      <td>2</td>\n",
              "      <td>2.50</td>\n",
              "      <td>3.30</td>\n",
              "      <td>2.88</td>\n",
              "      <td>3</td>\n",
              "      <td>1</td>\n",
              "      <td>6</td>\n",
              "      <td>8</td>\n",
              "      <td>16</td>\n",
              "      <td>134</td>\n",
              "      <td>64</td>\n",
              "      <td>151</td>\n",
              "      <td>77</td>\n",
              "      <td>3</td>\n",
              "      <td>3</td>\n",
              "      <td>4</td>\n",
              "      <td>11</td>\n",
              "      <td>18</td>\n",
              "      <td>104</td>\n",
              "      <td>44</td>\n",
              "      <td>87</td>\n",
              "      <td>36</td>\n",
              "    </tr>\n",
              "    <tr>\n",
              "      <th>2</th>\n",
              "      <td>2</td>\n",
              "      <td>1</td>\n",
              "      <td>2</td>\n",
              "      <td>1.91</td>\n",
              "      <td>3.40</td>\n",
              "      <td>4.20</td>\n",
              "      <td>4</td>\n",
              "      <td>2</td>\n",
              "      <td>4</td>\n",
              "      <td>10</td>\n",
              "      <td>15</td>\n",
              "      <td>120</td>\n",
              "      <td>58</td>\n",
              "      <td>124</td>\n",
              "      <td>56</td>\n",
              "      <td>2</td>\n",
              "      <td>2</td>\n",
              "      <td>6</td>\n",
              "      <td>11</td>\n",
              "      <td>15</td>\n",
              "      <td>134</td>\n",
              "      <td>59</td>\n",
              "      <td>100</td>\n",
              "      <td>46</td>\n",
              "    </tr>\n",
              "    <tr>\n",
              "      <th>3</th>\n",
              "      <td>3</td>\n",
              "      <td>2</td>\n",
              "      <td>1</td>\n",
              "      <td>3.25</td>\n",
              "      <td>3.25</td>\n",
              "      <td>2.30</td>\n",
              "      <td>5</td>\n",
              "      <td>2</td>\n",
              "      <td>3</td>\n",
              "      <td>22</td>\n",
              "      <td>12</td>\n",
              "      <td>177</td>\n",
              "      <td>82</td>\n",
              "      <td>74</td>\n",
              "      <td>37</td>\n",
              "      <td>6</td>\n",
              "      <td>3</td>\n",
              "      <td>1</td>\n",
              "      <td>19</td>\n",
              "      <td>8</td>\n",
              "      <td>169</td>\n",
              "      <td>95</td>\n",
              "      <td>113</td>\n",
              "      <td>58</td>\n",
              "    </tr>\n",
              "    <tr>\n",
              "      <th>4</th>\n",
              "      <td>4</td>\n",
              "      <td>3</td>\n",
              "      <td>0</td>\n",
              "      <td>1.20</td>\n",
              "      <td>6.00</td>\n",
              "      <td>19.00</td>\n",
              "      <td>7</td>\n",
              "      <td>2</td>\n",
              "      <td>1</td>\n",
              "      <td>15</td>\n",
              "      <td>8</td>\n",
              "      <td>161</td>\n",
              "      <td>72</td>\n",
              "      <td>74</td>\n",
              "      <td>31</td>\n",
              "      <td>3</td>\n",
              "      <td>2</td>\n",
              "      <td>5</td>\n",
              "      <td>10</td>\n",
              "      <td>17</td>\n",
              "      <td>143</td>\n",
              "      <td>69</td>\n",
              "      <td>134</td>\n",
              "      <td>69</td>\n",
              "    </tr>\n",
              "  </tbody>\n",
              "</table>\n",
              "</div>"
            ],
            "text/plain": [
              "   Unnamed: 0  ...  away-opposition_shots_on_target\n",
              "0           0  ...                               30\n",
              "1           1  ...                               36\n",
              "2           2  ...                               46\n",
              "3           3  ...                               58\n",
              "4           4  ...                               69\n",
              "\n",
              "[5 rows x 24 columns]"
            ]
          },
          "metadata": {
            "tags": []
          },
          "execution_count": 112
        }
      ]
    },
    {
      "cell_type": "code",
      "metadata": {
        "id": "7KxZcTS2mo7t",
        "colab_type": "code",
        "colab": {}
      },
      "source": [
        "X= df.iloc[:,3:-1].values\n",
        "y= df.iloc[:,1:3].values"
      ],
      "execution_count": 0,
      "outputs": []
    },
    {
      "cell_type": "code",
      "metadata": {
        "id": "Vmb1AGrBnGra",
        "colab_type": "code",
        "colab": {
          "base_uri": "https://localhost:8080/",
          "height": 136
        },
        "outputId": "ede6d4c4-cade-4850-9e39-198dffe5a448"
      },
      "source": [
        "print(X)"
      ],
      "execution_count": 114,
      "outputs": [
        {
          "output_type": "stream",
          "text": [
            "[[  3.5    3.3    2.1  ... 161.    78.    72.  ]\n",
            " [  2.5    3.3    2.88 ... 104.    44.    87.  ]\n",
            " [  1.91   3.4    4.2  ... 134.    59.   100.  ]\n",
            " ...\n",
            " [  1.8    3.75   4.5  ...  84.    43.   118.  ]\n",
            " [  1.33   5.25   9.   ... 103.    53.   122.  ]\n",
            " [  1.67   4.2    5.25 ... 114.    63.   106.  ]]\n"
          ],
          "name": "stdout"
        }
      ]
    },
    {
      "cell_type": "code",
      "metadata": {
        "id": "loA_1fXnnO0J",
        "colab_type": "code",
        "colab": {
          "base_uri": "https://localhost:8080/",
          "height": 136
        },
        "outputId": "2413a689-1ba7-4339-894d-213212ce0a99"
      },
      "source": [
        "print(y)"
      ],
      "execution_count": 115,
      "outputs": [
        {
          "output_type": "stream",
          "text": [
            "[[2 1]\n",
            " [2 2]\n",
            " [1 2]\n",
            " ...\n",
            " [4 1]\n",
            " [3 1]\n",
            " [3 1]]\n"
          ],
          "name": "stdout"
        }
      ]
    },
    {
      "cell_type": "code",
      "metadata": {
        "id": "4YMWPzB3yfMi",
        "colab_type": "code",
        "colab": {
          "base_uri": "https://localhost:8080/",
          "height": 136
        },
        "outputId": "df1c11b3-c44e-448d-d604-f32ea661d0ed"
      },
      "source": [
        "for index_home in range( len(y) ):\n",
        "  for index_away in range (len(y[index_home])):\n",
        "    if y[index_home][index_away] >=5:\n",
        "      y[index_home][index_away]=5\n",
        "print(y)    "
      ],
      "execution_count": 116,
      "outputs": [
        {
          "output_type": "stream",
          "text": [
            "[[2 1]\n",
            " [2 2]\n",
            " [1 2]\n",
            " ...\n",
            " [4 1]\n",
            " [3 1]\n",
            " [3 1]]\n"
          ],
          "name": "stdout"
        }
      ]
    },
    {
      "cell_type": "code",
      "metadata": {
        "id": "_Kl5NE-60cdg",
        "colab_type": "code",
        "colab": {}
      },
      "source": [
        "from sklearn.model_selection import train_test_split\n",
        "X_train,X_test,y_train,y_test= train_test_split(X,y,test_size=0.2, random_state=0)"
      ],
      "execution_count": 0,
      "outputs": []
    },
    {
      "cell_type": "code",
      "metadata": {
        "id": "hiaPTVUV0otB",
        "colab_type": "code",
        "colab": {}
      },
      "source": [
        "from sklearn.preprocessing import StandardScaler\n",
        "sc= StandardScaler()\n",
        "X_train= sc.fit_transform(X_train)\n",
        "X_test= sc.transform(X_test)"
      ],
      "execution_count": 0,
      "outputs": []
    },
    {
      "cell_type": "code",
      "metadata": {
        "id": "IEAEI4IS0xP7",
        "colab_type": "code",
        "colab": {}
      },
      "source": [
        "ann= tf.keras.models.Sequential()\n",
        "ann.add(tf.keras.layers.Dense(units=10, activation='relu'))\n",
        "ann.add(tf.keras.layers.Dense(units=10,activation='relu'))\n",
        "ann.add(tf.keras.layers.Dense(units=10, activation='relu'))\n",
        "ann.add(tf.keras.layers.Dense(units=2))"
      ],
      "execution_count": 0,
      "outputs": []
    },
    {
      "cell_type": "code",
      "metadata": {
        "id": "YZsPCjsz00fi",
        "colab_type": "code",
        "colab": {}
      },
      "source": [
        "ann.compile(optimizer='adam',loss='mean_squared_error',metrics=[tf.keras.metrics.RootMeanSquaredError(),'accuracy'])"
      ],
      "execution_count": 0,
      "outputs": []
    },
    {
      "cell_type": "code",
      "metadata": {
        "id": "R54SdW_O06A1",
        "colab_type": "code",
        "colab": {
          "base_uri": "https://localhost:8080/",
          "height": 714
        },
        "outputId": "b3f88b9f-e2f2-4bcd-a831-e3e9f1bdc9d6"
      },
      "source": [
        "ann.fit(X_train,y_train,batch_size=100,epochs=20)"
      ],
      "execution_count": 121,
      "outputs": [
        {
          "output_type": "stream",
          "text": [
            "Epoch 1/20\n",
            "57/57 [==============================] - 0s 1ms/step - loss: 2.9672 - root_mean_squared_error: 1.7226 - accuracy: 0.6845\n",
            "Epoch 2/20\n",
            "57/57 [==============================] - 0s 1ms/step - loss: 2.1702 - root_mean_squared_error: 1.4732 - accuracy: 0.6994\n",
            "Epoch 3/20\n",
            "57/57 [==============================] - 0s 1ms/step - loss: 1.6350 - root_mean_squared_error: 1.2787 - accuracy: 0.7007\n",
            "Epoch 4/20\n",
            "57/57 [==============================] - 0s 1ms/step - loss: 1.4291 - root_mean_squared_error: 1.1955 - accuracy: 0.7019\n",
            "Epoch 5/20\n",
            "57/57 [==============================] - 0s 1ms/step - loss: 1.3763 - root_mean_squared_error: 1.1731 - accuracy: 0.7064\n",
            "Epoch 6/20\n",
            "57/57 [==============================] - 0s 1ms/step - loss: 1.3482 - root_mean_squared_error: 1.1611 - accuracy: 0.7112\n",
            "Epoch 7/20\n",
            "57/57 [==============================] - 0s 1ms/step - loss: 1.3286 - root_mean_squared_error: 1.1526 - accuracy: 0.7105\n",
            "Epoch 8/20\n",
            "57/57 [==============================] - 0s 1ms/step - loss: 1.3149 - root_mean_squared_error: 1.1467 - accuracy: 0.7087\n",
            "Epoch 9/20\n",
            "57/57 [==============================] - 0s 1ms/step - loss: 1.3030 - root_mean_squared_error: 1.1415 - accuracy: 0.7096\n",
            "Epoch 10/20\n",
            "57/57 [==============================] - 0s 1ms/step - loss: 1.2928 - root_mean_squared_error: 1.1370 - accuracy: 0.7094\n",
            "Epoch 11/20\n",
            "57/57 [==============================] - 0s 1ms/step - loss: 1.2851 - root_mean_squared_error: 1.1336 - accuracy: 0.7135\n",
            "Epoch 12/20\n",
            "57/57 [==============================] - 0s 1ms/step - loss: 1.2782 - root_mean_squared_error: 1.1306 - accuracy: 0.7110\n",
            "Epoch 13/20\n",
            "57/57 [==============================] - 0s 1ms/step - loss: 1.2720 - root_mean_squared_error: 1.1278 - accuracy: 0.7119\n",
            "Epoch 14/20\n",
            "57/57 [==============================] - 0s 2ms/step - loss: 1.2675 - root_mean_squared_error: 1.1258 - accuracy: 0.7096\n",
            "Epoch 15/20\n",
            "57/57 [==============================] - 0s 1ms/step - loss: 1.2630 - root_mean_squared_error: 1.1239 - accuracy: 0.7103\n",
            "Epoch 16/20\n",
            "57/57 [==============================] - 0s 1ms/step - loss: 1.2592 - root_mean_squared_error: 1.1222 - accuracy: 0.7147\n",
            "Epoch 17/20\n",
            "57/57 [==============================] - 0s 1ms/step - loss: 1.2572 - root_mean_squared_error: 1.1213 - accuracy: 0.7103\n",
            "Epoch 18/20\n",
            "57/57 [==============================] - 0s 1ms/step - loss: 1.2532 - root_mean_squared_error: 1.1195 - accuracy: 0.7108\n",
            "Epoch 19/20\n",
            "57/57 [==============================] - 0s 1ms/step - loss: 1.2508 - root_mean_squared_error: 1.1184 - accuracy: 0.7119\n",
            "Epoch 20/20\n",
            "57/57 [==============================] - 0s 1ms/step - loss: 1.2476 - root_mean_squared_error: 1.1170 - accuracy: 0.7133\n"
          ],
          "name": "stdout"
        },
        {
          "output_type": "execute_result",
          "data": {
            "text/plain": [
              "<tensorflow.python.keras.callbacks.History at 0x7f7e7fbe7630>"
            ]
          },
          "metadata": {
            "tags": []
          },
          "execution_count": 121
        }
      ]
    },
    {
      "cell_type": "code",
      "metadata": {
        "id": "TbmXGWfV1ByE",
        "colab_type": "code",
        "colab": {}
      },
      "source": [
        "y_pred= ann.predict(X_test)"
      ],
      "execution_count": 0,
      "outputs": []
    },
    {
      "cell_type": "code",
      "metadata": {
        "id": "rcOwYTxU2eub",
        "colab_type": "code",
        "colab": {
          "base_uri": "https://localhost:8080/",
          "height": 136
        },
        "outputId": "91e15d70-d5ef-4b0b-ffb3-91c632e259be"
      },
      "source": [
        "print(y_pred)"
      ],
      "execution_count": 123,
      "outputs": [
        {
          "output_type": "stream",
          "text": [
            "[[2.12 0.76]\n",
            " [1.14 1.5 ]\n",
            " [1.77 0.88]\n",
            " ...\n",
            " [1.75 1.23]\n",
            " [1.57 1.27]\n",
            " [1.37 0.88]]\n"
          ],
          "name": "stdout"
        }
      ]
    },
    {
      "cell_type": "code",
      "metadata": {
        "id": "midxPfmv2hg5",
        "colab_type": "code",
        "colab": {
          "base_uri": "https://localhost:8080/",
          "height": 136
        },
        "outputId": "7e66037d-552b-4a37-ae5a-90f76c2028f0"
      },
      "source": [
        "print(y_test)"
      ],
      "execution_count": 124,
      "outputs": [
        {
          "output_type": "stream",
          "text": [
            "[[2 3]\n",
            " [2 2]\n",
            " [2 2]\n",
            " ...\n",
            " [1 2]\n",
            " [2 0]\n",
            " [1 3]]\n"
          ],
          "name": "stdout"
        }
      ]
    },
    {
      "cell_type": "code",
      "metadata": {
        "id": "Cu_5SuiR1G77",
        "colab_type": "code",
        "colab": {
          "base_uri": "https://localhost:8080/",
          "height": 136
        },
        "outputId": "447bb955-1ef9-4571-c962-2bd52f27a899"
      },
      "source": [
        "np.set_printoptions(precision=2)\n",
        "print(np.concatenate((y_pred.reshape(len(y_pred),2),y_test.reshape(len(y_test),2)),1))"
      ],
      "execution_count": 125,
      "outputs": [
        {
          "output_type": "stream",
          "text": [
            "[[2.12 0.76 2.   3.  ]\n",
            " [1.14 1.5  2.   2.  ]\n",
            " [1.77 0.88 2.   2.  ]\n",
            " ...\n",
            " [1.75 1.23 1.   2.  ]\n",
            " [1.57 1.27 2.   0.  ]\n",
            " [1.37 0.88 1.   3.  ]]\n"
          ],
          "name": "stdout"
        }
      ]
    },
    {
      "cell_type": "code",
      "metadata": {
        "id": "JWIzxl-D5t4E",
        "colab_type": "code",
        "colab": {}
      },
      "source": [
        ""
      ],
      "execution_count": 0,
      "outputs": []
    }
  ]
}