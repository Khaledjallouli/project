{
 "cells": [
  {
   "cell_type": "markdown",
   "metadata": {},
   "source": [
    "# Regression\n",
    "Predict the final goals scored per each team."
   ]
  },
  {
   "cell_type": "code",
   "execution_count": null,
   "metadata": {
    "colab": {
     "base_uri": "https://localhost:8080/",
     "height": 187
    },
    "colab_type": "code",
    "id": "FtJth4hT577a",
    "outputId": "ce296e87-fcd1-4261-8057-6daacd747370"
   },
   "outputs": [],
   "source": [
    "import numpy as np\n",
    "import matplotlib.pyplot as plt\n",
    "%matplotlib inline\n",
    "import pandas as pd\n",
    "pd.set_option('display.max_columns', 999)\n",
    "\n",
    "from sklearn import preprocessing\n",
    "from sklearn.model_selection import train_test_split\n",
    "\n",
    "import tensorflow as tf\n",
    "from tensorflow_core.estimator import inputs\n",
    "from tensorflow import feature_column\n",
    "from tensorflow.keras import layers\n",
    "from tensorflow.keras import regularizers\n",
    "from tensorflow import keras\n",
    "from tensorflow.keras.callbacks import EarlyStopping\n",
    "\n",
    "from tensorflow.keras.models import load_model\n",
    "\n",
    "\n",
    "import tensorflow_docs as tfdocs\n",
    "import tensorflow_docs.modeling\n",
    "import tensorflow_docs.plots\n",
    "\n",
    "from  IPython import display\n",
    "from matplotlib import pyplot as plt\n",
    "\n",
    "import numpy as np\n",
    "import math\n",
    "\n",
    "import pathlib\n",
    "import shutil\n",
    "import tempfile"
   ]
  },
  {
   "cell_type": "markdown",
   "metadata": {},
   "source": [
    "## Data Preprocessing\n",
    "    1. Normalization\n",
    "    2. Data encoding: The goals [0,10] => [-1,1]. If Goal > 10 => 1"
   ]
  },
  {
   "cell_type": "code",
   "execution_count": null,
   "metadata": {},
   "outputs": [],
   "source": [
    "df02 = pd.read_csv('/Users/hemi/Documents/GitHub/project/data/data_regression_goals/sliding02_goals.csv', sep=',', index_col=0)"
   ]
  },
  {
   "cell_type": "code",
   "execution_count": null,
   "metadata": {},
   "outputs": [],
   "source": [
    "df02"
   ]
  },
  {
   "cell_type": "code",
   "execution_count": null,
   "metadata": {},
   "outputs": [],
   "source": [
    "def get_X_and_y(dataframe):\n",
    "    X = dataframe.drop(columns=['home_team_goal','away_team_goal']).values\n",
    "    y = dataframe[['home_team_goal','away_team_goal']].values\n",
    "    return X,y"
   ]
  },
  {
   "cell_type": "code",
   "execution_count": null,
   "metadata": {},
   "outputs": [],
   "source": [
    "def encodelarger(i):\n",
    "    switcher = {\n",
    "        0: -1,\n",
    "        1: -0.8,\n",
    "        2: -0.6,\n",
    "        3: -0.4,\n",
    "        4: -0.2,\n",
    "        5: 0,\n",
    "        6: 0.2,\n",
    "        7: 0.4,\n",
    "        8: 0.6,\n",
    "        9: 0.8,\n",
    "        10: 1,\n",
    "    }\n",
    "    # 1 be assigned as default value of passed argument (if goals > 10)\n",
    "    return switcher.get(i, 1)\n",
    "\n",
    "def decodelarger(i):\n",
    "    switcher = {\n",
    "        -1: 0,\n",
    "        -0.8: 1,\n",
    "        -0.6: 2,\n",
    "        -0.4: 3,\n",
    "        -0.2: 4,\n",
    "        0: 5,\n",
    "        0.2: 6,\n",
    "        0.4: 7,\n",
    "        0.6: 8,\n",
    "        0.8: 9,\n",
    "        1: 10,\n",
    "    }\n",
    "    return switcher.get(i, \"ERROR! Use Encode Before!\")"
   ]
  },
  {
   "cell_type": "code",
   "execution_count": null,
   "metadata": {},
   "outputs": [],
   "source": [
    "def encode(i):\n",
    "    if i == 0:\n",
    "        return 0\n",
    "    elif (i<= 10):\n",
    "        return i/10\n",
    "    else:\n",
    "        return 1\n",
    "\n",
    "def decode(i):\n",
    "    return i * 10"
   ]
  },
  {
   "cell_type": "code",
   "execution_count": null,
   "metadata": {},
   "outputs": [],
   "source": [
    "def normalize(dataframe):\n",
    "    column_names_to_not_normalize = ['home_team_goal','away_team_goal']\n",
    "    column_names_to_normalize = [x for x in list(dataframe) if x not in column_names_to_not_normalize ]\n",
    "    x = dataframe[column_names_to_normalize].values\n",
    "    x_scaled = preprocessing.normalize(x)\n",
    "    df_temp = pd.DataFrame(x_scaled, columns=column_names_to_normalize, index = dataframe.index)\n",
    "    dataframe[column_names_to_normalize] = df_temp\n",
    "    \n",
    "    dataframe['home_team_goal'] = dataframe.apply(lambda row: encodelarger(row['home_team_goal']), axis=1)\n",
    "    dataframe['away_team_goal'] = dataframe.apply(lambda row: encodelarger(row['away_team_goal']), axis=1)\n",
    "    \n",
    "    return dataframe"
   ]
  },
  {
   "cell_type": "code",
   "execution_count": null,
   "metadata": {},
   "outputs": [],
   "source": [
    "n02 = normalize(df02)\n",
    "\n",
    "train02, test02 = train_test_split(n02, test_size=0.1, shuffle=False)\n",
    "print(len(train02), 'train examples')\n",
    "print(len(test02), 'test examples')\n",
    "\n",
    "\n",
    "train_X02,train_y02 = get_X_and_y(train02)\n",
    "\n",
    "test_X02,test_y02 = get_X_and_y(test02)"
   ]
  },
  {
   "cell_type": "code",
   "execution_count": null,
   "metadata": {},
   "outputs": [],
   "source": [
    "n02"
   ]
  },
  {
   "cell_type": "markdown",
   "metadata": {},
   "source": [
    "## Predict Two columns regressions\n"
   ]
  },
  {
   "cell_type": "markdown",
   "metadata": {},
   "source": [
    "\n",
    "https://scikit-learn.org/stable/modules/generated/sklearn.multioutput.MultiOutputRegressor.html\n",
    "\n",
    "https://scikit-learn.org/stable/modules/multiclass.html#multioutput-regression\n",
    "\n",
    "https://scikit-learn.org/stable/modules/generated/sklearn.ensemble.RandomForestRegressor.html"
   ]
  },
  {
   "cell_type": "markdown",
   "metadata": {},
   "source": [
    "## 1. MultiOutputRegressor\n",
    "\n",
    "https://scikit-learn.org/stable/modules/generated/sklearn.multioutput.MultiOutputRegressor.html"
   ]
  },
  {
   "cell_type": "markdown",
   "metadata": {},
   "source": [
    "fit(self, X, y[, sample_weight])\n",
    "\n",
    "get_params(self[, deep])\n",
    "\n",
    "partial_fit(self, X, y[, sample_weight])\n",
    "\n",
    "predict(self, X)\n",
    "\n",
    "score(self, X, y[, sample_weight])\n",
    "\n",
    "set_params(self, \\*\\*params)"
   ]
  },
  {
   "cell_type": "code",
   "execution_count": null,
   "metadata": {},
   "outputs": [],
   "source": [
    "from sklearn.datasets import make_regression\n",
    "from sklearn.multioutput import MultiOutputRegressor\n",
    "from sklearn.ensemble import GradientBoostingRegressor\n",
    "from sklearn import metrics"
   ]
  },
  {
   "cell_type": "markdown",
   "metadata": {},
   "source": [
    "### 1.a: GradientBoostingRegressor"
   ]
  },
  {
   "cell_type": "code",
   "execution_count": null,
   "metadata": {},
   "outputs": [],
   "source": [
    "regressor = MultiOutputRegressor(GradientBoostingRegressor(random_state=0)).fit(train_X02, train_y02)"
   ]
  },
  {
   "cell_type": "code",
   "execution_count": null,
   "metadata": {},
   "outputs": [],
   "source": [
    "y_train_pred = regressor.predict(train_X02)\n",
    "y_train_pred_round = np.round(y_train_pred, 1) #trunc(1 val after comma)\n",
    "\n",
    "acc_h = np.sum(train_y02[:,0] == y_train_pred_round[:,0], axis=0) / train_X02.shape[0]\n",
    "acc_a = np.sum(train_y02[:,1] == y_train_pred_round[:,1], axis=0) / train_X02.shape[0]\n",
    "acc = (acc_h + acc_a) /2\n",
    "\n",
    "\n",
    "print('Training accuracy Final: %.2f%%' % (acc * 100))\n",
    "print('Training accuracy home team goals: %.2f%%' % (acc_h * 100))\n",
    "print('Training accuracy away team goals: %.2f%%' % (acc_a * 100))"
   ]
  },
  {
   "cell_type": "code",
   "execution_count": null,
   "metadata": {},
   "outputs": [],
   "source": [
    "y_test_pred = regressor.predict(test_X02)\n",
    "y_test_pred_round = np.round(y_test_pred, 1)\n",
    "\n",
    "acc_h = np.sum(test_y02[:,0] == y_test_pred_round[:,0], axis=0) / test_X02.shape[0]\n",
    "acc_a = np.sum(test_y02[:,1] == y_test_pred_round[:,1], axis=0) / test_X02.shape[0]\n",
    "acc = (acc_h + acc_a) /2\n",
    "\n",
    "\n",
    "print('Test accuracy Final: %.2f%%' % (acc * 100))\n",
    "print('Test accuracy home team goals: %.2f%%' % (acc_h * 100))\n",
    "print('Test accuracy away team goals: %.2f%%' % (acc_a * 100))"
   ]
  },
  {
   "cell_type": "markdown",
   "metadata": {},
   "source": [
    "The coefficient R^2 is defined as (1 - u/v), where u is the residual sum of squares ((y_true - y_pred) ** 2).sum() and v is the total sum of squares ((y_true - y_true.mean()) ** 2).sum(). The best possible score is 1.0 and it can be negative (because the model can be arbitrarily worse). A constant model that always predicts the expected value of y, disregarding the input features, would get a R^2 score of 0.0.\n",
    "\n",
    "\n",
    "\n",
    "The R2 score used when calling score on a regressor will use multioutput='uniform_average' from version 0.23 to keep consistent with r2_score. This will influence the score method of all the multioutput regressors (except for MultiOutputRegressor). To specify the default value manually and avoid the warning, please either call r2_score directly or make a custom scorer with make_scorer (the built-in scorer 'r2' uses multioutput='uniform_average').\n",
    "\n",
    "https://scikit-learn.org/stable/modules/generated/sklearn.ensemble.RandomForestRegressor.html#sklearn.ensemble.RandomForestRegressor.score\n"
   ]
  },
  {
   "cell_type": "code",
   "execution_count": null,
   "metadata": {},
   "outputs": [],
   "source": [
    "print (\"The coefficient of determination R^2 of the predictione:\", regressor.score(test_X02, test_y02))"
   ]
  },
  {
   "cell_type": "markdown",
   "metadata": {},
   "source": [
    "### 1.b: SVR"
   ]
  },
  {
   "cell_type": "code",
   "execution_count": null,
   "metadata": {},
   "outputs": [],
   "source": [
    "from sklearn.svm import SVR\n",
    "\n",
    "regrsvm = MultiOutputRegressor(SVR(degree=10)).fit(train_X02, train_y02)\n",
    "\n",
    "y_train_pred = regrsvm.predict(train_X02)\n",
    "y_train_pred_round = np.round(y_train_pred, 1)\n",
    "\n",
    "acc_h = np.sum(train_y02[:,0] == y_train_pred_round[:,0], axis=0) / train_X02.shape[0]\n",
    "acc_a = np.sum(train_y02[:,1] == y_train_pred_round[:,1], axis=0) / train_X02.shape[0]\n",
    "acc = (acc_h + acc_a) /2\n",
    "\n",
    "\n",
    "print('Training accuracy Final: %.2f%%' % (acc * 100))\n",
    "print('Training accuracy home team goals: %.2f%%' % (acc_h * 100))\n",
    "print('Training accuracy away team goals: %.2f%%' % (acc_a * 100))"
   ]
  },
  {
   "cell_type": "code",
   "execution_count": null,
   "metadata": {},
   "outputs": [],
   "source": [
    "y_test_pred = regrsvm.predict(test_X02)\n",
    "y_test_pred_round = np.round(y_test_pred, 1)\n",
    "\n",
    "acc_h = np.sum(test_y02[:,0] == y_test_pred_round[:,0], axis=0) / test_X02.shape[0]\n",
    "acc_a = np.sum(test_y02[:,1] == y_test_pred_round[:,1], axis=0) / test_X02.shape[0]\n",
    "acc = (acc_h + acc_a) /2\n",
    "\n",
    "\n",
    "print('Test accuracy Final: %.2f%%' % (acc * 100))\n",
    "print('Test accuracy home team goals: %.2f%%' % (acc_h * 100))\n",
    "print('Test accuracy away team goals: %.2f%%' % (acc_a * 100))"
   ]
  },
  {
   "cell_type": "markdown",
   "metadata": {},
   "source": [
    "## 2. Decision tree regressor\n",
    "https://scikit-learn.org/stable/modules/generated/sklearn.tree.DecisionTreeRegressor.html#sklearn.tree.DecisionTreeRegressor"
   ]
  },
  {
   "cell_type": "code",
   "execution_count": null,
   "metadata": {},
   "outputs": [],
   "source": [
    "from sklearn.tree import DecisionTreeRegressor\n",
    "regressorDT = DecisionTreeRegressor(random_state=0).fit(train_X02, train_y02)"
   ]
  },
  {
   "cell_type": "code",
   "execution_count": null,
   "metadata": {},
   "outputs": [],
   "source": [
    "y_train_pred = regressorDT.predict(train_X02)\n",
    "y_train_pred_round = np.round(y_train_pred, 1)\n",
    "\n",
    "acc_h = np.sum(train_y02[:,0] == y_train_pred_round[:,0], axis=0) / train_X02.shape[0]\n",
    "acc_a = np.sum(train_y02[:,1] == y_train_pred_round[:,1], axis=0) / train_X02.shape[0]\n",
    "acc = (acc_h + acc_a) /2\n",
    "\n",
    "\n",
    "print('Training accuracy Final: %.2f%%' % (acc * 100))\n",
    "print('Training accuracy home team goals: %.2f%%' % (acc_h * 100))\n",
    "print('Training accuracy away team goals: %.2f%%' % (acc_a * 100))"
   ]
  },
  {
   "cell_type": "code",
   "execution_count": null,
   "metadata": {},
   "outputs": [],
   "source": [
    "y_test_pred = regressorDT.predict(test_X02)\n",
    "y_test_pred_round = np.round(y_test_pred, 1)\n",
    "\n",
    "acc_h = np.sum(test_y02[:,0] == y_test_pred_round[:,0], axis=0) / test_X02.shape[0]\n",
    "acc_a = np.sum(test_y02[:,1] == y_test_pred_round[:,1], axis=0) / test_X02.shape[0]\n",
    "acc = (acc_h + acc_a) /2\n",
    "\n",
    "\n",
    "print('Test accuracy Final: %.2f%%' % (acc * 100))\n",
    "print('Test accuracy home team goals: %.2f%%' % (acc_h * 100))\n",
    "print('Test accuracy away team goals: %.2f%%' % (acc_a * 100))"
   ]
  },
  {
   "cell_type": "code",
   "execution_count": null,
   "metadata": {},
   "outputs": [],
   "source": [
    "#print (\"The coefficient of determination R^2 of the prediction:\", regressorDT.score(test_X02, test_y02))\n",
    "print (\"The coefficient of determination R^2 of the prediction:\", metrics.r2_score(test_y02, y_test_pred, sample_weight=None, multioutput='uniform_average'))"
   ]
  },
  {
   "cell_type": "code",
   "execution_count": null,
   "metadata": {},
   "outputs": [],
   "source": [
    "import matplotlib.pyplot as plt\n",
    "column_names_to_not_normalize = ['home_team_goal','away_team_goal']\n",
    "column_train = [x for x in list(n02) if x not in column_names_to_not_normalize ]\n",
    "feat_importances = pd.Series(regressorDT.feature_importances_, index=column_train)\n",
    "feat_importances.nlargest(13).plot(kind='barh')\n",
    "plt.show()"
   ]
  },
  {
   "cell_type": "markdown",
   "metadata": {},
   "source": [
    "# 2. Regression Using Decision Tree Regressor(Hemi)\n"
   ]
  },
  {
   "cell_type": "code",
   "execution_count": null,
   "metadata": {},
   "outputs": [],
   "source": [
    "from sklearn.tree import DecisionTreeRegressor\n",
    "regressor= DecisionTreeRegressor(random_state=0,max_depth=1,criterion='mse')\n",
    "regressor.fit(train_X02,train_y02)\n",
    "y_test_predict = regressor.predict(test_X02)\n",
    "np.set_printoptions(precision=2)\n",
    "print(np.concatenate((y_test_predict.reshape(len(y_test_predict),2),test_y02.reshape(len(test_y02),2)),1))\n"
   ]
  },
  {
   "cell_type": "code",
   "execution_count": null,
   "metadata": {},
   "outputs": [],
   "source": [
    "from sklearn.metrics import r2_score\n",
    "r2_score(test_y02, y_test_predict)"
   ]
  },
  {
   "cell_type": "markdown",
   "metadata": {},
   "source": [
    "# Regression using RandomForestRegressor(Hemi)\n"
   ]
  },
  {
   "cell_type": "code",
   "execution_count": null,
   "metadata": {},
   "outputs": [],
   "source": [
    "from sklearn.ensemble import RandomForestRegressor\n",
    "regressor= RandomForestRegressor(n_estimators=10,random_state=0,criterion='mse',max_depth=1)\n",
    "regressor.fit(train_X02,train_y02)\n",
    "y_test_predict = regressor.predict(test_X02)\n",
    "np.set_printoptions(precision=2)\n",
    "print(np.concatenate((y_test_predict.reshape(len(y_test_predict),2),test_y02.reshape(len(test_y02),2)),1))\n"
   ]
  },
  {
   "cell_type": "code",
   "execution_count": null,
   "metadata": {},
   "outputs": [],
   "source": [
    "from sklearn.metrics import r2_score\n",
    "r2_score(test_y02, y_test_predict)\n"
   ]
  },
  {
   "cell_type": "code",
   "execution_count": null,
   "metadata": {},
   "outputs": [],
   "source": [
    "y_train_pred = regressor.predict(train_X02)\n",
    "y_train_pred_round = np.round(y_train_pred, 1) #trunc(1 val after comma)\n",
    "\n",
    "acc_h = np.sum(train_y02[:,0] == y_train_pred_round[:,0], axis=0) / train_X02.shape[0]\n",
    "acc_a = np.sum(train_y02[:,1] == y_train_pred_round[:,1], axis=0) / train_X02.shape[0]\n",
    "acc = (acc_h + acc_a) /2\n",
    "\n",
    "\n",
    "print('Training accuracy Final: %.2f%%' % (acc * 100))\n",
    "print('Training accuracy home team goals: %.2f%%' % (acc_h * 100))\n",
    "print('Training accuracy away team goals: %.2f%%' % (acc_a * 100))"
   ]
  },
  {
   "cell_type": "markdown",
   "metadata": {},
   "source": [
    "## 3. RandomForestRegressor\n",
    "https://scikit-learn.org/stable/modules/generated/sklearn.ensemble.RandomForestRegressor.html#sklearn.ensemble.RandomForestRegressor.score"
   ]
  },
  {
   "cell_type": "code",
   "execution_count": null,
   "metadata": {},
   "outputs": [],
   "source": [
    "y_train_pred = regrRFR.predict(train_X02)\n",
    "y_train_pred_round = np.round(y_train_pred, 1) #trunc(1 val after comma)\n",
    "\n",
    "acc_h = np.sum(train_y02[:,0] == y_train_pred_round[:,0], axis=0) / train_X02.shape[0]\n",
    "acc_a = np.sum(train_y02[:,1] == y_train_pred_round[:,1], axis=0) / train_X02.shape[0]\n",
    "acc = (acc_h + acc_a) /2\n",
    "\n",
    "\n",
    "print('Training accuracy Final: %.2f%%' % (acc * 100))\n",
    "print('Training accuracy home team goals: %.2f%%' % (acc_h * 100))\n",
    "print('Training accuracy away team goals: %.2f%%' % (acc_a * 100))"
   ]
  },
  {
   "cell_type": "code",
   "execution_count": null,
   "metadata": {},
   "outputs": [],
   "source": [
    "y_test_pred = regrRFR.predict(test_X02)\n",
    "y_test_pred_round = np.round(y_test_pred, 1)\n",
    "\n",
    "acc_h = np.sum(test_y02[:,0] == y_test_pred_round[:,0], axis=0) / test_X02.shape[0]\n",
    "acc_a = np.sum(test_y02[:,1] == y_test_pred_round[:,1], axis=0) / test_X02.shape[0]\n",
    "acc = (acc_h + acc_a) /2\n",
    "\n",
    "\n",
    "print('Test accuracy Final: %.2f%%' % (acc * 100))\n",
    "print('Test accuracy home team goals: %.2f%%' % (acc_h * 100))\n",
    "print('Test accuracy away team goals: %.2f%%' % (acc_a * 100))"
   ]
  },
  {
   "cell_type": "code",
   "execution_count": null,
   "metadata": {},
   "outputs": [],
   "source": [
    "print (\"The coefficient of determination R^2 of the prediction:\", metrics.r2_score(test_y02, y_test_pred, sample_weight=None, multioutput='uniform_average'))"
   ]
  },
  {
   "cell_type": "markdown",
   "metadata": {},
   "source": [
    "## 4. MLPRegressor\n",
    "https://scikit-learn.org/stable/modules/generated/sklearn.neural_network.MLPRegressor.html#sklearn.neural_network.MLPRegressor"
   ]
  },
  {
   "cell_type": "markdown",
   "metadata": {},
   "source": [
    "### 4.a: solver Adam:"
   ]
  },
  {
   "cell_type": "code",
   "execution_count": null,
   "metadata": {},
   "outputs": [],
   "source": [
    "from sklearn.neural_network import MLPRegressor\n",
    "\n",
    "regMLP = MLPRegressor(hidden_layer_sizes=(100,30,11), activation='relu', solver='adam',alpha=0.001,batch_size='auto',\n",
    "               learning_rate='constant', learning_rate_init=0.001, max_iter=1000, shuffle=False,\n",
    "               random_state=None, tol=0.0001).fit(train_X02, train_y02)"
   ]
  },
  {
   "cell_type": "code",
   "execution_count": null,
   "metadata": {},
   "outputs": [],
   "source": [
    "y_train_pred = regMLP.predict(train_X02)\n",
    "y_train_pred_round = np.round(y_train_pred, 1) #trunc(1 val after comma)\n",
    "\n",
    "acc_h = np.sum(train_y02[:,0] == y_train_pred_round[:,0], axis=0) / train_X02.shape[0]\n",
    "acc_a = np.sum(train_y02[:,1] == y_train_pred_round[:,1], axis=0) / train_X02.shape[0]\n",
    "acc = (acc_h + acc_a) /2\n",
    "\n",
    "print('Training accuracy Final: %.2f%%' % (acc * 100))\n",
    "print('Training accuracy home team goals: %.2f%%' % (acc_h * 100))\n",
    "print('Training accuracy away team goals: %.2f%%' % (acc_a * 100))"
   ]
  },
  {
   "cell_type": "code",
   "execution_count": null,
   "metadata": {},
   "outputs": [],
   "source": [
    "y_test_pred = regMLP.predict(test_X02)\n",
    "y_test_pred_round = np.round(y_test_pred, 1)\n",
    "\n",
    "acc_h = np.sum(test_y02[:,0] == y_test_pred_round[:,0], axis=0) / test_X02.shape[0]\n",
    "acc_a = np.sum(test_y02[:,1] == y_test_pred_round[:,1], axis=0) / test_X02.shape[0]\n",
    "acc = (acc_h + acc_a) /2\n",
    "\n",
    "\n",
    "print('Test accuracy Final: %.2f%%' % (acc * 100))\n",
    "print('Test accuracy home team goals: %.2f%%' % (acc_h * 100))\n",
    "print('Test accuracy away team goals: %.2f%%' % (acc_a * 100))"
   ]
  },
  {
   "cell_type": "code",
   "execution_count": null,
   "metadata": {},
   "outputs": [],
   "source": [
    "print (\"The coefficient of determination R^2 of the prediction:\", metrics.r2_score(test_y02, y_test_pred, sample_weight=None, multioutput='uniform_average'))"
   ]
  },
  {
   "cell_type": "markdown",
   "metadata": {},
   "source": [
    "### 4.b : solver: sgd"
   ]
  },
  {
   "cell_type": "code",
   "execution_count": null,
   "metadata": {},
   "outputs": [],
   "source": [
    "regMLP_sgd = MLPRegressor(hidden_layer_sizes=(50,20,11), activation='relu', solver='sgd',alpha=0.001,batch_size='auto',\n",
    "               learning_rate='constant', learning_rate_init=0.001, max_iter=1000, shuffle=False,\n",
    "               random_state=None, tol=0.0001).fit(train_X02, train_y02)"
   ]
  },
  {
   "cell_type": "code",
   "execution_count": null,
   "metadata": {},
   "outputs": [],
   "source": [
    "y_train_pred = regMLP_sgd.predict(train_X02)\n",
    "y_train_pred_round = np.round(y_train_pred, 1) #trunc(1 val after comma)\n",
    "\n",
    "acc_h = np.sum(train_y02[:,0] == y_train_pred_round[:,0], axis=0) / train_X02.shape[0]\n",
    "acc_a = np.sum(train_y02[:,1] == y_train_pred_round[:,1], axis=0) / train_X02.shape[0]\n",
    "acc = (acc_h + acc_a) /2\n",
    "\n",
    "\n",
    "print('Training accuracy Final: %.2f%%' % (acc * 100))\n",
    "print('Training accuracy home team goals: %.2f%%' % (acc_h * 100))\n",
    "print('Training accuracy away team goals: %.2f%%' % (acc_a * 100))"
   ]
  },
  {
   "cell_type": "code",
   "execution_count": null,
   "metadata": {},
   "outputs": [],
   "source": [
    "y_test_pred = regMLP_sgd.predict(test_X02)\n",
    "y_test_pred_round = np.round(y_test_pred, 1)\n",
    "\n",
    "acc_h = np.sum(test_y02[:,0] == y_test_pred_round[:,0], axis=0) / test_X02.shape[0]\n",
    "acc_a = np.sum(test_y02[:,1] == y_test_pred_round[:,1], axis=0) / test_X02.shape[0]\n",
    "acc = (acc_h + acc_a) /2\n",
    "\n",
    "\n",
    "print('Test accuracy Final: %.2f%%' % (acc * 100))\n",
    "print('Test accuracy home team goals: %.2f%%' % (acc_h * 100))\n",
    "print('Test accuracy away team goals: %.2f%%' % (acc_a * 100))"
   ]
  },
  {
   "cell_type": "code",
   "execution_count": null,
   "metadata": {},
   "outputs": [],
   "source": [
    "print (\"The coefficient of determination R^2 of the prediction:\", metrics.r2_score(test_y02, y_test_pred, sample_weight=None, multioutput='uniform_average'))"
   ]
  }
 ],
 "metadata": {
  "accelerator": "GPU",
  "colab": {
   "collapsed_sections": [],
   "include_colab_link": true,
   "name": "colab-nn.ipynb",
   "provenance": []
  },
  "kernelspec": {
   "display_name": "Python 3",
   "language": "python",
   "name": "python3"
  },
  "language_info": {
   "codemirror_mode": {
    "name": "ipython",
    "version": 3
   },
   "file_extension": ".py",
   "mimetype": "text/x-python",
   "name": "python",
   "nbconvert_exporter": "python",
   "pygments_lexer": "ipython3",
   "version": "3.7.3"
  }
 },
 "nbformat": 4,
 "nbformat_minor": 1
}
