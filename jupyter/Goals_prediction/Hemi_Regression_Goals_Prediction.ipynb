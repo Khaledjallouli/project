{
  "nbformat": 4,
  "nbformat_minor": 0,
  "metadata": {
    "colab": {
      "name": "Regression_Goals_Prediction",
      "provenance": [],
      "collapsed_sections": []
    },
    "kernelspec": {
      "name": "python3",
      "display_name": "Python 3"
    }
  },
  "cells": [
    {
      "cell_type": "code",
      "metadata": {
        "id": "XJjRrj6xlDUq",
        "colab_type": "code",
        "colab": {}
      },
      "source": [
        "import pandas as pd\n",
        "import numpy as np\n",
        "import tensorflow as tf\n",
        "import tensorflow_docs as tfdocs\n",
        "import tensorflow_docs.modeling\n",
        "import tensorflow_docs.plots\n",
        "from keras.models import Sequential\n",
        "from keras.layers import Dense\n",
        "from keras.metrics import RootMeanSquaredError\n",
        "from keras.optimizers import RMSprop\n",
        "from keras.wrappers.scikit_learn import KerasRegressor\n",
        "from sklearn.model_selection import cross_val_score\n",
        "from sklearn.model_selection import KFold\n",
        "from sklearn.preprocessing import StandardScaler\n",
        "from sklearn.pipeline import Pipeline\n",
        "from sklearn import preprocessing\n",
        "from sklearn.model_selection import train_test_split\n",
        "from tensorflow import feature_column\n",
        "from tensorflow.keras import layers\n",
        "from tensorflow.keras import regularizers\n",
        "from tensorflow import keras\n",
        "from tensorflow.keras.callbacks import EarlyStopping\n",
        "from tensorflow.keras.models import load_model"
      ],
      "execution_count": 0,
      "outputs": []
    },
    {
      "cell_type": "code",
      "metadata": {
        "id": "4hRgwdnkl6Mo",
        "colab_type": "code",
        "colab": {}
      },
      "source": [
        "df= pd.read_csv('https://raw.githubusercontent.com/Khaledjallouli/project/master/data/data_regression_goals/sliding02_goals.csv')"
      ],
      "execution_count": 0,
      "outputs": []
    },
    {
      "cell_type": "code",
      "metadata": {
        "id": "bADjOyKDmwgK",
        "colab_type": "code",
        "outputId": "105cbb30-132b-4adf-a0f2-161924e4d2ed",
        "colab": {
          "base_uri": "https://localhost:8080/",
          "height": 258
        }
      },
      "source": [
        "df.head()"
      ],
      "execution_count": 229,
      "outputs": [
        {
          "output_type": "execute_result",
          "data": {
            "text/html": [
              "<div>\n",
              "<style scoped>\n",
              "    .dataframe tbody tr th:only-of-type {\n",
              "        vertical-align: middle;\n",
              "    }\n",
              "\n",
              "    .dataframe tbody tr th {\n",
              "        vertical-align: top;\n",
              "    }\n",
              "\n",
              "    .dataframe thead th {\n",
              "        text-align: right;\n",
              "    }\n",
              "</style>\n",
              "<table border=\"1\" class=\"dataframe\">\n",
              "  <thead>\n",
              "    <tr style=\"text-align: right;\">\n",
              "      <th></th>\n",
              "      <th>Unnamed: 0</th>\n",
              "      <th>home_team_goal</th>\n",
              "      <th>away_team_goal</th>\n",
              "      <th>odds-home</th>\n",
              "      <th>odds-draw</th>\n",
              "      <th>odds-away</th>\n",
              "      <th>home-wins</th>\n",
              "      <th>home-draws</th>\n",
              "      <th>home-losses</th>\n",
              "      <th>home-goals</th>\n",
              "      <th>home-opposition-goals</th>\n",
              "      <th>home-shots</th>\n",
              "      <th>home-shots_on_target</th>\n",
              "      <th>home-opposition_shots</th>\n",
              "      <th>home-opposition_shots_on_target</th>\n",
              "      <th>away-wins</th>\n",
              "      <th>away-draws</th>\n",
              "      <th>away-losses</th>\n",
              "      <th>away-goals</th>\n",
              "      <th>away-opposition-goals</th>\n",
              "      <th>away-shots</th>\n",
              "      <th>away-shots_on_target</th>\n",
              "      <th>away-opposition_shots</th>\n",
              "      <th>away-opposition_shots_on_target</th>\n",
              "    </tr>\n",
              "  </thead>\n",
              "  <tbody>\n",
              "    <tr>\n",
              "      <th>0</th>\n",
              "      <td>0</td>\n",
              "      <td>2</td>\n",
              "      <td>1</td>\n",
              "      <td>3.50</td>\n",
              "      <td>3.30</td>\n",
              "      <td>2.10</td>\n",
              "      <td>1</td>\n",
              "      <td>3</td>\n",
              "      <td>6</td>\n",
              "      <td>11</td>\n",
              "      <td>16</td>\n",
              "      <td>137</td>\n",
              "      <td>67</td>\n",
              "      <td>117</td>\n",
              "      <td>53</td>\n",
              "      <td>8</td>\n",
              "      <td>2</td>\n",
              "      <td>0</td>\n",
              "      <td>15</td>\n",
              "      <td>6</td>\n",
              "      <td>161</td>\n",
              "      <td>78</td>\n",
              "      <td>72</td>\n",
              "      <td>30</td>\n",
              "    </tr>\n",
              "    <tr>\n",
              "      <th>1</th>\n",
              "      <td>1</td>\n",
              "      <td>2</td>\n",
              "      <td>2</td>\n",
              "      <td>2.50</td>\n",
              "      <td>3.30</td>\n",
              "      <td>2.88</td>\n",
              "      <td>3</td>\n",
              "      <td>1</td>\n",
              "      <td>6</td>\n",
              "      <td>8</td>\n",
              "      <td>16</td>\n",
              "      <td>134</td>\n",
              "      <td>64</td>\n",
              "      <td>151</td>\n",
              "      <td>77</td>\n",
              "      <td>3</td>\n",
              "      <td>3</td>\n",
              "      <td>4</td>\n",
              "      <td>11</td>\n",
              "      <td>18</td>\n",
              "      <td>104</td>\n",
              "      <td>44</td>\n",
              "      <td>87</td>\n",
              "      <td>36</td>\n",
              "    </tr>\n",
              "    <tr>\n",
              "      <th>2</th>\n",
              "      <td>2</td>\n",
              "      <td>1</td>\n",
              "      <td>2</td>\n",
              "      <td>1.91</td>\n",
              "      <td>3.40</td>\n",
              "      <td>4.20</td>\n",
              "      <td>4</td>\n",
              "      <td>2</td>\n",
              "      <td>4</td>\n",
              "      <td>10</td>\n",
              "      <td>15</td>\n",
              "      <td>120</td>\n",
              "      <td>58</td>\n",
              "      <td>124</td>\n",
              "      <td>56</td>\n",
              "      <td>2</td>\n",
              "      <td>2</td>\n",
              "      <td>6</td>\n",
              "      <td>11</td>\n",
              "      <td>15</td>\n",
              "      <td>134</td>\n",
              "      <td>59</td>\n",
              "      <td>100</td>\n",
              "      <td>46</td>\n",
              "    </tr>\n",
              "    <tr>\n",
              "      <th>3</th>\n",
              "      <td>3</td>\n",
              "      <td>2</td>\n",
              "      <td>1</td>\n",
              "      <td>3.25</td>\n",
              "      <td>3.25</td>\n",
              "      <td>2.30</td>\n",
              "      <td>5</td>\n",
              "      <td>2</td>\n",
              "      <td>3</td>\n",
              "      <td>22</td>\n",
              "      <td>12</td>\n",
              "      <td>177</td>\n",
              "      <td>82</td>\n",
              "      <td>74</td>\n",
              "      <td>37</td>\n",
              "      <td>6</td>\n",
              "      <td>3</td>\n",
              "      <td>1</td>\n",
              "      <td>19</td>\n",
              "      <td>8</td>\n",
              "      <td>169</td>\n",
              "      <td>95</td>\n",
              "      <td>113</td>\n",
              "      <td>58</td>\n",
              "    </tr>\n",
              "    <tr>\n",
              "      <th>4</th>\n",
              "      <td>4</td>\n",
              "      <td>3</td>\n",
              "      <td>0</td>\n",
              "      <td>1.20</td>\n",
              "      <td>6.00</td>\n",
              "      <td>19.00</td>\n",
              "      <td>7</td>\n",
              "      <td>2</td>\n",
              "      <td>1</td>\n",
              "      <td>15</td>\n",
              "      <td>8</td>\n",
              "      <td>161</td>\n",
              "      <td>72</td>\n",
              "      <td>74</td>\n",
              "      <td>31</td>\n",
              "      <td>3</td>\n",
              "      <td>2</td>\n",
              "      <td>5</td>\n",
              "      <td>10</td>\n",
              "      <td>17</td>\n",
              "      <td>143</td>\n",
              "      <td>69</td>\n",
              "      <td>134</td>\n",
              "      <td>69</td>\n",
              "    </tr>\n",
              "  </tbody>\n",
              "</table>\n",
              "</div>"
            ],
            "text/plain": [
              "   Unnamed: 0  ...  away-opposition_shots_on_target\n",
              "0           0  ...                               30\n",
              "1           1  ...                               36\n",
              "2           2  ...                               46\n",
              "3           3  ...                               58\n",
              "4           4  ...                               69\n",
              "\n",
              "[5 rows x 24 columns]"
            ]
          },
          "metadata": {
            "tags": []
          },
          "execution_count": 229
        }
      ]
    },
    {
      "cell_type": "code",
      "metadata": {
        "id": "7KxZcTS2mo7t",
        "colab_type": "code",
        "colab": {}
      },
      "source": [
        "X= df.iloc[:,3:-1].values\n",
        "y= df.iloc[:,1:3].values"
      ],
      "execution_count": 0,
      "outputs": []
    },
    {
      "cell_type": "code",
      "metadata": {
        "id": "Vmb1AGrBnGra",
        "colab_type": "code",
        "outputId": "cb7eef09-5829-4bc7-be03-f754c43f4f38",
        "colab": {
          "base_uri": "https://localhost:8080/",
          "height": 136
        }
      },
      "source": [
        "print(X)"
      ],
      "execution_count": 192,
      "outputs": [
        {
          "output_type": "stream",
          "text": [
            "[[  3.5    3.3    2.1  ... 161.    78.    72.  ]\n",
            " [  2.5    3.3    2.88 ... 104.    44.    87.  ]\n",
            " [  1.91   3.4    4.2  ... 134.    59.   100.  ]\n",
            " ...\n",
            " [  1.8    3.75   4.5  ...  84.    43.   118.  ]\n",
            " [  1.33   5.25   9.   ... 103.    53.   122.  ]\n",
            " [  1.67   4.2    5.25 ... 114.    63.   106.  ]]\n"
          ],
          "name": "stdout"
        }
      ]
    },
    {
      "cell_type": "code",
      "metadata": {
        "id": "loA_1fXnnO0J",
        "colab_type": "code",
        "outputId": "1c1ab275-f19c-4536-8293-93c506b57239",
        "colab": {
          "base_uri": "https://localhost:8080/",
          "height": 136
        }
      },
      "source": [
        "print(y)"
      ],
      "execution_count": 193,
      "outputs": [
        {
          "output_type": "stream",
          "text": [
            "[[2 1]\n",
            " [2 2]\n",
            " [1 2]\n",
            " ...\n",
            " [4 1]\n",
            " [3 1]\n",
            " [3 1]]\n"
          ],
          "name": "stdout"
        }
      ]
    },
    {
      "cell_type": "code",
      "metadata": {
        "id": "4YMWPzB3yfMi",
        "colab_type": "code",
        "outputId": "2c09016c-ff6c-4533-8e42-64a42c6c8d62",
        "colab": {
          "base_uri": "https://localhost:8080/",
          "height": 136
        }
      },
      "source": [
        "for index_home in range( len(y) ):\n",
        "  for index_away in range (len(y[index_home])):\n",
        "    if y[index_home][index_away] >=5:\n",
        "      y[index_home][index_away]=5\n",
        "print(y)    "
      ],
      "execution_count": 242,
      "outputs": [
        {
          "output_type": "stream",
          "text": [
            "[[2 1]\n",
            " [2 2]\n",
            " [1 2]\n",
            " ...\n",
            " [4 1]\n",
            " [3 1]\n",
            " [3 1]]\n"
          ],
          "name": "stdout"
        }
      ]
    },
    {
      "cell_type": "code",
      "metadata": {
        "id": "_Kl5NE-60cdg",
        "colab_type": "code",
        "colab": {}
      },
      "source": [
        "from sklearn.model_selection import train_test_split\n",
        "X_train,X_test,y_train,y_test= train_test_split(X,y,test_size=0.2, random_state=0)"
      ],
      "execution_count": 0,
      "outputs": []
    },
    {
      "cell_type": "code",
      "metadata": {
        "id": "hiaPTVUV0otB",
        "colab_type": "code",
        "colab": {}
      },
      "source": [
        "from sklearn.preprocessing import StandardScaler\n",
        "sc= StandardScaler()\n",
        "X_train= sc.fit_transform(X_train)\n",
        "X_test= sc.transform(X_test)"
      ],
      "execution_count": 0,
      "outputs": []
    },
    {
      "cell_type": "markdown",
      "metadata": {
        "id": "hdr_GVjRJkE-",
        "colab_type": "text"
      },
      "source": [
        "**Building Baseline Model with Densely Fully connected hidden layers with the same number of neurons as input attributes (21)**"
      ]
    },
    {
      "cell_type": "code",
      "metadata": {
        "id": "by888aoAIV0r",
        "colab_type": "code",
        "colab": {}
      },
      "source": [
        "# define base model\n",
        "def baseline_model():\n",
        "  model= Sequential()\n",
        "  model.add(Dense(40, activation='relu'))\n",
        "  model.add(Dense(30, activation='relu'))\n",
        "  model.add(Dense(20, activation='relu'))\n",
        "  model.add(Dense(10, activation='relu'))\n",
        "  model.add(Dense(2))\n",
        "  optimizer= tf.keras.optimizers.RMSprop(0.001)\n",
        "  #compile model\n",
        "  model.compile(loss='mean_squared_error', optimizer='adam', metrics=['mae', 'mse', 'accuracy'])\n",
        "  return model"
      ],
      "execution_count": 0,
      "outputs": []
    },
    {
      "cell_type": "code",
      "metadata": {
        "id": "wvRyrskqi8Kv",
        "colab_type": "code",
        "colab": {}
      },
      "source": [
        "model= baseline_model()"
      ],
      "execution_count": 0,
      "outputs": []
    },
    {
      "cell_type": "code",
      "metadata": {
        "id": "klR9h5HbjBo_",
        "colab_type": "code",
        "colab": {
          "base_uri": "https://localhost:8080/",
          "height": 374
        },
        "outputId": "b9302ebd-fb4b-4c94-e918-d5b5b637621b"
      },
      "source": [
        "history = model.fit(\n",
        "  X_train, y_train, batch_size=500,\n",
        "  epochs=1000, validation_split = 0.2, verbose=0,\n",
        "  callbacks=[tfdocs.modeling.EpochDots()])"
      ],
      "execution_count": 267,
      "outputs": [
        {
          "output_type": "stream",
          "text": [
            "\n",
            "Epoch: 0, accuracy:0.8071,  loss:0.4078,  mae:0.4950,  mse:0.4078,  val_accuracy:0.6004,  val_loss:2.4505,  val_mae:1.1929,  val_mse:2.4505,  \n",
            "....................................................................................................\n",
            "Epoch: 100, accuracy:0.8044,  loss:0.4091,  mae:0.4971,  mse:0.4091,  val_accuracy:0.5968,  val_loss:2.4435,  val_mae:1.1907,  val_mse:2.4435,  \n",
            "....................................................................................................\n",
            "Epoch: 200, accuracy:0.8056,  loss:0.4106,  mae:0.4983,  mse:0.4106,  val_accuracy:0.5977,  val_loss:2.4669,  val_mae:1.1941,  val_mse:2.4669,  \n",
            "....................................................................................................\n",
            "Epoch: 300, accuracy:0.8071,  loss:0.4103,  mae:0.4987,  mse:0.4103,  val_accuracy:0.5977,  val_loss:2.4847,  val_mae:1.1980,  val_mse:2.4847,  \n",
            "....................................................................................................\n",
            "Epoch: 400, accuracy:0.8042,  loss:0.4093,  mae:0.4977,  mse:0.4093,  val_accuracy:0.5995,  val_loss:2.4717,  val_mae:1.1941,  val_mse:2.4717,  \n",
            "....................................................................................................\n",
            "Epoch: 500, accuracy:0.8053,  loss:0.4102,  mae:0.4987,  mse:0.4102,  val_accuracy:0.5959,  val_loss:2.5139,  val_mae:1.2040,  val_mse:2.5139,  \n",
            "....................................................................................................\n",
            "Epoch: 600, accuracy:0.8022,  loss:0.4087,  mae:0.4972,  mse:0.4087,  val_accuracy:0.5959,  val_loss:2.5129,  val_mae:1.2044,  val_mse:2.5129,  \n",
            "....................................................................................................\n",
            "Epoch: 700, accuracy:0.8038,  loss:0.4085,  mae:0.4968,  mse:0.4085,  val_accuracy:0.5915,  val_loss:2.5064,  val_mae:1.2029,  val_mse:2.5064,  \n",
            "....................................................................................................\n",
            "Epoch: 800, accuracy:0.8049,  loss:0.4084,  mae:0.4971,  mse:0.4084,  val_accuracy:0.5977,  val_loss:2.4934,  val_mae:1.2014,  val_mse:2.4934,  \n",
            "....................................................................................................\n",
            "Epoch: 900, accuracy:0.8051,  loss:0.4061,  mae:0.4954,  mse:0.4061,  val_accuracy:0.6030,  val_loss:2.5246,  val_mae:1.2059,  val_mse:2.5246,  \n",
            "...................................................................................................."
          ],
          "name": "stdout"
        }
      ]
    },
    {
      "cell_type": "code",
      "metadata": {
        "id": "6E3PLGG9mvwC",
        "colab_type": "code",
        "colab": {
          "base_uri": "https://localhost:8080/",
          "height": 204
        },
        "outputId": "632646a8-06a0-4204-cfa1-2b0c2fd7bcb1"
      },
      "source": [
        "hist = pd.DataFrame(history.history)\n",
        "hist['epoch'] = history.epoch\n",
        "hist.tail()"
      ],
      "execution_count": 268,
      "outputs": [
        {
          "output_type": "execute_result",
          "data": {
            "text/html": [
              "<div>\n",
              "<style scoped>\n",
              "    .dataframe tbody tr th:only-of-type {\n",
              "        vertical-align: middle;\n",
              "    }\n",
              "\n",
              "    .dataframe tbody tr th {\n",
              "        vertical-align: top;\n",
              "    }\n",
              "\n",
              "    .dataframe thead th {\n",
              "        text-align: right;\n",
              "    }\n",
              "</style>\n",
              "<table border=\"1\" class=\"dataframe\">\n",
              "  <thead>\n",
              "    <tr style=\"text-align: right;\">\n",
              "      <th></th>\n",
              "      <th>val_loss</th>\n",
              "      <th>val_mae</th>\n",
              "      <th>val_mse</th>\n",
              "      <th>val_accuracy</th>\n",
              "      <th>loss</th>\n",
              "      <th>mae</th>\n",
              "      <th>mse</th>\n",
              "      <th>accuracy</th>\n",
              "      <th>epoch</th>\n",
              "    </tr>\n",
              "  </thead>\n",
              "  <tbody>\n",
              "    <tr>\n",
              "      <th>995</th>\n",
              "      <td>2.532948</td>\n",
              "      <td>1.208452</td>\n",
              "      <td>2.532948</td>\n",
              "      <td>0.598579</td>\n",
              "      <td>0.406251</td>\n",
              "      <td>0.495349</td>\n",
              "      <td>0.406251</td>\n",
              "      <td>0.803778</td>\n",
              "      <td>995</td>\n",
              "    </tr>\n",
              "    <tr>\n",
              "      <th>996</th>\n",
              "      <td>2.530773</td>\n",
              "      <td>1.208830</td>\n",
              "      <td>2.530773</td>\n",
              "      <td>0.600355</td>\n",
              "      <td>0.407447</td>\n",
              "      <td>0.497504</td>\n",
              "      <td>0.407447</td>\n",
              "      <td>0.802444</td>\n",
              "      <td>996</td>\n",
              "    </tr>\n",
              "    <tr>\n",
              "      <th>997</th>\n",
              "      <td>2.538203</td>\n",
              "      <td>1.208007</td>\n",
              "      <td>2.538203</td>\n",
              "      <td>0.592362</td>\n",
              "      <td>0.407577</td>\n",
              "      <td>0.496991</td>\n",
              "      <td>0.407577</td>\n",
              "      <td>0.802444</td>\n",
              "      <td>997</td>\n",
              "    </tr>\n",
              "    <tr>\n",
              "      <th>998</th>\n",
              "      <td>2.515686</td>\n",
              "      <td>1.205488</td>\n",
              "      <td>2.515686</td>\n",
              "      <td>0.603908</td>\n",
              "      <td>0.406200</td>\n",
              "      <td>0.495631</td>\n",
              "      <td>0.406200</td>\n",
              "      <td>0.800889</td>\n",
              "      <td>998</td>\n",
              "    </tr>\n",
              "    <tr>\n",
              "      <th>999</th>\n",
              "      <td>2.543253</td>\n",
              "      <td>1.212139</td>\n",
              "      <td>2.543253</td>\n",
              "      <td>0.595915</td>\n",
              "      <td>0.406620</td>\n",
              "      <td>0.496093</td>\n",
              "      <td>0.406620</td>\n",
              "      <td>0.808000</td>\n",
              "      <td>999</td>\n",
              "    </tr>\n",
              "  </tbody>\n",
              "</table>\n",
              "</div>"
            ],
            "text/plain": [
              "     val_loss   val_mae   val_mse  ...       mse  accuracy  epoch\n",
              "995  2.532948  1.208452  2.532948  ...  0.406251  0.803778    995\n",
              "996  2.530773  1.208830  2.530773  ...  0.407447  0.802444    996\n",
              "997  2.538203  1.208007  2.538203  ...  0.407577  0.802444    997\n",
              "998  2.515686  1.205488  2.515686  ...  0.406200  0.800889    998\n",
              "999  2.543253  1.212139  2.543253  ...  0.406620  0.808000    999\n",
              "\n",
              "[5 rows x 9 columns]"
            ]
          },
          "metadata": {
            "tags": []
          },
          "execution_count": 268
        }
      ]
    },
    {
      "cell_type": "code",
      "metadata": {
        "id": "9pEzdnSTApb6",
        "colab_type": "code",
        "colab": {
          "base_uri": "https://localhost:8080/",
          "height": 68
        },
        "outputId": "3bf8dbae-2abf-4f8b-db6d-e65f5e93cb22"
      },
      "source": [
        "model = baseline_model()\n",
        "\n",
        "# The patience parameter is the amount of epochs to check for improvement\n",
        "early_stop = keras.callbacks.EarlyStopping(monitor='val_loss', patience=10)\n",
        "\n",
        "early_history = model.fit(X_train, y_train, \n",
        "                    epochs=1000, validation_split = 0.2, verbose=0, \n",
        "                    callbacks=[early_stop, tfdocs.modeling.EpochDots()])"
      ],
      "execution_count": 280,
      "outputs": [
        {
          "output_type": "stream",
          "text": [
            "\n",
            "Epoch: 0, accuracy:0.6527,  loss:1.7091,  mae:1.0098,  mse:1.7091,  val_accuracy:0.6909,  val_loss:1.4030,  val_mae:0.9322,  val_mse:1.4030,  \n",
            "..................."
          ],
          "name": "stdout"
        }
      ]
    },
    {
      "cell_type": "code",
      "metadata": {
        "id": "TbmXGWfV1ByE",
        "colab_type": "code",
        "colab": {}
      },
      "source": [
        "y_pred= ann.predict(X_test)"
      ],
      "execution_count": 0,
      "outputs": []
    },
    {
      "cell_type": "code",
      "metadata": {
        "id": "kqWRaxdlDFpm",
        "colab_type": "code",
        "colab": {
          "base_uri": "https://localhost:8080/",
          "height": 283
        },
        "outputId": "f20b9658-7086-4b0a-af01-aa1191f23d67"
      },
      "source": [
        "a = plt.axes(aspect='equal')\n",
        "plt.scatter(y_pred, y_test)\n",
        "plt.xlabel('True Values')\n",
        "plt.ylabel('Predictions')\n",
        "lims = [0, 5]\n",
        "plt.xlim(lims)\n",
        "plt.ylim(lims)\n",
        "_ = plt.plot(lims, lims)"
      ],
      "execution_count": 287,
      "outputs": [
        {
          "output_type": "display_data",
          "data": {
            "image/png": "[encoded data removed]",
            "text/plain": [
              "<Figure size 432x288 with 1 Axes>"
            ]
          },
          "metadata": {
            "tags": [],
            "needs_background": "light"
          }
        }
      ]
    },
    {
      "cell_type": "code",
      "metadata": {
        "id": "5n49iCjsDakU",
        "colab_type": "code",
        "colab": {
          "base_uri": "https://localhost:8080/",
          "height": 279
        },
        "outputId": "d3e61c7d-2723-42fe-ebbf-ecb442dd57bc"
      },
      "source": [
        "error = y_pred - y_test\n",
        "plt.hist(error, bins = 20)\n",
        "plt.xlabel(\"Prediction Error\")\n",
        "_ = plt.ylabel(\"Count\")"
      ],
      "execution_count": 293,
      "outputs": [
        {
          "output_type": "display_data",
          "data": {
            "image/png": "[encoded data removed]",
            "text/plain": [
              "<Figure size 432x288 with 1 Axes>"
            ]
          },
          "metadata": {
            "tags": [],
            "needs_background": "light"
          }
        }
      ]
    },
    {
      "cell_type": "code",
      "metadata": {
        "id": "Cu_5SuiR1G77",
        "colab_type": "code",
        "outputId": "8fb2b546-14c5-405f-bb4f-a75a4b260b63",
        "colab": {
          "base_uri": "https://localhost:8080/",
          "height": 136
        }
      },
      "source": [
        "np.set_printoptions(precision=2)\n",
        "print(np.concatenate((y_pred.reshape(len(y_pred),2),y_test.reshape(len(y_test),2)),1))"
      ],
      "execution_count": 270,
      "outputs": [
        {
          "output_type": "stream",
          "text": [
            "[[1.95 0.88 2.   3.  ]\n",
            " [0.92 1.63 2.   2.  ]\n",
            " [1.65 0.67 2.   2.  ]\n",
            " ...\n",
            " [1.84 1.21 1.   2.  ]\n",
            " [1.54 1.19 2.   0.  ]\n",
            " [1.49 0.84 1.   3.  ]]\n"
          ],
          "name": "stdout"
        }
      ]
    },
    {
      "cell_type": "markdown",
      "metadata": {
        "id": "4jfGovuP6SGd",
        "colab_type": "text"
      },
      "source": [
        "**MODEL EVALUATION**"
      ]
    },
    {
      "cell_type": "code",
      "metadata": {
        "id": "8hLTVsArEQ_Z",
        "colab_type": "code",
        "colab": {
          "base_uri": "https://localhost:8080/",
          "height": 544
        },
        "outputId": "4840350b-558d-49a6-b3cb-2be300ef9142"
      },
      "source": [
        "#Model Evaluation using K-fold cross validator\n",
        "estimator = KerasRegressor(build_fn=baseline_model)\n",
        "kfold = KFold(n_splits=10)\n",
        "results = cross_val_score(estimator, X_train, y_train, cv=kfold)\n",
        "print(\"Model_Result: %.2f (%.2f) MSE\" % (results.mean(), results.std()))\n"
      ],
      "execution_count": 301,
      "outputs": [
        {
          "output_type": "stream",
          "text": [
            "Epoch 1/1\n",
            "5063/5063 [==============================] - 0s 61us/step - loss: 1.6481 - mae: 0.9938 - mse: 1.6481 - accuracy: 0.6741\n",
            "563/563 [==============================] - 0s 60us/step\n",
            "Epoch 1/1\n",
            "5063/5063 [==============================] - 0s 65us/step - loss: 1.4975 - mae: 0.9560 - mse: 1.4975 - accuracy: 0.7118\n",
            "563/563 [==============================] - 0s 59us/step\n",
            "Epoch 1/1\n",
            "5063/5063 [==============================] - 0s 66us/step - loss: 1.6973 - mae: 1.0100 - mse: 1.6973 - accuracy: 0.5690\n",
            "563/563 [==============================] - 0s 63us/step\n",
            "Epoch 1/1\n",
            "5063/5063 [==============================] - 0s 67us/step - loss: 1.4928 - mae: 0.9624 - mse: 1.4928 - accuracy: 0.7104\n",
            "563/563 [==============================] - 0s 64us/step\n",
            "Epoch 1/1\n",
            "5063/5063 [==============================] - 0s 68us/step - loss: 1.5606 - mae: 0.9725 - mse: 1.5606 - accuracy: 0.6563\n",
            "563/563 [==============================] - 0s 62us/step\n",
            "Epoch 1/1\n",
            "5063/5063 [==============================] - 0s 64us/step - loss: 1.6846 - mae: 1.0003 - mse: 1.6846 - accuracy: 0.6658\n",
            "563/563 [==============================] - 0s 61us/step\n",
            "Epoch 1/1\n",
            "5064/5064 [==============================] - 0s 65us/step - loss: 1.6105 - mae: 0.9867 - mse: 1.6105 - accuracy: 0.6718\n",
            "562/562 [==============================] - 0s 60us/step\n",
            "Epoch 1/1\n",
            "5064/5064 [==============================] - 0s 68us/step - loss: 1.6642 - mae: 0.9973 - mse: 1.6642 - accuracy: 0.6461\n",
            "562/562 [==============================] - 0s 66us/step\n",
            "Epoch 1/1\n",
            "5064/5064 [==============================] - 0s 62us/step - loss: 1.9303 - mae: 1.0652 - mse: 1.9303 - accuracy: 0.6961\n",
            "562/562 [==============================] - 0s 57us/step\n",
            "Epoch 1/1\n",
            "5064/5064 [==============================] - 0s 63us/step - loss: 1.7585 - mae: 1.0163 - mse: 1.7585 - accuracy: 0.6927\n",
            "562/562 [==============================] - 0s 62us/step\n",
            "Model_Result: -1.36 (0.05) MSE\n"
          ],
          "name": "stdout"
        }
      ]
    }
  ]
}