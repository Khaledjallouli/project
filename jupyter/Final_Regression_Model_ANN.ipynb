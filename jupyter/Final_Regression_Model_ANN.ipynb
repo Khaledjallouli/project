{
  "nbformat": 4,
  "nbformat_minor": 0,
  "metadata": {
    "accelerator": "GPU",
    "colab": {
      "name": "Updated_Regression_Model_ANN.ipynb",
      "provenance": [],
      "collapsed_sections": []
    },
    "kernelspec": {
      "display_name": "Python 3",
      "language": "python",
      "name": "python3"
    },
    "language_info": {
      "codemirror_mode": {
        "name": "ipython",
        "version": 3
      },
      "file_extension": ".py",
      "mimetype": "text/x-python",
      "name": "python",
      "nbconvert_exporter": "python",
      "pygments_lexer": "ipython3",
      "version": "3.7.3"
    }
  },
  "cells": [
    {
      "cell_type": "markdown",
      "metadata": {
        "id": "EMQmP-Bknt5P",
        "colab_type": "text"
      },
      "source": [
        "# Regression\n",
        "Predict the final goals scored per each team."
      ]
    },
    {
      "cell_type": "code",
      "metadata": {
        "colab_type": "code",
        "id": "FtJth4hT577a",
        "colab": {}
      },
      "source": [
        "import numpy as np\n",
        "import matplotlib.pyplot as plt\n",
        "%matplotlib inline\n",
        "import pandas as pd\n",
        "pd.set_option('display.max_columns', 999)\n",
        "\n",
        "from sklearn import preprocessing\n",
        "from sklearn.model_selection import train_test_split\n",
        "\n",
        "import tensorflow as tf\n",
        "from tensorflow.estimator import inputs\n",
        "from tensorflow import feature_column\n",
        "from tensorflow.keras import layers\n",
        "from tensorflow.keras import regularizers\n",
        "from tensorflow import keras\n",
        "from tensorflow.keras.callbacks import EarlyStopping\n",
        "\n",
        "from tensorflow.keras.models import load_model\n",
        "\n",
        "\n",
        "import tensorflow_docs as tfdocs\n",
        "import tensorflow_docs.modeling\n",
        "import tensorflow_docs.plots\n",
        "\n",
        "from  IPython import display\n",
        "from matplotlib import pyplot as plt\n",
        "\n",
        "import numpy as np\n",
        "import math\n",
        "\n",
        "import pathlib\n",
        "import shutil\n",
        "import tempfile"
      ],
      "execution_count": 2,
      "outputs": []
    },
    {
      "cell_type": "code",
      "metadata": {
        "id": "nVI7Xp89n15I",
        "colab_type": "code",
        "colab": {
          "base_uri": "https://localhost:8080/",
          "height": 309
        },
        "outputId": "77b70dcb-3733-4530-86a1-1a557f049b67"
      },
      "source": [
        "pip install git+https://github.com/tensorflow/docs"
      ],
      "execution_count": 1,
      "outputs": [
        {
          "output_type": "stream",
          "text": [
            "Collecting git+https://github.com/tensorflow/docs\n",
            "  Cloning https://github.com/tensorflow/docs to /tmp/pip-req-build-e2qz0lq4\n",
            "  Running command git clone -q https://github.com/tensorflow/docs /tmp/pip-req-build-e2qz0lq4\n",
            "Requirement already satisfied: astor in /usr/local/lib/python3.6/dist-packages (from tensorflow-docs===0.0.0e523f38075e600481aa19d643dd7a3ea60c3f6ff-) (0.8.1)\n",
            "Requirement already satisfied: absl-py in /usr/local/lib/python3.6/dist-packages (from tensorflow-docs===0.0.0e523f38075e600481aa19d643dd7a3ea60c3f6ff-) (0.9.0)\n",
            "Requirement already satisfied: protobuf in /usr/local/lib/python3.6/dist-packages (from tensorflow-docs===0.0.0e523f38075e600481aa19d643dd7a3ea60c3f6ff-) (3.10.0)\n",
            "Requirement already satisfied: pyyaml in /usr/local/lib/python3.6/dist-packages (from tensorflow-docs===0.0.0e523f38075e600481aa19d643dd7a3ea60c3f6ff-) (3.13)\n",
            "Requirement already satisfied: six in /usr/local/lib/python3.6/dist-packages (from absl-py->tensorflow-docs===0.0.0e523f38075e600481aa19d643dd7a3ea60c3f6ff-) (1.12.0)\n",
            "Requirement already satisfied: setuptools in /usr/local/lib/python3.6/dist-packages (from protobuf->tensorflow-docs===0.0.0e523f38075e600481aa19d643dd7a3ea60c3f6ff-) (47.3.1)\n",
            "Building wheels for collected packages: tensorflow-docs\n",
            "  Building wheel for tensorflow-docs (setup.py) ... \u001b[?25l\u001b[?25hdone\n",
            "  Created wheel for tensorflow-docs: filename=tensorflow_docs-0.0.0e523f38075e600481aa19d643dd7a3ea60c3f6ff_-cp36-none-any.whl size=117792 sha256=e346df65ef33615577e876f1efd060995180f4f78d333cec1749e0a79130e4e4\n",
            "  Stored in directory: /tmp/pip-ephem-wheel-cache-faiuly08/wheels/eb/1b/35/fce87697be00d2fc63e0b4b395b0d9c7e391a10e98d9a0d97f\n",
            "Successfully built tensorflow-docs\n",
            "Installing collected packages: tensorflow-docs\n",
            "Successfully installed tensorflow-docs-0.0.0e523f38075e600481aa19d643dd7a3ea60c3f6ff-\n"
          ],
          "name": "stdout"
        }
      ]
    },
    {
      "cell_type": "markdown",
      "metadata": {
        "id": "pmP557n8nt5X",
        "colab_type": "text"
      },
      "source": [
        "## Data Preprocessing\n",
        "    1. Normalization\n",
        "    2. Data encoding: The goals [0,10] => [-1,1]. If Goal > 10 => 1"
      ]
    },
    {
      "cell_type": "code",
      "metadata": {
        "id": "u_NuYqrJnt5Y",
        "colab_type": "code",
        "colab": {}
      },
      "source": [
        "df02 = pd.read_csv('https://raw.githubusercontent.com/Khaledjallouli/project/master/data/data_regression_goals/sliding02_goals.csv', sep=',', index_col=0)"
      ],
      "execution_count": 3,
      "outputs": []
    },
    {
      "cell_type": "code",
      "metadata": {
        "id": "MFm2Qfk2nt5c",
        "colab_type": "code",
        "colab": {
          "base_uri": "https://localhost:8080/",
          "height": 473
        },
        "outputId": "b8a2b274-3f0a-44c4-c5ab-c00ffd94de29"
      },
      "source": [
        "df02"
      ],
      "execution_count": 4,
      "outputs": [
        {
          "output_type": "execute_result",
          "data": {
            "text/html": [
              "<div>\n",
              "<style scoped>\n",
              "    .dataframe tbody tr th:only-of-type {\n",
              "        vertical-align: middle;\n",
              "    }\n",
              "\n",
              "    .dataframe tbody tr th {\n",
              "        vertical-align: top;\n",
              "    }\n",
              "\n",
              "    .dataframe thead th {\n",
              "        text-align: right;\n",
              "    }\n",
              "</style>\n",
              "<table border=\"1\" class=\"dataframe\">\n",
              "  <thead>\n",
              "    <tr style=\"text-align: right;\">\n",
              "      <th></th>\n",
              "      <th>home_team_goal</th>\n",
              "      <th>away_team_goal</th>\n",
              "      <th>odds-home</th>\n",
              "      <th>odds-draw</th>\n",
              "      <th>odds-away</th>\n",
              "      <th>home-wins</th>\n",
              "      <th>home-draws</th>\n",
              "      <th>home-losses</th>\n",
              "      <th>home-goals</th>\n",
              "      <th>home-opposition-goals</th>\n",
              "      <th>home-shots</th>\n",
              "      <th>home-shots_on_target</th>\n",
              "      <th>home-opposition_shots</th>\n",
              "      <th>home-opposition_shots_on_target</th>\n",
              "      <th>away-wins</th>\n",
              "      <th>away-draws</th>\n",
              "      <th>away-losses</th>\n",
              "      <th>away-goals</th>\n",
              "      <th>away-opposition-goals</th>\n",
              "      <th>away-shots</th>\n",
              "      <th>away-shots_on_target</th>\n",
              "      <th>away-opposition_shots</th>\n",
              "      <th>away-opposition_shots_on_target</th>\n",
              "    </tr>\n",
              "  </thead>\n",
              "  <tbody>\n",
              "    <tr>\n",
              "      <th>0</th>\n",
              "      <td>2</td>\n",
              "      <td>1</td>\n",
              "      <td>3.50</td>\n",
              "      <td>3.30</td>\n",
              "      <td>2.10</td>\n",
              "      <td>1</td>\n",
              "      <td>3</td>\n",
              "      <td>6</td>\n",
              "      <td>11</td>\n",
              "      <td>16</td>\n",
              "      <td>137</td>\n",
              "      <td>67</td>\n",
              "      <td>117</td>\n",
              "      <td>53</td>\n",
              "      <td>8</td>\n",
              "      <td>2</td>\n",
              "      <td>0</td>\n",
              "      <td>15</td>\n",
              "      <td>6</td>\n",
              "      <td>161</td>\n",
              "      <td>78</td>\n",
              "      <td>72</td>\n",
              "      <td>30</td>\n",
              "    </tr>\n",
              "    <tr>\n",
              "      <th>1</th>\n",
              "      <td>2</td>\n",
              "      <td>2</td>\n",
              "      <td>2.50</td>\n",
              "      <td>3.30</td>\n",
              "      <td>2.88</td>\n",
              "      <td>3</td>\n",
              "      <td>1</td>\n",
              "      <td>6</td>\n",
              "      <td>8</td>\n",
              "      <td>16</td>\n",
              "      <td>134</td>\n",
              "      <td>64</td>\n",
              "      <td>151</td>\n",
              "      <td>77</td>\n",
              "      <td>3</td>\n",
              "      <td>3</td>\n",
              "      <td>4</td>\n",
              "      <td>11</td>\n",
              "      <td>18</td>\n",
              "      <td>104</td>\n",
              "      <td>44</td>\n",
              "      <td>87</td>\n",
              "      <td>36</td>\n",
              "    </tr>\n",
              "    <tr>\n",
              "      <th>2</th>\n",
              "      <td>1</td>\n",
              "      <td>2</td>\n",
              "      <td>1.91</td>\n",
              "      <td>3.40</td>\n",
              "      <td>4.20</td>\n",
              "      <td>4</td>\n",
              "      <td>2</td>\n",
              "      <td>4</td>\n",
              "      <td>10</td>\n",
              "      <td>15</td>\n",
              "      <td>120</td>\n",
              "      <td>58</td>\n",
              "      <td>124</td>\n",
              "      <td>56</td>\n",
              "      <td>2</td>\n",
              "      <td>2</td>\n",
              "      <td>6</td>\n",
              "      <td>11</td>\n",
              "      <td>15</td>\n",
              "      <td>134</td>\n",
              "      <td>59</td>\n",
              "      <td>100</td>\n",
              "      <td>46</td>\n",
              "    </tr>\n",
              "    <tr>\n",
              "      <th>3</th>\n",
              "      <td>2</td>\n",
              "      <td>1</td>\n",
              "      <td>3.25</td>\n",
              "      <td>3.25</td>\n",
              "      <td>2.30</td>\n",
              "      <td>5</td>\n",
              "      <td>2</td>\n",
              "      <td>3</td>\n",
              "      <td>22</td>\n",
              "      <td>12</td>\n",
              "      <td>177</td>\n",
              "      <td>82</td>\n",
              "      <td>74</td>\n",
              "      <td>37</td>\n",
              "      <td>6</td>\n",
              "      <td>3</td>\n",
              "      <td>1</td>\n",
              "      <td>19</td>\n",
              "      <td>8</td>\n",
              "      <td>169</td>\n",
              "      <td>95</td>\n",
              "      <td>113</td>\n",
              "      <td>58</td>\n",
              "    </tr>\n",
              "    <tr>\n",
              "      <th>4</th>\n",
              "      <td>3</td>\n",
              "      <td>0</td>\n",
              "      <td>1.20</td>\n",
              "      <td>6.00</td>\n",
              "      <td>19.00</td>\n",
              "      <td>7</td>\n",
              "      <td>2</td>\n",
              "      <td>1</td>\n",
              "      <td>15</td>\n",
              "      <td>8</td>\n",
              "      <td>161</td>\n",
              "      <td>72</td>\n",
              "      <td>74</td>\n",
              "      <td>31</td>\n",
              "      <td>3</td>\n",
              "      <td>2</td>\n",
              "      <td>5</td>\n",
              "      <td>10</td>\n",
              "      <td>17</td>\n",
              "      <td>143</td>\n",
              "      <td>69</td>\n",
              "      <td>134</td>\n",
              "      <td>69</td>\n",
              "    </tr>\n",
              "    <tr>\n",
              "      <th>...</th>\n",
              "      <td>...</td>\n",
              "      <td>...</td>\n",
              "      <td>...</td>\n",
              "      <td>...</td>\n",
              "      <td>...</td>\n",
              "      <td>...</td>\n",
              "      <td>...</td>\n",
              "      <td>...</td>\n",
              "      <td>...</td>\n",
              "      <td>...</td>\n",
              "      <td>...</td>\n",
              "      <td>...</td>\n",
              "      <td>...</td>\n",
              "      <td>...</td>\n",
              "      <td>...</td>\n",
              "      <td>...</td>\n",
              "      <td>...</td>\n",
              "      <td>...</td>\n",
              "      <td>...</td>\n",
              "      <td>...</td>\n",
              "      <td>...</td>\n",
              "      <td>...</td>\n",
              "      <td>...</td>\n",
              "    </tr>\n",
              "    <tr>\n",
              "      <th>7028</th>\n",
              "      <td>2</td>\n",
              "      <td>1</td>\n",
              "      <td>5.00</td>\n",
              "      <td>3.80</td>\n",
              "      <td>1.70</td>\n",
              "      <td>4</td>\n",
              "      <td>2</td>\n",
              "      <td>4</td>\n",
              "      <td>10</td>\n",
              "      <td>12</td>\n",
              "      <td>80</td>\n",
              "      <td>43</td>\n",
              "      <td>117</td>\n",
              "      <td>60</td>\n",
              "      <td>2</td>\n",
              "      <td>4</td>\n",
              "      <td>4</td>\n",
              "      <td>10</td>\n",
              "      <td>21</td>\n",
              "      <td>119</td>\n",
              "      <td>58</td>\n",
              "      <td>112</td>\n",
              "      <td>65</td>\n",
              "    </tr>\n",
              "    <tr>\n",
              "      <th>7029</th>\n",
              "      <td>4</td>\n",
              "      <td>2</td>\n",
              "      <td>2.00</td>\n",
              "      <td>3.60</td>\n",
              "      <td>3.70</td>\n",
              "      <td>3</td>\n",
              "      <td>2</td>\n",
              "      <td>5</td>\n",
              "      <td>9</td>\n",
              "      <td>21</td>\n",
              "      <td>89</td>\n",
              "      <td>47</td>\n",
              "      <td>92</td>\n",
              "      <td>46</td>\n",
              "      <td>1</td>\n",
              "      <td>4</td>\n",
              "      <td>5</td>\n",
              "      <td>7</td>\n",
              "      <td>21</td>\n",
              "      <td>104</td>\n",
              "      <td>55</td>\n",
              "      <td>63</td>\n",
              "      <td>26</td>\n",
              "    </tr>\n",
              "    <tr>\n",
              "      <th>7030</th>\n",
              "      <td>4</td>\n",
              "      <td>1</td>\n",
              "      <td>1.80</td>\n",
              "      <td>3.75</td>\n",
              "      <td>4.50</td>\n",
              "      <td>3</td>\n",
              "      <td>3</td>\n",
              "      <td>4</td>\n",
              "      <td>8</td>\n",
              "      <td>8</td>\n",
              "      <td>122</td>\n",
              "      <td>59</td>\n",
              "      <td>92</td>\n",
              "      <td>50</td>\n",
              "      <td>5</td>\n",
              "      <td>2</td>\n",
              "      <td>3</td>\n",
              "      <td>15</td>\n",
              "      <td>9</td>\n",
              "      <td>84</td>\n",
              "      <td>43</td>\n",
              "      <td>118</td>\n",
              "      <td>56</td>\n",
              "    </tr>\n",
              "    <tr>\n",
              "      <th>7031</th>\n",
              "      <td>3</td>\n",
              "      <td>1</td>\n",
              "      <td>1.33</td>\n",
              "      <td>5.25</td>\n",
              "      <td>9.00</td>\n",
              "      <td>2</td>\n",
              "      <td>3</td>\n",
              "      <td>5</td>\n",
              "      <td>12</td>\n",
              "      <td>14</td>\n",
              "      <td>124</td>\n",
              "      <td>62</td>\n",
              "      <td>99</td>\n",
              "      <td>50</td>\n",
              "      <td>3</td>\n",
              "      <td>3</td>\n",
              "      <td>4</td>\n",
              "      <td>11</td>\n",
              "      <td>17</td>\n",
              "      <td>103</td>\n",
              "      <td>53</td>\n",
              "      <td>122</td>\n",
              "      <td>54</td>\n",
              "    </tr>\n",
              "    <tr>\n",
              "      <th>7032</th>\n",
              "      <td>3</td>\n",
              "      <td>1</td>\n",
              "      <td>1.67</td>\n",
              "      <td>4.20</td>\n",
              "      <td>5.25</td>\n",
              "      <td>6</td>\n",
              "      <td>1</td>\n",
              "      <td>3</td>\n",
              "      <td>10</td>\n",
              "      <td>8</td>\n",
              "      <td>105</td>\n",
              "      <td>65</td>\n",
              "      <td>126</td>\n",
              "      <td>54</td>\n",
              "      <td>3</td>\n",
              "      <td>2</td>\n",
              "      <td>5</td>\n",
              "      <td>13</td>\n",
              "      <td>19</td>\n",
              "      <td>114</td>\n",
              "      <td>63</td>\n",
              "      <td>106</td>\n",
              "      <td>46</td>\n",
              "    </tr>\n",
              "  </tbody>\n",
              "</table>\n",
              "<p>7033 rows × 23 columns</p>\n",
              "</div>"
            ],
            "text/plain": [
              "      home_team_goal  away_team_goal  odds-home  odds-draw  odds-away  \\\n",
              "0                  2               1       3.50       3.30       2.10   \n",
              "1                  2               2       2.50       3.30       2.88   \n",
              "2                  1               2       1.91       3.40       4.20   \n",
              "3                  2               1       3.25       3.25       2.30   \n",
              "4                  3               0       1.20       6.00      19.00   \n",
              "...              ...             ...        ...        ...        ...   \n",
              "7028               2               1       5.00       3.80       1.70   \n",
              "7029               4               2       2.00       3.60       3.70   \n",
              "7030               4               1       1.80       3.75       4.50   \n",
              "7031               3               1       1.33       5.25       9.00   \n",
              "7032               3               1       1.67       4.20       5.25   \n",
              "\n",
              "      home-wins  home-draws  home-losses  home-goals  home-opposition-goals  \\\n",
              "0             1           3            6          11                     16   \n",
              "1             3           1            6           8                     16   \n",
              "2             4           2            4          10                     15   \n",
              "3             5           2            3          22                     12   \n",
              "4             7           2            1          15                      8   \n",
              "...         ...         ...          ...         ...                    ...   \n",
              "7028          4           2            4          10                     12   \n",
              "7029          3           2            5           9                     21   \n",
              "7030          3           3            4           8                      8   \n",
              "7031          2           3            5          12                     14   \n",
              "7032          6           1            3          10                      8   \n",
              "\n",
              "      home-shots  home-shots_on_target  home-opposition_shots  \\\n",
              "0            137                    67                    117   \n",
              "1            134                    64                    151   \n",
              "2            120                    58                    124   \n",
              "3            177                    82                     74   \n",
              "4            161                    72                     74   \n",
              "...          ...                   ...                    ...   \n",
              "7028          80                    43                    117   \n",
              "7029          89                    47                     92   \n",
              "7030         122                    59                     92   \n",
              "7031         124                    62                     99   \n",
              "7032         105                    65                    126   \n",
              "\n",
              "      home-opposition_shots_on_target  away-wins  away-draws  away-losses  \\\n",
              "0                                  53          8           2            0   \n",
              "1                                  77          3           3            4   \n",
              "2                                  56          2           2            6   \n",
              "3                                  37          6           3            1   \n",
              "4                                  31          3           2            5   \n",
              "...                               ...        ...         ...          ...   \n",
              "7028                               60          2           4            4   \n",
              "7029                               46          1           4            5   \n",
              "7030                               50          5           2            3   \n",
              "7031                               50          3           3            4   \n",
              "7032                               54          3           2            5   \n",
              "\n",
              "      away-goals  away-opposition-goals  away-shots  away-shots_on_target  \\\n",
              "0             15                      6         161                    78   \n",
              "1             11                     18         104                    44   \n",
              "2             11                     15         134                    59   \n",
              "3             19                      8         169                    95   \n",
              "4             10                     17         143                    69   \n",
              "...          ...                    ...         ...                   ...   \n",
              "7028          10                     21         119                    58   \n",
              "7029           7                     21         104                    55   \n",
              "7030          15                      9          84                    43   \n",
              "7031          11                     17         103                    53   \n",
              "7032          13                     19         114                    63   \n",
              "\n",
              "      away-opposition_shots  away-opposition_shots_on_target  \n",
              "0                        72                               30  \n",
              "1                        87                               36  \n",
              "2                       100                               46  \n",
              "3                       113                               58  \n",
              "4                       134                               69  \n",
              "...                     ...                              ...  \n",
              "7028                    112                               65  \n",
              "7029                     63                               26  \n",
              "7030                    118                               56  \n",
              "7031                    122                               54  \n",
              "7032                    106                               46  \n",
              "\n",
              "[7033 rows x 23 columns]"
            ]
          },
          "metadata": {
            "tags": []
          },
          "execution_count": 4
        }
      ]
    },
    {
      "cell_type": "code",
      "metadata": {
        "id": "tzti9zrknt5h",
        "colab_type": "code",
        "colab": {
          "base_uri": "https://localhost:8080/",
          "height": 238
        },
        "outputId": "f6cbffd4-16c5-4f0d-e978-e427fe87a04c"
      },
      "source": [
        "byhomegoal = df02.groupby('home_team_goal')\n",
        "byhomegoal.size().sort_values(ascending=False)"
      ],
      "execution_count": 5,
      "outputs": [
        {
          "output_type": "execute_result",
          "data": {
            "text/plain": [
              "home_team_goal\n",
              "1     2251\n",
              "2     1732\n",
              "0     1589\n",
              "3      885\n",
              "4      378\n",
              "5      132\n",
              "6       43\n",
              "7       13\n",
              "8        7\n",
              "9        2\n",
              "10       1\n",
              "dtype: int64"
            ]
          },
          "metadata": {
            "tags": []
          },
          "execution_count": 5
        }
      ]
    },
    {
      "cell_type": "code",
      "metadata": {
        "id": "1V2WCPxmnt5m",
        "colab_type": "code",
        "colab": {
          "base_uri": "https://localhost:8080/",
          "height": 221
        },
        "outputId": "9c57eaac-ba5f-40aa-d8c3-d585d7172e8b"
      },
      "source": [
        "byawaygoal = df02.groupby('away_team_goal')\n",
        "byawaygoal.size().sort_values(ascending=False)"
      ],
      "execution_count": 6,
      "outputs": [
        {
          "output_type": "execute_result",
          "data": {
            "text/plain": [
              "away_team_goal\n",
              "1    2381\n",
              "0    2362\n",
              "2    1401\n",
              "3     613\n",
              "4     193\n",
              "5      52\n",
              "6      23\n",
              "8       5\n",
              "7       2\n",
              "9       1\n",
              "dtype: int64"
            ]
          },
          "metadata": {
            "tags": []
          },
          "execution_count": 6
        }
      ]
    },
    {
      "cell_type": "markdown",
      "metadata": {
        "id": "O6MockV_nt5p",
        "colab_type": "text"
      },
      "source": [
        "### =>The two previous cells show that we can keep 6 classes: [0.5].\n"
      ]
    },
    {
      "cell_type": "code",
      "metadata": {
        "id": "uwHnhYEynt5t",
        "colab_type": "code",
        "colab": {}
      },
      "source": [
        "def get_X_and_y(dataframe):\n",
        "    X = dataframe.drop(columns=['home_team_goal','away_team_goal']).values\n",
        "    y = dataframe[['home_team_goal','away_team_goal']].values\n",
        "    return X,y"
      ],
      "execution_count": 7,
      "outputs": []
    },
    {
      "cell_type": "code",
      "metadata": {
        "id": "EyNjI6jPnt5w",
        "colab_type": "code",
        "colab": {}
      },
      "source": [
        "def encode(i):\n",
        "    switcher = {\n",
        "        0: -1,\n",
        "        1: -0.6,\n",
        "        2: -0.2,\n",
        "        3: 0.2,\n",
        "        4: 0.6,\n",
        "        5: 1,\n",
        "    }\n",
        "    # 1 be assigned as default value of passed argument (if goals > 5)\n",
        "    return switcher.get(i, 1)\n",
        "\n",
        "def decode(i):\n",
        "    switcher = {\n",
        "        -1: 0,\n",
        "        -0.6: 1,\n",
        "        -0.2: 2,\n",
        "        0.2: 3,\n",
        "        0.6: 4,\n",
        "        1: 5,\n",
        "    }\n",
        "    return switcher.get(i, \"ERROR! Use Encode Before!\")"
      ],
      "execution_count": 8,
      "outputs": []
    },
    {
      "cell_type": "code",
      "metadata": {
        "id": "yOw4-355nt5y",
        "colab_type": "code",
        "colab": {}
      },
      "source": [
        "def normalize(dataframe):\n",
        "    column_names_to_not_normalize = ['home_team_goal','away_team_goal']\n",
        "    column_names_to_normalize = [x for x in list(dataframe) if x not in column_names_to_not_normalize ]\n",
        "    x = dataframe[column_names_to_normalize].values\n",
        "    x_scaled = preprocessing.normalize(x)\n",
        "    df_temp = pd.DataFrame(x_scaled, columns=column_names_to_normalize, index = dataframe.index)\n",
        "    dataframe[column_names_to_normalize] = df_temp\n",
        "    \n",
        "    dataframe['home_team_goal'] = dataframe.apply(lambda row: encode(row['home_team_goal']), axis=1)\n",
        "    dataframe['away_team_goal'] = dataframe.apply(lambda row: encode(row['away_team_goal']), axis=1)\n",
        "    \n",
        "    return dataframe"
      ],
      "execution_count": 9,
      "outputs": []
    },
    {
      "cell_type": "code",
      "metadata": {
        "id": "3PmG9M4ent52",
        "colab_type": "code",
        "colab": {
          "base_uri": "https://localhost:8080/",
          "height": 51
        },
        "outputId": "48986287-430f-4e3b-821e-63511716bf28"
      },
      "source": [
        "n02 = normalize(df02)\n",
        "\n",
        "train02, test02 = train_test_split(n02, test_size=0.1, shuffle=False)\n",
        "print(len(train02), 'train examples')\n",
        "print(len(test02), 'test examples')\n",
        "\n",
        "\n",
        "train_X02,train_y02 = get_X_and_y(train02)\n",
        "\n",
        "test_X02,test_y02 = get_X_and_y(test02)"
      ],
      "execution_count": 10,
      "outputs": [
        {
          "output_type": "stream",
          "text": [
            "6329 train examples\n",
            "704 test examples\n"
          ],
          "name": "stdout"
        }
      ]
    },
    {
      "cell_type": "code",
      "metadata": {
        "id": "tTAm_MXlnt54",
        "colab_type": "code",
        "colab": {
          "base_uri": "https://localhost:8080/",
          "height": 473
        },
        "outputId": "a344201f-a5aa-4c17-a193-4c257e25f624"
      },
      "source": [
        "n02"
      ],
      "execution_count": null,
      "outputs": [
        {
          "output_type": "execute_result",
          "data": {
            "text/html": [
              "<div>\n",
              "<style scoped>\n",
              "    .dataframe tbody tr th:only-of-type {\n",
              "        vertical-align: middle;\n",
              "    }\n",
              "\n",
              "    .dataframe tbody tr th {\n",
              "        vertical-align: top;\n",
              "    }\n",
              "\n",
              "    .dataframe thead th {\n",
              "        text-align: right;\n",
              "    }\n",
              "</style>\n",
              "<table border=\"1\" class=\"dataframe\">\n",
              "  <thead>\n",
              "    <tr style=\"text-align: right;\">\n",
              "      <th></th>\n",
              "      <th>home_team_goal</th>\n",
              "      <th>away_team_goal</th>\n",
              "      <th>odds-home</th>\n",
              "      <th>odds-draw</th>\n",
              "      <th>odds-away</th>\n",
              "      <th>home-wins</th>\n",
              "      <th>home-draws</th>\n",
              "      <th>home-losses</th>\n",
              "      <th>home-goals</th>\n",
              "      <th>home-opposition-goals</th>\n",
              "      <th>home-shots</th>\n",
              "      <th>home-shots_on_target</th>\n",
              "      <th>home-opposition_shots</th>\n",
              "      <th>home-opposition_shots_on_target</th>\n",
              "      <th>away-wins</th>\n",
              "      <th>away-draws</th>\n",
              "      <th>away-losses</th>\n",
              "      <th>away-goals</th>\n",
              "      <th>away-opposition-goals</th>\n",
              "      <th>away-shots</th>\n",
              "      <th>away-shots_on_target</th>\n",
              "      <th>away-opposition_shots</th>\n",
              "      <th>away-opposition_shots_on_target</th>\n",
              "    </tr>\n",
              "  </thead>\n",
              "  <tbody>\n",
              "    <tr>\n",
              "      <th>0</th>\n",
              "      <td>-0.2</td>\n",
              "      <td>-0.6</td>\n",
              "      <td>0.012482</td>\n",
              "      <td>0.011769</td>\n",
              "      <td>0.007489</td>\n",
              "      <td>0.003566</td>\n",
              "      <td>0.010699</td>\n",
              "      <td>0.021398</td>\n",
              "      <td>0.039230</td>\n",
              "      <td>0.057061</td>\n",
              "      <td>0.488587</td>\n",
              "      <td>0.238944</td>\n",
              "      <td>0.417260</td>\n",
              "      <td>0.189015</td>\n",
              "      <td>0.028531</td>\n",
              "      <td>0.007133</td>\n",
              "      <td>0.000000</td>\n",
              "      <td>0.053495</td>\n",
              "      <td>0.021398</td>\n",
              "      <td>0.574178</td>\n",
              "      <td>0.278173</td>\n",
              "      <td>0.256775</td>\n",
              "      <td>0.106990</td>\n",
              "    </tr>\n",
              "    <tr>\n",
              "      <th>1</th>\n",
              "      <td>-0.2</td>\n",
              "      <td>-0.2</td>\n",
              "      <td>0.009236</td>\n",
              "      <td>0.012191</td>\n",
              "      <td>0.010640</td>\n",
              "      <td>0.011083</td>\n",
              "      <td>0.003694</td>\n",
              "      <td>0.022166</td>\n",
              "      <td>0.029555</td>\n",
              "      <td>0.059110</td>\n",
              "      <td>0.495044</td>\n",
              "      <td>0.236439</td>\n",
              "      <td>0.557848</td>\n",
              "      <td>0.284465</td>\n",
              "      <td>0.011083</td>\n",
              "      <td>0.011083</td>\n",
              "      <td>0.014777</td>\n",
              "      <td>0.040638</td>\n",
              "      <td>0.066498</td>\n",
              "      <td>0.384213</td>\n",
              "      <td>0.162552</td>\n",
              "      <td>0.321409</td>\n",
              "      <td>0.132997</td>\n",
              "    </tr>\n",
              "    <tr>\n",
              "      <th>2</th>\n",
              "      <td>-0.6</td>\n",
              "      <td>-0.2</td>\n",
              "      <td>0.007188</td>\n",
              "      <td>0.012795</td>\n",
              "      <td>0.015805</td>\n",
              "      <td>0.015053</td>\n",
              "      <td>0.007526</td>\n",
              "      <td>0.015053</td>\n",
              "      <td>0.037632</td>\n",
              "      <td>0.056448</td>\n",
              "      <td>0.451585</td>\n",
              "      <td>0.218266</td>\n",
              "      <td>0.466638</td>\n",
              "      <td>0.210740</td>\n",
              "      <td>0.007526</td>\n",
              "      <td>0.007526</td>\n",
              "      <td>0.022579</td>\n",
              "      <td>0.041395</td>\n",
              "      <td>0.056448</td>\n",
              "      <td>0.504270</td>\n",
              "      <td>0.222029</td>\n",
              "      <td>0.376321</td>\n",
              "      <td>0.173108</td>\n",
              "    </tr>\n",
              "    <tr>\n",
              "      <th>3</th>\n",
              "      <td>-0.2</td>\n",
              "      <td>-0.6</td>\n",
              "      <td>0.010289</td>\n",
              "      <td>0.010289</td>\n",
              "      <td>0.007281</td>\n",
              "      <td>0.015829</td>\n",
              "      <td>0.006332</td>\n",
              "      <td>0.009497</td>\n",
              "      <td>0.069647</td>\n",
              "      <td>0.037989</td>\n",
              "      <td>0.560339</td>\n",
              "      <td>0.259592</td>\n",
              "      <td>0.234266</td>\n",
              "      <td>0.117133</td>\n",
              "      <td>0.018995</td>\n",
              "      <td>0.009497</td>\n",
              "      <td>0.003166</td>\n",
              "      <td>0.060149</td>\n",
              "      <td>0.025326</td>\n",
              "      <td>0.535013</td>\n",
              "      <td>0.300747</td>\n",
              "      <td>0.357730</td>\n",
              "      <td>0.183614</td>\n",
              "    </tr>\n",
              "    <tr>\n",
              "      <th>4</th>\n",
              "      <td>0.2</td>\n",
              "      <td>-1.0</td>\n",
              "      <td>0.004077</td>\n",
              "      <td>0.020384</td>\n",
              "      <td>0.064551</td>\n",
              "      <td>0.023782</td>\n",
              "      <td>0.006795</td>\n",
              "      <td>0.003397</td>\n",
              "      <td>0.050961</td>\n",
              "      <td>0.027179</td>\n",
              "      <td>0.546982</td>\n",
              "      <td>0.244613</td>\n",
              "      <td>0.251408</td>\n",
              "      <td>0.105320</td>\n",
              "      <td>0.010192</td>\n",
              "      <td>0.006795</td>\n",
              "      <td>0.016987</td>\n",
              "      <td>0.033974</td>\n",
              "      <td>0.057756</td>\n",
              "      <td>0.485829</td>\n",
              "      <td>0.234421</td>\n",
              "      <td>0.455252</td>\n",
              "      <td>0.234421</td>\n",
              "    </tr>\n",
              "    <tr>\n",
              "      <th>...</th>\n",
              "      <td>...</td>\n",
              "      <td>...</td>\n",
              "      <td>...</td>\n",
              "      <td>...</td>\n",
              "      <td>...</td>\n",
              "      <td>...</td>\n",
              "      <td>...</td>\n",
              "      <td>...</td>\n",
              "      <td>...</td>\n",
              "      <td>...</td>\n",
              "      <td>...</td>\n",
              "      <td>...</td>\n",
              "      <td>...</td>\n",
              "      <td>...</td>\n",
              "      <td>...</td>\n",
              "      <td>...</td>\n",
              "      <td>...</td>\n",
              "      <td>...</td>\n",
              "      <td>...</td>\n",
              "      <td>...</td>\n",
              "      <td>...</td>\n",
              "      <td>...</td>\n",
              "      <td>...</td>\n",
              "    </tr>\n",
              "    <tr>\n",
              "      <th>7028</th>\n",
              "      <td>-0.2</td>\n",
              "      <td>-0.6</td>\n",
              "      <td>0.020289</td>\n",
              "      <td>0.015420</td>\n",
              "      <td>0.006898</td>\n",
              "      <td>0.016231</td>\n",
              "      <td>0.008116</td>\n",
              "      <td>0.016231</td>\n",
              "      <td>0.040578</td>\n",
              "      <td>0.048694</td>\n",
              "      <td>0.324626</td>\n",
              "      <td>0.174487</td>\n",
              "      <td>0.474766</td>\n",
              "      <td>0.243470</td>\n",
              "      <td>0.008116</td>\n",
              "      <td>0.016231</td>\n",
              "      <td>0.016231</td>\n",
              "      <td>0.040578</td>\n",
              "      <td>0.085214</td>\n",
              "      <td>0.482881</td>\n",
              "      <td>0.235354</td>\n",
              "      <td>0.454477</td>\n",
              "      <td>0.263759</td>\n",
              "    </tr>\n",
              "    <tr>\n",
              "      <th>7029</th>\n",
              "      <td>0.6</td>\n",
              "      <td>-0.2</td>\n",
              "      <td>0.009960</td>\n",
              "      <td>0.017929</td>\n",
              "      <td>0.018427</td>\n",
              "      <td>0.014941</td>\n",
              "      <td>0.009960</td>\n",
              "      <td>0.024901</td>\n",
              "      <td>0.044822</td>\n",
              "      <td>0.104584</td>\n",
              "      <td>0.443238</td>\n",
              "      <td>0.234070</td>\n",
              "      <td>0.458179</td>\n",
              "      <td>0.229089</td>\n",
              "      <td>0.004980</td>\n",
              "      <td>0.019921</td>\n",
              "      <td>0.024901</td>\n",
              "      <td>0.034861</td>\n",
              "      <td>0.104584</td>\n",
              "      <td>0.517941</td>\n",
              "      <td>0.273911</td>\n",
              "      <td>0.313753</td>\n",
              "      <td>0.129485</td>\n",
              "    </tr>\n",
              "    <tr>\n",
              "      <th>7030</th>\n",
              "      <td>0.6</td>\n",
              "      <td>-0.6</td>\n",
              "      <td>0.007617</td>\n",
              "      <td>0.015870</td>\n",
              "      <td>0.019044</td>\n",
              "      <td>0.012696</td>\n",
              "      <td>0.012696</td>\n",
              "      <td>0.016928</td>\n",
              "      <td>0.033855</td>\n",
              "      <td>0.033855</td>\n",
              "      <td>0.516293</td>\n",
              "      <td>0.249683</td>\n",
              "      <td>0.389336</td>\n",
              "      <td>0.211596</td>\n",
              "      <td>0.021160</td>\n",
              "      <td>0.008464</td>\n",
              "      <td>0.012696</td>\n",
              "      <td>0.063479</td>\n",
              "      <td>0.038087</td>\n",
              "      <td>0.355481</td>\n",
              "      <td>0.181972</td>\n",
              "      <td>0.499366</td>\n",
              "      <td>0.236987</td>\n",
              "    </tr>\n",
              "    <tr>\n",
              "      <th>7031</th>\n",
              "      <td>0.2</td>\n",
              "      <td>-0.6</td>\n",
              "      <td>0.005271</td>\n",
              "      <td>0.020806</td>\n",
              "      <td>0.035667</td>\n",
              "      <td>0.007926</td>\n",
              "      <td>0.011889</td>\n",
              "      <td>0.019815</td>\n",
              "      <td>0.047556</td>\n",
              "      <td>0.055483</td>\n",
              "      <td>0.491416</td>\n",
              "      <td>0.245708</td>\n",
              "      <td>0.392341</td>\n",
              "      <td>0.198152</td>\n",
              "      <td>0.011889</td>\n",
              "      <td>0.011889</td>\n",
              "      <td>0.015852</td>\n",
              "      <td>0.043593</td>\n",
              "      <td>0.067372</td>\n",
              "      <td>0.408193</td>\n",
              "      <td>0.210041</td>\n",
              "      <td>0.483490</td>\n",
              "      <td>0.214004</td>\n",
              "    </tr>\n",
              "    <tr>\n",
              "      <th>7032</th>\n",
              "      <td>0.2</td>\n",
              "      <td>-0.6</td>\n",
              "      <td>0.006541</td>\n",
              "      <td>0.016450</td>\n",
              "      <td>0.020563</td>\n",
              "      <td>0.023501</td>\n",
              "      <td>0.003917</td>\n",
              "      <td>0.011750</td>\n",
              "      <td>0.039168</td>\n",
              "      <td>0.031334</td>\n",
              "      <td>0.411259</td>\n",
              "      <td>0.254589</td>\n",
              "      <td>0.493511</td>\n",
              "      <td>0.211505</td>\n",
              "      <td>0.011750</td>\n",
              "      <td>0.007834</td>\n",
              "      <td>0.019584</td>\n",
              "      <td>0.050918</td>\n",
              "      <td>0.074418</td>\n",
              "      <td>0.446510</td>\n",
              "      <td>0.246755</td>\n",
              "      <td>0.415176</td>\n",
              "      <td>0.180171</td>\n",
              "    </tr>\n",
              "  </tbody>\n",
              "</table>\n",
              "<p>7033 rows × 23 columns</p>\n",
              "</div>"
            ],
            "text/plain": [
              "      home_team_goal  away_team_goal  odds-home  odds-draw  odds-away  \\\n",
              "0               -0.2            -0.6   0.012482   0.011769   0.007489   \n",
              "1               -0.2            -0.2   0.009236   0.012191   0.010640   \n",
              "2               -0.6            -0.2   0.007188   0.012795   0.015805   \n",
              "3               -0.2            -0.6   0.010289   0.010289   0.007281   \n",
              "4                0.2            -1.0   0.004077   0.020384   0.064551   \n",
              "...              ...             ...        ...        ...        ...   \n",
              "7028            -0.2            -0.6   0.020289   0.015420   0.006898   \n",
              "7029             0.6            -0.2   0.009960   0.017929   0.018427   \n",
              "7030             0.6            -0.6   0.007617   0.015870   0.019044   \n",
              "7031             0.2            -0.6   0.005271   0.020806   0.035667   \n",
              "7032             0.2            -0.6   0.006541   0.016450   0.020563   \n",
              "\n",
              "      home-wins  home-draws  home-losses  home-goals  home-opposition-goals  \\\n",
              "0      0.003566    0.010699     0.021398    0.039230               0.057061   \n",
              "1      0.011083    0.003694     0.022166    0.029555               0.059110   \n",
              "2      0.015053    0.007526     0.015053    0.037632               0.056448   \n",
              "3      0.015829    0.006332     0.009497    0.069647               0.037989   \n",
              "4      0.023782    0.006795     0.003397    0.050961               0.027179   \n",
              "...         ...         ...          ...         ...                    ...   \n",
              "7028   0.016231    0.008116     0.016231    0.040578               0.048694   \n",
              "7029   0.014941    0.009960     0.024901    0.044822               0.104584   \n",
              "7030   0.012696    0.012696     0.016928    0.033855               0.033855   \n",
              "7031   0.007926    0.011889     0.019815    0.047556               0.055483   \n",
              "7032   0.023501    0.003917     0.011750    0.039168               0.031334   \n",
              "\n",
              "      home-shots  home-shots_on_target  home-opposition_shots  \\\n",
              "0       0.488587              0.238944               0.417260   \n",
              "1       0.495044              0.236439               0.557848   \n",
              "2       0.451585              0.218266               0.466638   \n",
              "3       0.560339              0.259592               0.234266   \n",
              "4       0.546982              0.244613               0.251408   \n",
              "...          ...                   ...                    ...   \n",
              "7028    0.324626              0.174487               0.474766   \n",
              "7029    0.443238              0.234070               0.458179   \n",
              "7030    0.516293              0.249683               0.389336   \n",
              "7031    0.491416              0.245708               0.392341   \n",
              "7032    0.411259              0.254589               0.493511   \n",
              "\n",
              "      home-opposition_shots_on_target  away-wins  away-draws  away-losses  \\\n",
              "0                            0.189015   0.028531    0.007133     0.000000   \n",
              "1                            0.284465   0.011083    0.011083     0.014777   \n",
              "2                            0.210740   0.007526    0.007526     0.022579   \n",
              "3                            0.117133   0.018995    0.009497     0.003166   \n",
              "4                            0.105320   0.010192    0.006795     0.016987   \n",
              "...                               ...        ...         ...          ...   \n",
              "7028                         0.243470   0.008116    0.016231     0.016231   \n",
              "7029                         0.229089   0.004980    0.019921     0.024901   \n",
              "7030                         0.211596   0.021160    0.008464     0.012696   \n",
              "7031                         0.198152   0.011889    0.011889     0.015852   \n",
              "7032                         0.211505   0.011750    0.007834     0.019584   \n",
              "\n",
              "      away-goals  away-opposition-goals  away-shots  away-shots_on_target  \\\n",
              "0       0.053495               0.021398    0.574178              0.278173   \n",
              "1       0.040638               0.066498    0.384213              0.162552   \n",
              "2       0.041395               0.056448    0.504270              0.222029   \n",
              "3       0.060149               0.025326    0.535013              0.300747   \n",
              "4       0.033974               0.057756    0.485829              0.234421   \n",
              "...          ...                    ...         ...                   ...   \n",
              "7028    0.040578               0.085214    0.482881              0.235354   \n",
              "7029    0.034861               0.104584    0.517941              0.273911   \n",
              "7030    0.063479               0.038087    0.355481              0.181972   \n",
              "7031    0.043593               0.067372    0.408193              0.210041   \n",
              "7032    0.050918               0.074418    0.446510              0.246755   \n",
              "\n",
              "      away-opposition_shots  away-opposition_shots_on_target  \n",
              "0                  0.256775                         0.106990  \n",
              "1                  0.321409                         0.132997  \n",
              "2                  0.376321                         0.173108  \n",
              "3                  0.357730                         0.183614  \n",
              "4                  0.455252                         0.234421  \n",
              "...                     ...                              ...  \n",
              "7028               0.454477                         0.263759  \n",
              "7029               0.313753                         0.129485  \n",
              "7030               0.499366                         0.236987  \n",
              "7031               0.483490                         0.214004  \n",
              "7032               0.415176                         0.180171  \n",
              "\n",
              "[7033 rows x 23 columns]"
            ]
          },
          "metadata": {
            "tags": []
          },
          "execution_count": 11
        }
      ]
    },
    {
      "cell_type": "code",
      "metadata": {
        "id": "44kHTmIWnt57",
        "colab_type": "code",
        "colab": {
          "base_uri": "https://localhost:8080/",
          "height": 153
        },
        "outputId": "f922da13-a46e-4846-94de-95008e1e4a04"
      },
      "source": [
        "# verif the classes\n",
        "byhomegoal = df02.groupby('home_team_goal')\n",
        "byhomegoal.size().sort_values(ascending=False)"
      ],
      "execution_count": 11,
      "outputs": [
        {
          "output_type": "execute_result",
          "data": {
            "text/plain": [
              "home_team_goal\n",
              "-0.6    2251\n",
              "-0.2    1732\n",
              "-1.0    1589\n",
              " 0.2     885\n",
              " 0.6     378\n",
              " 1.0     198\n",
              "dtype: int64"
            ]
          },
          "metadata": {
            "tags": []
          },
          "execution_count": 11
        }
      ]
    },
    {
      "cell_type": "code",
      "metadata": {
        "id": "LrUTbaq5nt5-",
        "colab_type": "code",
        "colab": {
          "base_uri": "https://localhost:8080/",
          "height": 153
        },
        "outputId": "48859afb-0585-4e85-a925-bec23623cf83"
      },
      "source": [
        "byawaygoal = df02.groupby('away_team_goal')\n",
        "byawaygoal.size().sort_values(ascending=False)"
      ],
      "execution_count": 12,
      "outputs": [
        {
          "output_type": "execute_result",
          "data": {
            "text/plain": [
              "away_team_goal\n",
              "-0.6    2381\n",
              "-1.0    2362\n",
              "-0.2    1401\n",
              " 0.2     613\n",
              " 0.6     193\n",
              " 1.0      83\n",
              "dtype: int64"
            ]
          },
          "metadata": {
            "tags": []
          },
          "execution_count": 12
        }
      ]
    },
    {
      "cell_type": "code",
      "metadata": {
        "id": "x-12xzP9nt6F",
        "colab_type": "code",
        "colab": {}
      },
      "source": [
        "def round_pred(val):\n",
        "    if val <=1 and val > 0.67:\n",
        "        return 1\n",
        "    elif val <=0.67 and val >0.33:\n",
        "        return 0.60\n",
        "    elif val <= 0.33 and val > 0:\n",
        "        return 0.20\n",
        "    elif val <= 0 and val > -0.33:\n",
        "        return -0.20\n",
        "    elif val<=-0.33 and val> -0.67:\n",
        "        return -0.60\n",
        "    else:\n",
        "        return -1"
      ],
      "execution_count": 13,
      "outputs": []
    },
    {
      "cell_type": "markdown",
      "metadata": {
        "id": "mIwYgXYent6L",
        "colab_type": "text"
      },
      "source": [
        "### Build the model\n",
        "\n",
        "https://www.tensorflow.org/tutorials/keras/regression\n",
        "The mean_squared_error (mse) and mean_absolute_error (mae) are our loss functions – i.e. an estimate of how accurate the neural network is in predicting the test data. We can see that with the validation_split set to 0.2, 80% of the training data is used to test the model, while the remaining 20% is used for testing purposes."
      ]
    },
    {
      "cell_type": "code",
      "metadata": {
        "id": "QN2xrrDOnt6L",
        "colab_type": "code",
        "colab": {}
      },
      "source": [
        "def build_model():\n",
        "  model= tf.keras.models.Sequential()\n",
        "  model.add(tf.keras.layers.Dense(units=21, activation='relu', input_shape=(train_X02.shape[1],)))\n",
        "  model.add(tf.keras.layers.Dense(units=10, activation='relu'))\n",
        "  model.add(tf.keras.layers.Dense(units=5, activation='relu'))\n",
        "  model.add(tf.keras.layers.Dense(units=2))\n",
        "  \n",
        "  optimizer = tf.keras.optimizers.RMSprop(0.001)\n",
        "\n",
        "  model.compile(loss='mse',\n",
        "                optimizer=optimizer,\n",
        "                metrics=['mae', 'mse','accuracy'])\n",
        "  return model"
      ],
      "execution_count": 56,
      "outputs": []
    },
    {
      "cell_type": "code",
      "metadata": {
        "id": "yY5_C13Knt6O",
        "colab_type": "code",
        "colab": {
          "base_uri": "https://localhost:8080/",
          "height": 374
        },
        "outputId": "3ddfb9d2-e477-4857-bde6-2c6da436d6ef"
      },
      "source": [
        "model = build_model()\n",
        "\n",
        "EPOCHS = 1000\n",
        "\n",
        "history = model.fit(\n",
        "  train_X02, train_y02,\n",
        "  epochs=EPOCHS, validation_split = 0.2, verbose=0, batch_size=32,\n",
        "  callbacks=[tfdocs.modeling.EpochDots()])\n"
      ],
      "execution_count": 57,
      "outputs": [
        {
          "output_type": "stream",
          "text": [
            "\n",
            "Epoch: 0, accuracy:0.6944,  loss:0.2670,  mae:0.4252,  mse:0.2670,  val_accuracy:0.6959,  val_loss:0.2309,  val_mae:0.3843,  val_mse:0.2309,  \n",
            "....................................................................................................\n",
            "Epoch: 100, accuracy:0.7239,  loss:0.2008,  mae:0.3588,  mse:0.2008,  val_accuracy:0.6430,  val_loss:0.2062,  val_mae:0.3602,  val_mse:0.2062,  \n",
            "....................................................................................................\n",
            "Epoch: 200, accuracy:0.7219,  loss:0.1997,  mae:0.3573,  mse:0.1997,  val_accuracy:0.6690,  val_loss:0.2049,  val_mae:0.3578,  val_mse:0.2049,  \n",
            "....................................................................................................\n",
            "Epoch: 300, accuracy:0.7207,  loss:0.1986,  mae:0.3558,  mse:0.1986,  val_accuracy:0.7030,  val_loss:0.2081,  val_mae:0.3620,  val_mse:0.2081,  \n",
            "....................................................................................................\n",
            "Epoch: 400, accuracy:0.7187,  loss:0.1976,  mae:0.3546,  mse:0.1976,  val_accuracy:0.6848,  val_loss:0.2072,  val_mae:0.3587,  val_mse:0.2072,  \n",
            "....................................................................................................\n",
            "Epoch: 500, accuracy:0.7235,  loss:0.1966,  mae:0.3531,  mse:0.1966,  val_accuracy:0.6272,  val_loss:0.2096,  val_mae:0.3618,  val_mse:0.2096,  \n",
            "....................................................................................................\n",
            "Epoch: 600, accuracy:0.7227,  loss:0.1957,  mae:0.3527,  mse:0.1957,  val_accuracy:0.6856,  val_loss:0.2087,  val_mae:0.3615,  val_mse:0.2087,  \n",
            "....................................................................................................\n",
            "Epoch: 700, accuracy:0.7209,  loss:0.1950,  mae:0.3517,  mse:0.1950,  val_accuracy:0.6690,  val_loss:0.2152,  val_mae:0.3617,  val_mse:0.2152,  \n",
            "....................................................................................................\n",
            "Epoch: 800, accuracy:0.7203,  loss:0.1937,  mae:0.3506,  mse:0.1937,  val_accuracy:0.6746,  val_loss:0.2158,  val_mae:0.3623,  val_mse:0.2158,  \n",
            "....................................................................................................\n",
            "Epoch: 900, accuracy:0.7223,  loss:0.1927,  mae:0.3498,  mse:0.1927,  val_accuracy:0.6777,  val_loss:0.2158,  val_mae:0.3637,  val_mse:0.2158,  \n",
            "...................................................................................................."
          ],
          "name": "stdout"
        }
      ]
    },
    {
      "cell_type": "markdown",
      "metadata": {
        "id": "83LeFNq3t5Sc",
        "colab_type": "text"
      },
      "source": [
        "From the output, we can see that the more epochs are run, the lower our MSE and MAE become, indicating improvement in accuracy across each iteration of our model."
      ]
    },
    {
      "cell_type": "markdown",
      "metadata": {
        "id": "vJgyJ8M_un_V",
        "colab_type": "text"
      },
      "source": [
        "**keras is calculating both the training loss and validation loss, i.e. the deviation between the predicted y and actual y as measured by the mean squared error**\n",
        "Let’s see our respective losses plot on using graph\n",
        "**Testing loss is decreasing, however Validation loss is still high**"
      ]
    },
    {
      "cell_type": "code",
      "metadata": {
        "id": "PiGi9AjHuh9b",
        "colab_type": "code",
        "colab": {
          "base_uri": "https://localhost:8080/",
          "height": 312
        },
        "outputId": "c01f35ab-05d1-488c-8366-2ae83e059ca6"
      },
      "source": [
        "print(history.history.keys())\n",
        "# \"Loss\"\n",
        "plt.plot(history.history['loss'])\n",
        "plt.plot(history.history['val_loss'])\n",
        "plt.title('model loss')\n",
        "plt.ylabel('loss')\n",
        "plt.xlabel('epoch')\n",
        "plt.legend(['train', 'validation'], loc='upper left')\n",
        "plt.show()"
      ],
      "execution_count": 58,
      "outputs": [
        {
          "output_type": "stream",
          "text": [
            "dict_keys(['loss', 'mae', 'mse', 'accuracy', 'val_loss', 'val_mae', 'val_mse', 'val_accuracy'])\n"
          ],
          "name": "stdout"
        },
        {
          "output_type": "display_data",
          "data": {
            "image/png": "[encoded data removed]",
            "text/plain": [
              "<Figure size 432x288 with 1 Axes>"
            ]
          },
          "metadata": {
            "tags": [],
            "needs_background": "light"
          }
        }
      ]
    },
    {
      "cell_type": "code",
      "metadata": {
        "id": "Kvq1gkdF8Zah",
        "colab_type": "code",
        "colab": {}
      },
      "source": [
        "y_train_pred = model.predict(train_X02)\n",
        "y_test_pred = model.predict(test_X02)"
      ],
      "execution_count": 59,
      "outputs": []
    },
    {
      "cell_type": "code",
      "metadata": {
        "id": "Y-XjI_-G9Uup",
        "colab_type": "code",
        "colab": {
          "base_uri": "https://localhost:8080/",
          "height": 136
        },
        "outputId": "fc46d0fa-88bd-4cfd-f9dd-9618b1e89da1"
      },
      "source": [
        "y_train_pred"
      ],
      "execution_count": 60,
      "outputs": [
        {
          "output_type": "execute_result",
          "data": {
            "text/plain": [
              "array([[-0.50621295, -0.35802978],\n",
              "       [-0.47532454, -0.62667614],\n",
              "       [-0.4474468 , -0.5684817 ],\n",
              "       ...,\n",
              "       [-0.6426643 , -0.39971727],\n",
              "       [-0.60481346, -0.24871473],\n",
              "       [-0.36702356, -0.6696336 ]], dtype=float32)"
            ]
          },
          "metadata": {
            "tags": []
          },
          "execution_count": 60
        }
      ]
    },
    {
      "cell_type": "code",
      "metadata": {
        "id": "72PZFQdi9fEe",
        "colab_type": "code",
        "colab": {
          "base_uri": "https://localhost:8080/",
          "height": 136
        },
        "outputId": "14aa4614-b6c5-4887-f814-035d5b5b572b"
      },
      "source": [
        "train_y02"
      ],
      "execution_count": 61,
      "outputs": [
        {
          "output_type": "execute_result",
          "data": {
            "text/plain": [
              "array([[-0.2, -0.6],\n",
              "       [-0.2, -0.2],\n",
              "       [-0.6, -0.2],\n",
              "       ...,\n",
              "       [-0.2,  0.6],\n",
              "       [-1. ,  0.2],\n",
              "       [-0.2, -1. ]])"
            ]
          },
          "metadata": {
            "tags": []
          },
          "execution_count": 61
        }
      ]
    },
    {
      "cell_type": "markdown",
      "metadata": {
        "id": "d1h3696e8Kdy",
        "colab_type": "text"
      },
      "source": [
        "--------------------------------------------------------------\n",
        "**SECOND MODEL**\n",
        "------------------------------------------------------------------\n"
      ]
    },
    {
      "cell_type": "code",
      "metadata": {
        "id": "Q9q__74KzaYP",
        "colab_type": "code",
        "colab": {}
      },
      "source": [
        "#def build_model():\n",
        " # model= tf.keras.models.Sequential()\n",
        "  #Input Layers\n",
        "  #model.add(tf.keras.layers.Dense(units=21, activation='relu', kernel_initializer='normal', input_shape=(train_X02.shape[1],)))\n",
        "  #Hidden Layers\n",
        "  #model.add(tf.keras.layers.Dense(units=14, activation='relu', kernel_initializer='normal'))\n",
        "  #model.add(tf.keras.layers.Dense(units=12, activation='relu', kernel_initializer='normal'))\n",
        "  #model.add(tf.keras.layers.Dense(units=10, activation='relu', kernel_initializer='normal'))\n",
        "  #model.add(tf.keras.layers.Dense(units=2, activation='linear'))\n",
        "  \n",
        "  #optimizer = tf.keras.optimizers.RMSprop(0.001)\n",
        "\n",
        "  #model.compile(loss='mean_absolute_error', optimizer='adam', metrics=['mae', 'mse','accuracy'])\n",
        "  #return model"
      ],
      "execution_count": 42,
      "outputs": []
    },
    {
      "cell_type": "code",
      "metadata": {
        "id": "LBfUGefSzpAK",
        "colab_type": "code",
        "colab": {
          "base_uri": "https://localhost:8080/",
          "height": 374
        },
        "outputId": "b29fa5e3-a8c8-42f8-d0ad-dad711b9607e"
      },
      "source": [
        "#model = build_model()\n",
        "\n",
        "#EPOCHS = 1000\n",
        "\n",
        "#history = model.fit(\n",
        "  #train_X02, train_y02,\n",
        "  #epochs=EPOCHS, validation_split = 0.2, verbose=0, batch_size=32,\n",
        "  #callbacks=[tfdocs.modeling.EpochDots()])"
      ],
      "execution_count": 43,
      "outputs": [
        {
          "output_type": "stream",
          "text": [
            "\n",
            "Epoch: 0, accuracy:0.7158,  loss:0.4411,  mae:0.4411,  mse:0.2929,  val_accuracy:0.6959,  val_loss:0.3769,  val_mae:0.3769,  val_mse:0.2348,  \n",
            "....................................................................................................\n",
            "Epoch: 100, accuracy:0.6850,  loss:0.3532,  mae:0.3532,  mse:0.2163,  val_accuracy:0.6983,  val_loss:0.3497,  val_mae:0.3497,  val_mse:0.2151,  \n",
            "....................................................................................................\n",
            "Epoch: 200, accuracy:0.6998,  loss:0.3501,  mae:0.3501,  mse:0.2073,  val_accuracy:0.6777,  val_loss:0.3468,  val_mae:0.3468,  val_mse:0.2077,  \n",
            "....................................................................................................\n",
            "Epoch: 300, accuracy:0.7071,  loss:0.3489,  mae:0.3489,  mse:0.2056,  val_accuracy:0.6611,  val_loss:0.3463,  val_mae:0.3463,  val_mse:0.2073,  \n",
            "....................................................................................................\n",
            "Epoch: 400, accuracy:0.7037,  loss:0.3469,  mae:0.3469,  mse:0.2050,  val_accuracy:0.6659,  val_loss:0.3460,  val_mae:0.3460,  val_mse:0.2080,  \n",
            "....................................................................................................\n",
            "Epoch: 500, accuracy:0.7097,  loss:0.3453,  mae:0.3453,  mse:0.2055,  val_accuracy:0.6303,  val_loss:0.3433,  val_mae:0.3433,  val_mse:0.2103,  \n",
            "....................................................................................................\n",
            "Epoch: 600, accuracy:0.6941,  loss:0.3435,  mae:0.3435,  mse:0.2104,  val_accuracy:0.7006,  val_loss:0.3415,  val_mae:0.3415,  val_mse:0.2115,  \n",
            "....................................................................................................\n",
            "Epoch: 700, accuracy:0.6972,  loss:0.3419,  mae:0.3419,  mse:0.2106,  val_accuracy:0.6564,  val_loss:0.3417,  val_mae:0.3417,  val_mse:0.2103,  \n",
            "....................................................................................................\n",
            "Epoch: 800, accuracy:0.6733,  loss:0.3406,  mae:0.3406,  mse:0.2092,  val_accuracy:0.5521,  val_loss:0.3411,  val_mae:0.3411,  val_mse:0.2129,  \n",
            "....................................................................................................\n",
            "Epoch: 900, accuracy:0.6895,  loss:0.3402,  mae:0.3402,  mse:0.2083,  val_accuracy:0.5561,  val_loss:0.3427,  val_mae:0.3427,  val_mse:0.2141,  \n",
            "...................................................................................................."
          ],
          "name": "stdout"
        }
      ]
    },
    {
      "cell_type": "markdown",
      "metadata": {
        "id": "b8hQiGZk6n7c",
        "colab_type": "text"
      },
      "source": [
        "**Using this model, we can see both Validation Loss and Training loss have reduced exponentially**"
      ]
    },
    {
      "cell_type": "code",
      "metadata": {
        "id": "LN8EeFJs1Nfv",
        "colab_type": "code",
        "colab": {
          "base_uri": "https://localhost:8080/",
          "height": 312
        },
        "outputId": "afe5b954-0ea5-4216-e442-3f6762ba9233"
      },
      "source": [
        "#print(history.history.keys())\n",
        "# \"Loss\"\n",
        "#plt.plot(history.history['loss'])\n",
        "#plt.plot(history.history['val_loss'])\n",
        "#plt.title('model loss')\n",
        "#plt.ylabel('loss')\n",
        "#plt.xlabel('epoch')\n",
        "#plt.legend(['train', 'validation'], loc='upper left')\n",
        "#plt.show()"
      ],
      "execution_count": null,
      "outputs": [
        {
          "output_type": "stream",
          "text": [
            "dict_keys(['loss', 'mae', 'mse', 'accuracy', 'val_loss', 'val_mae', 'val_mse', 'val_accuracy'])\n"
          ],
          "name": "stdout"
        },
        {
          "output_type": "display_data",
          "data": {
            "image/png": "[encoded data removed]",
            "text/plain": [
              "<Figure size 432x288 with 1 Axes>"
            ]
          },
          "metadata": {
            "tags": [],
            "needs_background": "light"
          }
        }
      ]
    },
    {
      "cell_type": "markdown",
      "metadata": {
        "id": "GfxJO7idvOZv",
        "colab_type": "text"
      },
      "source": [
        "**PREDICTIONS**"
      ]
    },
    {
      "cell_type": "code",
      "metadata": {
        "id": "P5SQrswant6Q",
        "colab_type": "code",
        "colab": {}
      },
      "source": [
        "y_train_pred = model.predict(train_X02)\n",
        "y_test_pred = model.predict(test_X02)\n"
      ],
      "execution_count": 62,
      "outputs": []
    },
    {
      "cell_type": "code",
      "metadata": {
        "id": "A5EFi3vgnt6S",
        "colab_type": "code",
        "colab": {
          "base_uri": "https://localhost:8080/",
          "height": 136
        },
        "outputId": "aec2ce1e-a814-4c54-dd3b-b30b6a149dff"
      },
      "source": [
        "y_train_pred"
      ],
      "execution_count": 63,
      "outputs": [
        {
          "output_type": "execute_result",
          "data": {
            "text/plain": [
              "array([[-0.50621295, -0.35802978],\n",
              "       [-0.47532454, -0.62667614],\n",
              "       [-0.4474468 , -0.5684817 ],\n",
              "       ...,\n",
              "       [-0.6426643 , -0.39971727],\n",
              "       [-0.60481346, -0.24871473],\n",
              "       [-0.36702356, -0.6696336 ]], dtype=float32)"
            ]
          },
          "metadata": {
            "tags": []
          },
          "execution_count": 63
        }
      ]
    },
    {
      "cell_type": "code",
      "metadata": {
        "id": "KMkrw0csnt6V",
        "colab_type": "code",
        "colab": {
          "base_uri": "https://localhost:8080/",
          "height": 136
        },
        "outputId": "4da0db52-d252-47b6-e4fb-844153daa5c6"
      },
      "source": [
        "train_y02"
      ],
      "execution_count": 64,
      "outputs": [
        {
          "output_type": "execute_result",
          "data": {
            "text/plain": [
              "array([[-0.2, -0.6],\n",
              "       [-0.2, -0.2],\n",
              "       [-0.6, -0.2],\n",
              "       ...,\n",
              "       [-0.2,  0.6],\n",
              "       [-1. ,  0.2],\n",
              "       [-0.2, -1. ]])"
            ]
          },
          "metadata": {
            "tags": []
          },
          "execution_count": 64
        }
      ]
    },
    {
      "cell_type": "code",
      "metadata": {
        "id": "eSbwBNq3nt6X",
        "colab_type": "code",
        "colab": {}
      },
      "source": [
        "# Train: Round and decode predicted value\n",
        "ypredhome_train = np.array([round_pred(val) for val in y_train_pred[:,0]])\n",
        "ypredhome_train = np.array([decode(val) for val in ypredhome_train])\n",
        "\n",
        "ypredaway_train = np.array([round_pred(val) for val in y_train_pred[:,1]])\n",
        "ypredaway_train = np.array([decode(val) for val in ypredaway_train])\n",
        "\n",
        "#decode the goals\n",
        "yorighome_train = np.array([decode(val) for val in train_y02[:,0]])\n",
        "yorigaway_train = np.array([decode(val) for val in train_y02[:,1]])"
      ],
      "execution_count": 65,
      "outputs": []
    },
    {
      "cell_type": "code",
      "metadata": {
        "id": "HVw4jylYnt6a",
        "colab_type": "code",
        "colab": {}
      },
      "source": [
        "# Test: Round and decode predicted value\n",
        "ypredhome_test = np.array([round_pred(val) for val in y_test_pred[:,0]])\n",
        "ypredhome_test = np.array([decode(val) for val in ypredhome_test])\n",
        "\n",
        "ypredaway_test = np.array([round_pred(val) for val in y_test_pred[:,1]])\n",
        "ypredaway_test = np.array([decode(val) for val in ypredaway_test])\n",
        "\n",
        "#decode the goals\n",
        "yorighome_test = np.array([decode(val) for val in test_y02[:,0]])\n",
        "yorigaway_test = np.array([decode(val) for val in test_y02[:,1]])"
      ],
      "execution_count": 48,
      "outputs": []
    },
    {
      "cell_type": "markdown",
      "metadata": {
        "id": "z3g8v3Zh_VSB",
        "colab_type": "text"
      },
      "source": [
        "**QUALITY MODEL**"
      ]
    },
    {
      "cell_type": "code",
      "metadata": {
        "id": "9yCvA3Rpnt6d",
        "colab_type": "code",
        "colab": {}
      },
      "source": [
        "def degree_diff(yoriginal,ypred):\n",
        "    val = abs(yoriginal - ypred)\n",
        "    switcher = {\n",
        "        0: 1, # yoriginal = ypred\n",
        "        1: 0.8, # diff of 1. Exple original 1 predicted 2 => 0.75\n",
        "        2: 0.6,\n",
        "        3: 0.4,\n",
        "        4: 0.2, # diff of 4. Exple original 0 predicted 4\n",
        "        5: 0\n",
        "    }\n",
        "    return switcher.get(val, 0)"
      ],
      "execution_count": 66,
      "outputs": []
    },
    {
      "cell_type": "code",
      "metadata": {
        "id": "Vj9AbU8Cnt6g",
        "colab_type": "code",
        "colab": {
          "base_uri": "https://localhost:8080/",
          "height": 34
        },
        "outputId": "92d6040a-cdb9-4e65-924e-ee79087e443e"
      },
      "source": [
        "quality_model_home_goals=0\n",
        "\n",
        "for valorg,valpred in zip(yorighome_train,ypredhome_train):\n",
        "    quality_model_home_goals += degree_diff(valorg,valpred)\n",
        "    \n",
        "quality_model_home_goals = quality_model_home_goals / len(yorighome_train)\n",
        "print (\"Quality model home goals TRAIN\", quality_model_home_goals)"
      ],
      "execution_count": 67,
      "outputs": [
        {
          "output_type": "stream",
          "text": [
            "Quality model home goals TRAIN 0.8215515879286308\n"
          ],
          "name": "stdout"
        }
      ]
    },
    {
      "cell_type": "code",
      "metadata": {
        "id": "HvwDg6D6nt6j",
        "colab_type": "code",
        "colab": {
          "base_uri": "https://localhost:8080/",
          "height": 34
        },
        "outputId": "e421ab10-5d15-4e72-beb7-d97f63b73380"
      },
      "source": [
        "quality_model_away_goals=0\n",
        "\n",
        "for valorg,valpred in zip(yorigaway_train,ypredaway_train):\n",
        "    quality_model_away_goals += degree_diff(valorg,valpred)\n",
        "    \n",
        "quality_model_away_goals = quality_model_away_goals / len(yorigaway_train)\n",
        "print (\"Quality model away goals TRAIN\", quality_model_away_goals)"
      ],
      "execution_count": 68,
      "outputs": [
        {
          "output_type": "stream",
          "text": [
            "Quality model away goals TRAIN 0.8387738979302126\n"
          ],
          "name": "stdout"
        }
      ]
    },
    {
      "cell_type": "code",
      "metadata": {
        "id": "A6hm7M-Znt6l",
        "colab_type": "code",
        "colab": {
          "base_uri": "https://localhost:8080/",
          "height": 34
        },
        "outputId": "fb471532-ab37-47f4-921d-389dde9d43c3"
      },
      "source": [
        "#TO DO : Improve the final quality\n",
        "\n",
        "#final_quality = (quality_model_home_goals**2 + quality_model_away_goals**2)/4\n",
        "final_quality = (quality_model_home_goals + quality_model_away_goals)/2\n",
        "final_quality"
      ],
      "execution_count": 69,
      "outputs": [
        {
          "output_type": "execute_result",
          "data": {
            "text/plain": [
              "0.8301627429294217"
            ]
          },
          "metadata": {
            "tags": []
          },
          "execution_count": 69
        }
      ]
    },
    {
      "cell_type": "code",
      "metadata": {
        "id": "mK3kS3fbnt6p",
        "colab_type": "code",
        "colab": {
          "base_uri": "https://localhost:8080/",
          "height": 34
        },
        "outputId": "edbcc3e6-86ed-401d-b549-e06b4fd535b2"
      },
      "source": [
        "quality_model_home_goals_test=0\n",
        "\n",
        "for valorg,valpred in zip(yorighome_test,ypredhome_test):\n",
        "    quality_model_home_goals_test += degree_diff(valorg,valpred)\n",
        "    \n",
        "quality_model_home_goals_test = quality_model_home_goals_test / len(yorighome_test)\n",
        "print (\"Quality model home goals TEST\", quality_model_home_goals_test)"
      ],
      "execution_count": 70,
      "outputs": [
        {
          "output_type": "stream",
          "text": [
            "Quality model home goals TEST 0.8130681818181841\n"
          ],
          "name": "stdout"
        }
      ]
    },
    {
      "cell_type": "code",
      "metadata": {
        "id": "qgeEMNJQnt6t",
        "colab_type": "code",
        "colab": {
          "base_uri": "https://localhost:8080/",
          "height": 34
        },
        "outputId": "63f75ffd-3b23-43ec-d070-07e675176910"
      },
      "source": [
        "quality_model_away_goals_test=0\n",
        "\n",
        "for valorg,valpred in zip(yorigaway_test,ypredaway_test):\n",
        "    quality_model_away_goals_test += degree_diff(valorg,valpred)\n",
        "    \n",
        "quality_model_away_goals_test = quality_model_away_goals_test / len(yorigaway_test)\n",
        "print (\"Quality model away goals TEST\", quality_model_away_goals_test)"
      ],
      "execution_count": 71,
      "outputs": [
        {
          "output_type": "stream",
          "text": [
            "Quality model away goals TEST 0.8406250000000014\n"
          ],
          "name": "stdout"
        }
      ]
    },
    {
      "cell_type": "code",
      "metadata": {
        "id": "iXokS5Ntnt6v",
        "colab_type": "code",
        "colab": {
          "base_uri": "https://localhost:8080/",
          "height": 34
        },
        "outputId": "a6c9ccf3-bf03-445c-8044-cfcc87524075"
      },
      "source": [
        "#TO DO : Improve the final quality\n",
        "\n",
        "#final_quality = (quality_model_home_goals**2 + quality_model_away_goals**2)/4\n",
        "final_quality_test = (quality_model_home_goals_test + quality_model_away_goals_test)/2\n",
        "final_quality_test"
      ],
      "execution_count": 72,
      "outputs": [
        {
          "output_type": "execute_result",
          "data": {
            "text/plain": [
              "0.8268465909090927"
            ]
          },
          "metadata": {
            "tags": []
          },
          "execution_count": 72
        }
      ]
    },
    {
      "cell_type": "code",
      "metadata": {
        "id": "aof63nTgnt6x",
        "colab_type": "code",
        "colab": {}
      },
      "source": [
        ""
      ],
      "execution_count": null,
      "outputs": []
    }
  ]
}